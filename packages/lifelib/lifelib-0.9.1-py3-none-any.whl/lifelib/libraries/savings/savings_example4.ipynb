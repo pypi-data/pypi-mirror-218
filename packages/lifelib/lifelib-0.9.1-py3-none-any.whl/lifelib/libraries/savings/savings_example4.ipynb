{
 "cells": [
  {
   "cell_type": "markdown",
   "id": "9400df98",
   "metadata": {},
   "source": [
    "# 4. Profiling and Optimizing the Model\n",
    "\n",
    "This example shows how to profile the `CashValue_ME_EX1` model and how to optimize it. The optimized model is named `CashValue_ME_EX4`, and included in the `savings` library. `CashValue_ME_EX4` is about 4 times faster than `CashValue_ME_EX1`, although the result may be different on different hardware environments.\n",
    "The profiling and model optimization approach shown here is applicable to any models in lifelib that use modelx and heavily depends on pandas.\n",
    "\n",
    "The profiling takes the following steps:\n",
    "* Measure the run time of `CashValue_ME_EX1` using the `timeit` standard library. \n",
    "* Profile the model using the `start_stacktrace`, `get_stacktrace`, `stop_stacktrace` functions of modelx.\n",
    "* Output the profiling result and see what cells are taking time.\n",
    "\n",
    "In this example, time consuming cells are those that are using pandas heavily, so the optimization focuses on replacing pandas DataFrames and Series with numpy arrays and avoiding time-consuming pandas operations.\n",
    "Keep in mind that replacing pandas objects with numpy arrays reduces readability of the data that the model holds. \n",
    "Pandas objects can have more representative indexes compared to integer-intexed numpy arrays.\n",
    "Pandas objects also allow more sphisticated and complex operations on tabular data, so whether to use numpy for speed or pandas for ease of use is a trade-off."
   ]
  },
  {
   "cell_type": "markdown",
   "id": "2330e5ee",
   "metadata": {},
   "source": [
    "## Measuring the runtime of the model\n",
    "\n",
    "The code below loads `CashValue_ME_EX1`, assigns it to `ex1`."
   ]
  },
  {
   "cell_type": "code",
   "execution_count": 1,
   "id": "6ad58376",
   "metadata": {},
   "outputs": [],
   "source": [
    "import timeit\n",
    "import pandas as pd\n",
    "import modelx as mx"
   ]
  },
  {
   "cell_type": "code",
   "execution_count": 2,
   "id": "a1653a3f",
   "metadata": {},
   "outputs": [],
   "source": [
    "ex1 = mx.read_model('CashValue_ME_EX1') "
   ]
  },
  {
   "cell_type": "markdown",
   "id": "987ed9ef",
   "metadata": {},
   "source": [
    "By default, in `CashValue_ME_EX1`, 1 model point on 10,000 scenarios are set, which would require the same calculation load as running 10,000 model points on 1 scenario.\n",
    "\n",
    "The product spec id (`spec_id`) of the default single model point is `A`, which does not have surrender charge. Later in this example, we want to observe how surrender charge rates are looked up based on product specs, so here we change the model point table so that it refers to a table of multiple model points of multiple product specs.\n"
   ]
  },
  {
   "cell_type": "code",
   "execution_count": 3,
   "id": "3065fd30",
   "metadata": {},
   "outputs": [
    {
     "data": {
      "text/html": [
       "<div>\n",
       "<style scoped>\n",
       "    .dataframe tbody tr th:only-of-type {\n",
       "        vertical-align: middle;\n",
       "    }\n",
       "\n",
       "    .dataframe tbody tr th {\n",
       "        vertical-align: top;\n",
       "    }\n",
       "\n",
       "    .dataframe thead th {\n",
       "        text-align: right;\n",
       "    }\n",
       "</style>\n",
       "<table border=\"1\" class=\"dataframe\">\n",
       "  <thead>\n",
       "    <tr style=\"text-align: right;\">\n",
       "      <th></th>\n",
       "      <th>spec_id</th>\n",
       "      <th>age_at_entry</th>\n",
       "      <th>sex</th>\n",
       "      <th>policy_term</th>\n",
       "      <th>policy_count</th>\n",
       "      <th>sum_assured</th>\n",
       "      <th>duration_mth</th>\n",
       "      <th>premium_pp</th>\n",
       "      <th>av_pp_init</th>\n",
       "      <th>accum_prem_init_pp</th>\n",
       "    </tr>\n",
       "    <tr>\n",
       "      <th>point_id</th>\n",
       "      <th></th>\n",
       "      <th></th>\n",
       "      <th></th>\n",
       "      <th></th>\n",
       "      <th></th>\n",
       "      <th></th>\n",
       "      <th></th>\n",
       "      <th></th>\n",
       "      <th></th>\n",
       "      <th></th>\n",
       "    </tr>\n",
       "  </thead>\n",
       "  <tbody>\n",
       "    <tr>\n",
       "      <th>1</th>\n",
       "      <td>A</td>\n",
       "      <td>20</td>\n",
       "      <td>M</td>\n",
       "      <td>10</td>\n",
       "      <td>100</td>\n",
       "      <td>500000</td>\n",
       "      <td>0</td>\n",
       "      <td>500000</td>\n",
       "      <td>0</td>\n",
       "      <td>0</td>\n",
       "    </tr>\n",
       "    <tr>\n",
       "      <th>2</th>\n",
       "      <td>B</td>\n",
       "      <td>20</td>\n",
       "      <td>M</td>\n",
       "      <td>10</td>\n",
       "      <td>100</td>\n",
       "      <td>500000</td>\n",
       "      <td>0</td>\n",
       "      <td>475000</td>\n",
       "      <td>0</td>\n",
       "      <td>0</td>\n",
       "    </tr>\n",
       "    <tr>\n",
       "      <th>3</th>\n",
       "      <td>C</td>\n",
       "      <td>20</td>\n",
       "      <td>M</td>\n",
       "      <td>10</td>\n",
       "      <td>100</td>\n",
       "      <td>500000</td>\n",
       "      <td>0</td>\n",
       "      <td>450000</td>\n",
       "      <td>0</td>\n",
       "      <td>0</td>\n",
       "    </tr>\n",
       "    <tr>\n",
       "      <th>4</th>\n",
       "      <td>D</td>\n",
       "      <td>20</td>\n",
       "      <td>M</td>\n",
       "      <td>10</td>\n",
       "      <td>100</td>\n",
       "      <td>500000</td>\n",
       "      <td>0</td>\n",
       "      <td>425000</td>\n",
       "      <td>0</td>\n",
       "      <td>0</td>\n",
       "    </tr>\n",
       "    <tr>\n",
       "      <th>5</th>\n",
       "      <td>A</td>\n",
       "      <td>20</td>\n",
       "      <td>M</td>\n",
       "      <td>10</td>\n",
       "      <td>100</td>\n",
       "      <td>500000</td>\n",
       "      <td>0</td>\n",
       "      <td>400000</td>\n",
       "      <td>0</td>\n",
       "      <td>0</td>\n",
       "    </tr>\n",
       "    <tr>\n",
       "      <th>6</th>\n",
       "      <td>B</td>\n",
       "      <td>20</td>\n",
       "      <td>M</td>\n",
       "      <td>10</td>\n",
       "      <td>100</td>\n",
       "      <td>500000</td>\n",
       "      <td>0</td>\n",
       "      <td>375000</td>\n",
       "      <td>0</td>\n",
       "      <td>0</td>\n",
       "    </tr>\n",
       "    <tr>\n",
       "      <th>7</th>\n",
       "      <td>C</td>\n",
       "      <td>20</td>\n",
       "      <td>M</td>\n",
       "      <td>10</td>\n",
       "      <td>100</td>\n",
       "      <td>500000</td>\n",
       "      <td>0</td>\n",
       "      <td>350000</td>\n",
       "      <td>0</td>\n",
       "      <td>0</td>\n",
       "    </tr>\n",
       "    <tr>\n",
       "      <th>8</th>\n",
       "      <td>D</td>\n",
       "      <td>20</td>\n",
       "      <td>M</td>\n",
       "      <td>10</td>\n",
       "      <td>100</td>\n",
       "      <td>500000</td>\n",
       "      <td>0</td>\n",
       "      <td>325000</td>\n",
       "      <td>0</td>\n",
       "      <td>0</td>\n",
       "    </tr>\n",
       "    <tr>\n",
       "      <th>9</th>\n",
       "      <td>A</td>\n",
       "      <td>20</td>\n",
       "      <td>M</td>\n",
       "      <td>10</td>\n",
       "      <td>100</td>\n",
       "      <td>500000</td>\n",
       "      <td>0</td>\n",
       "      <td>300000</td>\n",
       "      <td>0</td>\n",
       "      <td>0</td>\n",
       "    </tr>\n",
       "  </tbody>\n",
       "</table>\n",
       "</div>"
      ],
      "text/plain": [
       "         spec_id  age_at_entry sex  policy_term  policy_count  sum_assured  \\\n",
       "point_id                                                                     \n",
       "1              A            20   M           10           100       500000   \n",
       "2              B            20   M           10           100       500000   \n",
       "3              C            20   M           10           100       500000   \n",
       "4              D            20   M           10           100       500000   \n",
       "5              A            20   M           10           100       500000   \n",
       "6              B            20   M           10           100       500000   \n",
       "7              C            20   M           10           100       500000   \n",
       "8              D            20   M           10           100       500000   \n",
       "9              A            20   M           10           100       500000   \n",
       "\n",
       "          duration_mth  premium_pp  av_pp_init  accum_prem_init_pp  \n",
       "point_id                                                            \n",
       "1                    0      500000           0                   0  \n",
       "2                    0      475000           0                   0  \n",
       "3                    0      450000           0                   0  \n",
       "4                    0      425000           0                   0  \n",
       "5                    0      400000           0                   0  \n",
       "6                    0      375000           0                   0  \n",
       "7                    0      350000           0                   0  \n",
       "8                    0      325000           0                   0  \n",
       "9                    0      300000           0                   0  "
      ]
     },
     "execution_count": 3,
     "metadata": {},
     "output_type": "execute_result"
    }
   ],
   "source": [
    "ex1.Projection.model_point_table = ex1.Projection.model_point_moneyness  # Set multiple model points\n",
    "ex1.Projection.model_point_table['spec_id'] = ['A', 'B', 'C', 'D', 'A', 'B', 'C', 'D', 'A'] # Set various spec IDs\n",
    "ex1.Projection.model_point_moneyness"
   ]
  },
  {
   "cell_type": "markdown",
   "id": "d6d06de8",
   "metadata": {},
   "source": [
    "The product specs by `spec_id` are defined in `product_spec_table`. The `is_wl` column indicates whether each type is whole life or not. \n",
    "To save run time and memory, let's set `is_wl` to `False` for all the specs."
   ]
  },
  {
   "cell_type": "code",
   "execution_count": 4,
   "id": "d5eb4181",
   "metadata": {},
   "outputs": [
    {
     "data": {
      "text/html": [
       "<div>\n",
       "<style scoped>\n",
       "    .dataframe tbody tr th:only-of-type {\n",
       "        vertical-align: middle;\n",
       "    }\n",
       "\n",
       "    .dataframe tbody tr th {\n",
       "        vertical-align: top;\n",
       "    }\n",
       "\n",
       "    .dataframe thead th {\n",
       "        text-align: right;\n",
       "    }\n",
       "</style>\n",
       "<table border=\"1\" class=\"dataframe\">\n",
       "  <thead>\n",
       "    <tr style=\"text-align: right;\">\n",
       "      <th></th>\n",
       "      <th>premium_type</th>\n",
       "      <th>has_surr_charge</th>\n",
       "      <th>surr_charge_id</th>\n",
       "      <th>load_prem_rate</th>\n",
       "      <th>is_wl</th>\n",
       "    </tr>\n",
       "    <tr>\n",
       "      <th>spec_id</th>\n",
       "      <th></th>\n",
       "      <th></th>\n",
       "      <th></th>\n",
       "      <th></th>\n",
       "      <th></th>\n",
       "    </tr>\n",
       "  </thead>\n",
       "  <tbody>\n",
       "    <tr>\n",
       "      <th>A</th>\n",
       "      <td>SINGLE</td>\n",
       "      <td>False</td>\n",
       "      <td>NaN</td>\n",
       "      <td>0.00</td>\n",
       "      <td>False</td>\n",
       "    </tr>\n",
       "    <tr>\n",
       "      <th>B</th>\n",
       "      <td>SINGLE</td>\n",
       "      <td>True</td>\n",
       "      <td>type_1</td>\n",
       "      <td>0.00</td>\n",
       "      <td>False</td>\n",
       "    </tr>\n",
       "    <tr>\n",
       "      <th>C</th>\n",
       "      <td>LEVEL</td>\n",
       "      <td>False</td>\n",
       "      <td>NaN</td>\n",
       "      <td>0.10</td>\n",
       "      <td>False</td>\n",
       "    </tr>\n",
       "    <tr>\n",
       "      <th>D</th>\n",
       "      <td>LEVEL</td>\n",
       "      <td>True</td>\n",
       "      <td>type_3</td>\n",
       "      <td>0.05</td>\n",
       "      <td>False</td>\n",
       "    </tr>\n",
       "  </tbody>\n",
       "</table>\n",
       "</div>"
      ],
      "text/plain": [
       "        premium_type  has_surr_charge surr_charge_id  load_prem_rate  is_wl\n",
       "spec_id                                                                    \n",
       "A             SINGLE            False            NaN            0.00  False\n",
       "B             SINGLE             True         type_1            0.00  False\n",
       "C              LEVEL            False            NaN            0.10  False\n",
       "D              LEVEL             True         type_3            0.05  False"
      ]
     },
     "execution_count": 4,
     "metadata": {},
     "output_type": "execute_result"
    }
   ],
   "source": [
    "ex1.Projection.product_spec_table['is_wl'] = False\n",
    "ex1.Projection.product_spec_table"
   ]
  },
  {
   "cell_type": "markdown",
   "id": "ed399067",
   "metadata": {},
   "source": [
    "For the same reason, we reduce the number of scenarios from 10,000 to 1000."
   ]
  },
  {
   "cell_type": "code",
   "execution_count": 5,
   "id": "b40dd116",
   "metadata": {},
   "outputs": [],
   "source": [
    "ex1.Projection.scen_size = 1000"
   ]
  },
  {
   "cell_type": "markdown",
   "id": "3fddf518",
   "metadata": {},
   "source": [
    "Now let's see how much time the model takes for a run. The code below calculates `result_pv()` by measuring the run time by `timeit`. `number=1` indicates the run is performed only once."
   ]
  },
  {
   "cell_type": "code",
   "execution_count": 6,
   "id": "55aaff8b",
   "metadata": {},
   "outputs": [
    {
     "data": {
      "text/plain": [
       "0.915054"
      ]
     },
     "execution_count": 6,
     "metadata": {},
     "output_type": "execute_result"
    }
   ],
   "source": [
    "timeit.timeit('ex1.Projection.result_pv()', globals=globals(), number=1)"
   ]
  },
  {
   "cell_type": "markdown",
   "id": "c2f7976b",
   "metadata": {},
   "source": [
    "Let's output the mean of the present value of net cashflows of `ex1`, as we want to check it against the result of the optimized model."
   ]
  },
  {
   "cell_type": "code",
   "execution_count": 7,
   "id": "2f0e249f",
   "metadata": {},
   "outputs": [
    {
     "data": {
      "text/plain": [
       "44386401.300826035"
      ]
     },
     "execution_count": 7,
     "metadata": {},
     "output_type": "execute_result"
    }
   ],
   "source": [
    "ex1.Projection.result_pv()['Net Cashflow'].mean()"
   ]
  },
  {
   "cell_type": "markdown",
   "id": "30a965a7",
   "metadata": {},
   "source": [
    "## Profiling the run\n",
    "\n",
    "To profile `ex1`, we use modelx's feature to trace a run. modelx offers 3 functions, `start_stacktrace`, `get_stacktrace` and `stop_stacktrace`, to start, output and stop tracing the call stack during a run. \n",
    "The code block below is an idiomatic expression for using the functions:\n",
    "\n",
    "```python\n",
    "try:\n",
    "    mx.start_stacktrace(maxlen=None)\n",
    "    ex1.Projection.result_pv()\n",
    "    df = pd.DataFrame.from_dict(\n",
    "        mx.get_stacktrace(summarize=True), orient=\"index\")\n",
    "finally:\n",
    "    mx.stop_stacktrace()\n",
    "    ex1.clear_all()\n",
    "```\n",
    "\n",
    "In this example, we want more concise output on what cells are taking time and how much, so we define our custom function that profiles and reports a run using the code block above."
   ]
  },
  {
   "cell_type": "code",
   "execution_count": 8,
   "id": "f36620bb",
   "metadata": {},
   "outputs": [],
   "source": [
    "def get_time_info(model):\n",
    "    \n",
    "    try:\n",
    "        mx.start_stacktrace(maxlen=None)\n",
    "        model.Projection.result_pv()\n",
    "        df = pd.DataFrame.from_dict(\n",
    "            mx.get_stacktrace(summarize=True), orient=\"index\")\n",
    "    finally:\n",
    "        mx.stop_stacktrace()\n",
    "        model.clear_all()\n",
    "\n",
    "    # Remove model and space names from index\n",
    "    prefixlen = len(model.name + '.Projection.')\n",
    "    df.index = [s[prefixlen:] for s in df.index]     \n",
    "\n",
    "    # Add duration %\n",
    "    total = df['duration'].sum()\n",
    "    df['dur_perc'] = df['duration'] * 100 / total\n",
    "    df = df[['calls', 'duration', 'dur_perc']]\n",
    "    \n",
    "    return df.sort_values(['dur_perc'], ascending=False)"
   ]
  },
  {
   "cell_type": "markdown",
   "id": "33358fef",
   "metadata": {},
   "source": [
    "The code below performs a profile run, and output 10 most time-consuming cells."
   ]
  },
  {
   "cell_type": "code",
   "execution_count": 9,
   "id": "cc320585",
   "metadata": {},
   "outputs": [
    {
     "name": "stderr",
     "output_type": "stream",
     "text": [
      "UserWarning: call stack trace activated\n",
      "UserWarning: call stack trace deactivated\n"
     ]
    },
    {
     "data": {
      "text/html": [
       "<div>\n",
       "<style scoped>\n",
       "    .dataframe tbody tr th:only-of-type {\n",
       "        vertical-align: middle;\n",
       "    }\n",
       "\n",
       "    .dataframe tbody tr th {\n",
       "        vertical-align: top;\n",
       "    }\n",
       "\n",
       "    .dataframe thead th {\n",
       "        text-align: right;\n",
       "    }\n",
       "</style>\n",
       "<table border=\"1\" class=\"dataframe\">\n",
       "  <thead>\n",
       "    <tr style=\"text-align: right;\">\n",
       "      <th></th>\n",
       "      <th>calls</th>\n",
       "      <th>duration</th>\n",
       "      <th>dur_perc</th>\n",
       "    </tr>\n",
       "  </thead>\n",
       "  <tbody>\n",
       "    <tr>\n",
       "      <th>surr_charge_rate(t)</th>\n",
       "      <td>121</td>\n",
       "      <td>0.529899</td>\n",
       "      <td>42.448094</td>\n",
       "    </tr>\n",
       "    <tr>\n",
       "      <th>premium_pp(t)</th>\n",
       "      <td>121</td>\n",
       "      <td>0.128997</td>\n",
       "      <td>10.333420</td>\n",
       "    </tr>\n",
       "    <tr>\n",
       "      <th>claim_pp(t, kind)</th>\n",
       "      <td>242</td>\n",
       "      <td>0.096036</td>\n",
       "      <td>7.693036</td>\n",
       "    </tr>\n",
       "    <tr>\n",
       "      <th>inv_return_mth(t)</th>\n",
       "      <td>121</td>\n",
       "      <td>0.040032</td>\n",
       "      <td>3.206834</td>\n",
       "    </tr>\n",
       "    <tr>\n",
       "      <th>av_pp_at(t, timing)</th>\n",
       "      <td>485</td>\n",
       "      <td>0.036636</td>\n",
       "      <td>2.934734</td>\n",
       "    </tr>\n",
       "    <tr>\n",
       "      <th>claims(t, kind)</th>\n",
       "      <td>484</td>\n",
       "      <td>0.035000</td>\n",
       "      <td>2.803736</td>\n",
       "    </tr>\n",
       "    <tr>\n",
       "      <th>pols_new_biz(t)</th>\n",
       "      <td>121</td>\n",
       "      <td>0.030402</td>\n",
       "      <td>2.435416</td>\n",
       "    </tr>\n",
       "    <tr>\n",
       "      <th>pols_if_at(t, timing)</th>\n",
       "      <td>364</td>\n",
       "      <td>0.030123</td>\n",
       "      <td>2.413071</td>\n",
       "    </tr>\n",
       "    <tr>\n",
       "      <th>inv_income(t)</th>\n",
       "      <td>121</td>\n",
       "      <td>0.027999</td>\n",
       "      <td>2.242901</td>\n",
       "    </tr>\n",
       "    <tr>\n",
       "      <th>pols_lapse(t)</th>\n",
       "      <td>121</td>\n",
       "      <td>0.027977</td>\n",
       "      <td>2.241144</td>\n",
       "    </tr>\n",
       "  </tbody>\n",
       "</table>\n",
       "</div>"
      ],
      "text/plain": [
       "                       calls  duration   dur_perc\n",
       "surr_charge_rate(t)      121  0.529899  42.448094\n",
       "premium_pp(t)            121  0.128997  10.333420\n",
       "claim_pp(t, kind)        242  0.096036   7.693036\n",
       "inv_return_mth(t)        121  0.040032   3.206834\n",
       "av_pp_at(t, timing)      485  0.036636   2.934734\n",
       "claims(t, kind)          484  0.035000   2.803736\n",
       "pols_new_biz(t)          121  0.030402   2.435416\n",
       "pols_if_at(t, timing)    364  0.030123   2.413071\n",
       "inv_income(t)            121  0.027999   2.242901\n",
       "pols_lapse(t)            121  0.027977   2.241144"
      ]
     },
     "execution_count": 9,
     "metadata": {},
     "output_type": "execute_result"
    }
   ],
   "source": [
    "ex1.clear_all() # Clear the result from the previous run\n",
    "get_time_info(ex1).iloc[:10]"
   ]
  },
  {
   "cell_type": "markdown",
   "id": "3a435fef",
   "metadata": {},
   "source": [
    "The output tells that `surr_charge_rate(t)` is consuming time the most, which is more than 40% of the total run time. Its fomula looks like below.\n",
    "\n",
    "`surr_charge_rate(t)` represents the surrener charge rates to be applied at time `t`. The surrender charge rates are defined by rate ID (such as `type_1`) and duration, and stored in `surr_charge_table` as a DataFrame. "
   ]
  },
  {
   "cell_type": "code",
   "execution_count": 10,
   "id": "cad13801",
   "metadata": {},
   "outputs": [
    {
     "data": {
      "text/html": [
       "<div>\n",
       "<style scoped>\n",
       "    .dataframe tbody tr th:only-of-type {\n",
       "        vertical-align: middle;\n",
       "    }\n",
       "\n",
       "    .dataframe tbody tr th {\n",
       "        vertical-align: top;\n",
       "    }\n",
       "\n",
       "    .dataframe thead th {\n",
       "        text-align: right;\n",
       "    }\n",
       "</style>\n",
       "<table border=\"1\" class=\"dataframe\">\n",
       "  <thead>\n",
       "    <tr style=\"text-align: right;\">\n",
       "      <th></th>\n",
       "      <th>type_1</th>\n",
       "      <th>type_2</th>\n",
       "      <th>type_3</th>\n",
       "    </tr>\n",
       "    <tr>\n",
       "      <th>duration</th>\n",
       "      <th></th>\n",
       "      <th></th>\n",
       "      <th></th>\n",
       "    </tr>\n",
       "  </thead>\n",
       "  <tbody>\n",
       "    <tr>\n",
       "      <th>0</th>\n",
       "      <td>0.10</td>\n",
       "      <td>0.08</td>\n",
       "      <td>0.05</td>\n",
       "    </tr>\n",
       "    <tr>\n",
       "      <th>1</th>\n",
       "      <td>0.09</td>\n",
       "      <td>0.07</td>\n",
       "      <td>0.04</td>\n",
       "    </tr>\n",
       "    <tr>\n",
       "      <th>2</th>\n",
       "      <td>0.08</td>\n",
       "      <td>0.06</td>\n",
       "      <td>0.03</td>\n",
       "    </tr>\n",
       "    <tr>\n",
       "      <th>3</th>\n",
       "      <td>0.07</td>\n",
       "      <td>0.05</td>\n",
       "      <td>0.02</td>\n",
       "    </tr>\n",
       "    <tr>\n",
       "      <th>4</th>\n",
       "      <td>0.06</td>\n",
       "      <td>0.04</td>\n",
       "      <td>0.01</td>\n",
       "    </tr>\n",
       "    <tr>\n",
       "      <th>5</th>\n",
       "      <td>0.05</td>\n",
       "      <td>0.03</td>\n",
       "      <td>0.00</td>\n",
       "    </tr>\n",
       "    <tr>\n",
       "      <th>6</th>\n",
       "      <td>0.04</td>\n",
       "      <td>0.02</td>\n",
       "      <td>0.00</td>\n",
       "    </tr>\n",
       "    <tr>\n",
       "      <th>7</th>\n",
       "      <td>0.03</td>\n",
       "      <td>0.01</td>\n",
       "      <td>0.00</td>\n",
       "    </tr>\n",
       "    <tr>\n",
       "      <th>8</th>\n",
       "      <td>0.02</td>\n",
       "      <td>0.00</td>\n",
       "      <td>0.00</td>\n",
       "    </tr>\n",
       "    <tr>\n",
       "      <th>9</th>\n",
       "      <td>0.01</td>\n",
       "      <td>0.00</td>\n",
       "      <td>0.00</td>\n",
       "    </tr>\n",
       "    <tr>\n",
       "      <th>10</th>\n",
       "      <td>0.00</td>\n",
       "      <td>0.00</td>\n",
       "      <td>0.00</td>\n",
       "    </tr>\n",
       "  </tbody>\n",
       "</table>\n",
       "</div>"
      ],
      "text/plain": [
       "          type_1  type_2  type_3\n",
       "duration                        \n",
       "0           0.10    0.08    0.05\n",
       "1           0.09    0.07    0.04\n",
       "2           0.08    0.06    0.03\n",
       "3           0.07    0.05    0.02\n",
       "4           0.06    0.04    0.01\n",
       "5           0.05    0.03    0.00\n",
       "6           0.04    0.02    0.00\n",
       "7           0.03    0.01    0.00\n",
       "8           0.02    0.00    0.00\n",
       "9           0.01    0.00    0.00\n",
       "10          0.00    0.00    0.00"
      ]
     },
     "execution_count": 10,
     "metadata": {},
     "output_type": "execute_result"
    }
   ],
   "source": [
    "ex1.Projection.surr_charge_table"
   ]
  },
  {
   "cell_type": "markdown",
   "id": "bd219f38",
   "metadata": {},
   "source": [
    "`surr_charge_table_stacked()` transforms the DataFrame into a Series by combining the row and column indexes of the DataFrame into a MultiIndex. "
   ]
  },
  {
   "cell_type": "code",
   "execution_count": 11,
   "id": "423d7635",
   "metadata": {},
   "outputs": [
    {
     "data": {
      "text/plain": [
       "        duration\n",
       "type_1  0           0.10\n",
       "        1           0.09\n",
       "        2           0.08\n",
       "        3           0.07\n",
       "        4           0.06\n",
       "dtype: float64"
      ]
     },
     "execution_count": 11,
     "metadata": {},
     "output_type": "execute_result"
    }
   ],
   "source": [
    "ex1.Projection.surr_charge_table_stacked().head()"
   ]
  },
  {
   "cell_type": "markdown",
   "id": "13981e8f",
   "metadata": {},
   "source": [
    "`surr_charge_rate(t)` looks up `surr_charge_table_stacked()` using a MultiIndex key, which is created from `surr_charge_id()` and `duration(t)` and other cells as in the formula definition below.\n",
    "\n",
    "```python\n",
    "def surr_charge_rate(t):\n",
    "    idx = pd.MultiIndex.from_arrays(\n",
    "        [has_surr_charge() * surr_charge_id(),\n",
    "         np.minimum(duration(t), surr_charge_max_idx())])\n",
    "\n",
    "    return surr_charge_table_stacked().reindex(idx, fill_value=0).set_axis(\n",
    "        model_point().index, inplace=False)\n",
    "```"
   ]
  },
  {
   "cell_type": "markdown",
   "id": "5b35e2ac",
   "metadata": {},
   "source": [
    "Many pandas operations are involved in the formula. We can perform the same operations with much smaller cost by rewriting the formula and other relevant formulas to use numpy arrays instead of DataFrames or Series.\n",
    "Based on this approach, `surr_charge_rate(t)` can be written as:\n",
    "\n",
    "```python\n",
    "def surr_charge_rate(t):\n",
    "    ind_row = np.minimum(duration(t), surr_charge_max_idx())\n",
    "    return surr_charge_table.values.flat[\n",
    "        surr_charge_table_column() + ind_row * len(surr_charge_table.columns)]\n",
    "```\n",
    "\n",
    "where `surr_charge_table_column()` is a newly introduced cells and is defined as follows:\n",
    "\n",
    "```python\n",
    "def surr_charge_table_column():\n",
    "    return surr_charge_table.columns.searchsorted(\n",
    "        surr_charge_id(), side='right') - 1\n",
    "\n",
    "```\n",
    "\n",
    "The new `surr_charge_rate(t)` returns a numpy array for each `t`, instead of a Series. In the same way, we can make other cells return numpy arrays instead of Series or DataFrames. `CashValue_ME_EX4` included in the library is the model to which all the changes are applied to.\n",
    "\n",
    "The linked page below shows the entire comparison of before and after the changes. \n",
    "\n",
    "https://www.diffchecker.com/iseYbXUD/\n",
    "\n",
    "You can see the expression for the returned object has `.values` at the end in many of the changed formulas. The `.values` property on a DataFrame or a Series is for returning the contained values as a numpy array instead of the DataFrame or the Series.\n",
    "\n",
    "Now let's check the speed of the optimized model.\n"
   ]
  },
  {
   "cell_type": "code",
   "execution_count": 12,
   "id": "e9caf8ae",
   "metadata": {},
   "outputs": [
    {
     "data": {
      "text/plain": [
       "0.23962179999999922"
      ]
     },
     "execution_count": 12,
     "metadata": {},
     "output_type": "execute_result"
    }
   ],
   "source": [
    "ex4 = mx.read_model('CashValue_ME_EX4') \n",
    "timeit.timeit('ex4.Projection.result_pv()', globals=globals(), number=1)"
   ]
  },
  {
   "cell_type": "code",
   "execution_count": 13,
   "id": "2053f74a",
   "metadata": {},
   "outputs": [
    {
     "data": {
      "text/plain": [
       "44386401.300826035"
      ]
     },
     "execution_count": 13,
     "metadata": {},
     "output_type": "execute_result"
    }
   ],
   "source": [
    "ex4.Projection.result_pv()['Net Cashflow'].mean()"
   ]
  },
  {
   "cell_type": "code",
   "execution_count": 14,
   "id": "c7fb56da",
   "metadata": {},
   "outputs": [
    {
     "name": "stderr",
     "output_type": "stream",
     "text": [
      "UserWarning: call stack trace activated\n",
      "UserWarning: call stack trace deactivated\n"
     ]
    },
    {
     "data": {
      "text/html": [
       "<div>\n",
       "<style scoped>\n",
       "    .dataframe tbody tr th:only-of-type {\n",
       "        vertical-align: middle;\n",
       "    }\n",
       "\n",
       "    .dataframe tbody tr th {\n",
       "        vertical-align: top;\n",
       "    }\n",
       "\n",
       "    .dataframe thead th {\n",
       "        text-align: right;\n",
       "    }\n",
       "</style>\n",
       "<table border=\"1\" class=\"dataframe\">\n",
       "  <thead>\n",
       "    <tr style=\"text-align: right;\">\n",
       "      <th></th>\n",
       "      <th>calls</th>\n",
       "      <th>duration</th>\n",
       "      <th>dur_perc</th>\n",
       "    </tr>\n",
       "  </thead>\n",
       "  <tbody>\n",
       "    <tr>\n",
       "      <th>pols_lapse(t)</th>\n",
       "      <td>121</td>\n",
       "      <td>0.037503</td>\n",
       "      <td>13.435736</td>\n",
       "    </tr>\n",
       "    <tr>\n",
       "      <th>premium_pp(t)</th>\n",
       "      <td>121</td>\n",
       "      <td>0.023004</td>\n",
       "      <td>8.241311</td>\n",
       "    </tr>\n",
       "    <tr>\n",
       "      <th>surr_charge_rate(t)</th>\n",
       "      <td>121</td>\n",
       "      <td>0.023000</td>\n",
       "      <td>8.240116</td>\n",
       "    </tr>\n",
       "    <tr>\n",
       "      <th>av_pp_at(t, timing)</th>\n",
       "      <td>485</td>\n",
       "      <td>0.018002</td>\n",
       "      <td>6.449362</td>\n",
       "    </tr>\n",
       "    <tr>\n",
       "      <th>claims(t, kind)</th>\n",
       "      <td>484</td>\n",
       "      <td>0.014502</td>\n",
       "      <td>5.195450</td>\n",
       "    </tr>\n",
       "    <tr>\n",
       "      <th>pols_if_at(t, timing)</th>\n",
       "      <td>364</td>\n",
       "      <td>0.011003</td>\n",
       "      <td>3.941879</td>\n",
       "    </tr>\n",
       "    <tr>\n",
       "      <th>pv_claims(kind)</th>\n",
       "      <td>4</td>\n",
       "      <td>0.010003</td>\n",
       "      <td>3.583729</td>\n",
       "    </tr>\n",
       "    <tr>\n",
       "      <th>lapse_rate(t)</th>\n",
       "      <td>121</td>\n",
       "      <td>0.009001</td>\n",
       "      <td>3.224894</td>\n",
       "    </tr>\n",
       "    <tr>\n",
       "      <th>expenses(t)</th>\n",
       "      <td>121</td>\n",
       "      <td>0.008003</td>\n",
       "      <td>2.867000</td>\n",
       "    </tr>\n",
       "    <tr>\n",
       "      <th>inv_income(t)</th>\n",
       "      <td>121</td>\n",
       "      <td>0.007999</td>\n",
       "      <td>2.865804</td>\n",
       "    </tr>\n",
       "  </tbody>\n",
       "</table>\n",
       "</div>"
      ],
      "text/plain": [
       "                       calls  duration   dur_perc\n",
       "pols_lapse(t)            121  0.037503  13.435736\n",
       "premium_pp(t)            121  0.023004   8.241311\n",
       "surr_charge_rate(t)      121  0.023000   8.240116\n",
       "av_pp_at(t, timing)      485  0.018002   6.449362\n",
       "claims(t, kind)          484  0.014502   5.195450\n",
       "pols_if_at(t, timing)    364  0.011003   3.941879\n",
       "pv_claims(kind)            4  0.010003   3.583729\n",
       "lapse_rate(t)            121  0.009001   3.224894\n",
       "expenses(t)              121  0.008003   2.867000\n",
       "inv_income(t)            121  0.007999   2.865804"
      ]
     },
     "execution_count": 14,
     "metadata": {},
     "output_type": "execute_result"
    }
   ],
   "source": [
    "ex4.clear_all() # Clear the result from the previous run\n",
    "get_time_info(ex4).iloc[:10]"
   ]
  }
 ],
 "metadata": {
  "kernelspec": {
   "display_name": "Python 3 (ipykernel)",
   "language": "python",
   "name": "python3"
  },
  "language_info": {
   "codemirror_mode": {
    "name": "ipython",
    "version": 3
   },
   "file_extension": ".py",
   "mimetype": "text/x-python",
   "name": "python",
   "nbconvert_exporter": "python",
   "pygments_lexer": "ipython3",
   "version": "3.9.7"
  }
 },
 "nbformat": 4,
 "nbformat_minor": 5
}
