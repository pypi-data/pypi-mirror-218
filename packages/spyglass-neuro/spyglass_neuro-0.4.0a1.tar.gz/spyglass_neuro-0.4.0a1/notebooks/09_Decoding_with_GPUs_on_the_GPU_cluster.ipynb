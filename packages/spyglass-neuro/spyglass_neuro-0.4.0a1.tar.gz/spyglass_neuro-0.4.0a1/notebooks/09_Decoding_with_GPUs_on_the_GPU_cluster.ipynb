{
 "cells": [
  {
   "cell_type": "markdown",
   "id": "1211e93c",
   "metadata": {},
   "source": [
    "## GPU"
   ]
  },
  {
   "cell_type": "markdown",
   "id": "c5e889b6-ee51-4208-8c2d-4b7e3ed5a4ce",
   "metadata": {},
   "source": [
    "### How do I access the GPU clusters?\n",
    "+ We have two GPU clusters:\n",
    "    + `breeze`\n",
    "    + `zephyr`\n",
    "+ You can ssh to them using the following commands: `ssh username@breeze.cin.ucsf.edu` or `ssh username@zephyr.cin.ucsf.edu`\n",
    "    + NOTE: You don’t need to specify the port like on the virgas (it is the default port 22)\n",
    "+ There are currently 10 available GPUs and each GPU can be referred to by their IDs which starts at 0 and end at 9\n",
    "+ Each GPU has 80 GB of RAM\n",
    "\n",
    "\n",
    "### How do I select a GPU to use?\n",
    "To use GPU decoding, you first must install `cupy`. The best way to do this is via conda because it takes care of the installing the correct cuda-toolkit:\n",
    "```bash\n",
    "conda install cupy\n",
    "```\n",
    "\n",
    "Next you will want to select a single GPU for decoding. You can accomplish this using  `cp.cuda.Device(GPU_ID)` with a context manager (the `with` statement). Warning: if you don't use the context manager, cupy will default to using GPU 0.\n",
    "\n",
    "For example, This runs the indented code on GPU #6."
   ]
  },
  {
   "cell_type": "code",
   "execution_count": 1,
   "id": "cfc7dcb9-e7fa-4a71-a8ae-185bab7f2481",
   "metadata": {},
   "outputs": [
    {
     "name": "stderr",
     "output_type": "stream",
     "text": [
      "04-Jun-22 09:36:07 Fitting initial conditions...\n",
      "04-Jun-22 09:36:07 Fitting continuous state transition...\n",
      "04-Jun-22 09:36:07 Fitting discrete state transition\n",
      "04-Jun-22 09:36:07 Fitting place fields...\n"
     ]
    },
    {
     "data": {
      "application/vnd.jupyter.widget-view+json": {
       "model_id": "cb9def49ec5c40e0b974cd5768839057",
       "version_major": 2,
       "version_minor": 0
      },
      "text/plain": [
       "  0%|          | 0/19 [00:00<?, ?it/s]"
      ]
     },
     "metadata": {},
     "output_type": "display_data"
    },
    {
     "name": "stderr",
     "output_type": "stream",
     "text": [
      "04-Jun-22 09:36:08 Estimating likelihood...\n"
     ]
    },
    {
     "data": {
      "application/vnd.jupyter.widget-view+json": {
       "model_id": "eb83255d0b4d4fdb918991571f8e64fb",
       "version_major": 2,
       "version_minor": 0
      },
      "text/plain": [
       "  0%|          | 0/19 [00:00<?, ?it/s]"
      ]
     },
     "metadata": {},
     "output_type": "display_data"
    },
    {
     "name": "stderr",
     "output_type": "stream",
     "text": [
      "04-Jun-22 09:36:08 Estimating causal posterior...\n",
      "04-Jun-22 09:36:10 Estimating acausal posterior...\n"
     ]
    }
   ],
   "source": [
    "import logging\n",
    "\n",
    "import cupy as cp\n",
    "import numpy as np\n",
    "\n",
    "from replay_trajectory_classification import SortedSpikesClassifier\n",
    "from replay_trajectory_classification.sorted_spikes_simulation import (\n",
    "    make_simulated_run_data,\n",
    "    make_continuous_replay,\n",
    ")\n",
    "from replay_trajectory_classification.environments import Environment\n",
    "from replay_trajectory_classification.continuous_state_transitions import (\n",
    "    RandomWalk,\n",
    "    Uniform,\n",
    "    Identity,\n",
    "    estimate_movement_var,\n",
    ")\n",
    "\n",
    "# Set up logging message formatting\n",
    "logging.basicConfig(\n",
    "    level=\"INFO\", format=\"%(asctime)s %(message)s\", datefmt=\"%d-%b-%y %H:%M:%S\"\n",
    ")\n",
    "\n",
    "\n",
    "# Create simulated data\n",
    "(\n",
    "    time,\n",
    "    position,\n",
    "    sampling_frequency,\n",
    "    spikes,\n",
    "    place_fields,\n",
    ") = make_simulated_run_data()\n",
    "\n",
    "replay_time, test_spikes = make_continuous_replay()\n",
    "\n",
    "# Set up classifier\n",
    "movement_var = estimate_movement_var(position, sampling_frequency)\n",
    "\n",
    "environment = Environment(place_bin_size=np.sqrt(movement_var))\n",
    "continuous_transition_types = [\n",
    "    [RandomWalk(movement_var=movement_var * 120), Uniform(), Identity()],\n",
    "    [Uniform(), Uniform(), Uniform()],\n",
    "    [RandomWalk(movement_var=movement_var * 120), Uniform(), Identity()],\n",
    "]\n",
    "classifier = SortedSpikesClassifier(\n",
    "    environments=environment,\n",
    "    continuous_transition_types=continuous_transition_types,\n",
    "    sorted_spikes_algorithm=\"spiking_likelihood_kde_gpu\",  # specify GPU enabled algorithm for the likelihood\n",
    "    sorted_spikes_algorithm_params={\"position_std\": 3.0},\n",
    ")\n",
    "state_names = [\"continuous\", \"fragmented\", \"stationary\"]\n",
    "\n",
    "# Use GPU #6\n",
    "GPU_ID = 5\n",
    "\n",
    "# use context manager to specify which GPU (device)\n",
    "with cp.cuda.Device(GPU_ID):\n",
    "    # Fit the model place fields\n",
    "    classifier.fit(position, spikes)\n",
    "\n",
    "    # Run the model on the simulated replay\n",
    "    results = classifier.predict(\n",
    "        test_spikes,\n",
    "        time=replay_time,\n",
    "        state_names=state_names,\n",
    "        use_gpu=True,  # Also need to specify use of GPU for the computation of the causal and acausal posterior\n",
    "    )"
   ]
  },
  {
   "cell_type": "markdown",
   "id": "c99f4e45-1425-47f5-9eb1-85274497c75d",
   "metadata": {},
   "source": [
    "### Which GPU should I use?\n",
    "You can see which GPUs are occupied by running `nvidia-smi` in the command line\n",
    "or alternatively `!nvidia-smi` in a jupyter notebook. Pick a GPU with low memory usage. For example, in the below output, GPUs 1, 4, 6, and 7 are probably not in use because they have low memory utilization. In addition, the power should be around 42W if not in use:"
   ]
  },
  {
   "cell_type": "code",
   "execution_count": 2,
   "id": "6770ca3e-1df7-4dc1-8758-af42f61ec817",
   "metadata": {},
   "outputs": [
    {
     "name": "stdout",
     "output_type": "stream",
     "text": [
      "Sat Jun  4 09:37:07 2022       \n",
      "+-----------------------------------------------------------------------------+\n",
      "| NVIDIA-SMI 510.47.03    Driver Version: 510.47.03    CUDA Version: 11.6     |\n",
      "|-------------------------------+----------------------+----------------------+\n",
      "| GPU  Name        Persistence-M| Bus-Id        Disp.A | Volatile Uncorr. ECC |\n",
      "| Fan  Temp  Perf  Pwr:Usage/Cap|         Memory-Usage | GPU-Util  Compute M. |\n",
      "|                               |                      |               MIG M. |\n",
      "|===============================+======================+======================|\n",
      "|   0  NVIDIA A100 80G...  On   | 00000000:4F:00.0 Off |                    0 |\n",
      "| N/A   30C    P0    42W / 300W |     38MiB / 81920MiB |      0%      Default |\n",
      "|                               |                      |             Disabled |\n",
      "+-------------------------------+----------------------+----------------------+\n",
      "|   1  NVIDIA A100 80G...  On   | 00000000:52:00.0 Off |                    0 |\n",
      "| N/A   32C    P0    43W / 300W |     38MiB / 81920MiB |      0%      Default |\n",
      "|                               |                      |             Disabled |\n",
      "+-------------------------------+----------------------+----------------------+\n",
      "|   2  NVIDIA A100 80G...  On   | 00000000:53:00.0 Off |                    0 |\n",
      "| N/A   32C    P0    62W / 300W |  32271MiB / 81920MiB |      0%      Default |\n",
      "|                               |                      |             Disabled |\n",
      "+-------------------------------+----------------------+----------------------+\n",
      "|   3  NVIDIA A100 80G...  On   | 00000000:56:00.0 Off |                    0 |\n",
      "| N/A   29C    P0    41W / 300W |     38MiB / 81920MiB |      0%      Default |\n",
      "|                               |                      |             Disabled |\n",
      "+-------------------------------+----------------------+----------------------+\n",
      "|   4  NVIDIA A100 80G...  On   | 00000000:57:00.0 Off |                    0 |\n",
      "| N/A   30C    P0    44W / 300W |     38MiB / 81920MiB |      0%      Default |\n",
      "|                               |                      |             Disabled |\n",
      "+-------------------------------+----------------------+----------------------+\n",
      "|   5  NVIDIA A100 80G...  On   | 00000000:CE:00.0 Off |                    0 |\n",
      "| N/A   32C    P0    64W / 300W |    855MiB / 81920MiB |      0%      Default |\n",
      "|                               |                      |             Disabled |\n",
      "+-------------------------------+----------------------+----------------------+\n",
      "|   6  NVIDIA A100 80G...  On   | 00000000:D1:00.0 Off |                    0 |\n",
      "| N/A   31C    P0    42W / 300W |     38MiB / 81920MiB |      0%      Default |\n",
      "|                               |                      |             Disabled |\n",
      "+-------------------------------+----------------------+----------------------+\n",
      "|   7  NVIDIA A100 80G...  On   | 00000000:D2:00.0 Off |                    0 |\n",
      "| N/A   29C    P0    43W / 300W |     38MiB / 81920MiB |      0%      Default |\n",
      "|                               |                      |             Disabled |\n",
      "+-------------------------------+----------------------+----------------------+\n",
      "|   8  NVIDIA A100 80G...  On   | 00000000:D5:00.0 Off |                    0 |\n",
      "| N/A   31C    P0    42W / 300W |     38MiB / 81920MiB |      0%      Default |\n",
      "|                               |                      |             Disabled |\n",
      "+-------------------------------+----------------------+----------------------+\n",
      "|   9  NVIDIA A100 80G...  On   | 00000000:D6:00.0 Off |                    0 |\n",
      "| N/A   32C    P0    44W / 300W |     38MiB / 81920MiB |      0%      Default |\n",
      "|                               |                      |             Disabled |\n",
      "+-------------------------------+----------------------+----------------------+\n",
      "                                                                               \n",
      "+-----------------------------------------------------------------------------+\n",
      "| Processes:                                                                  |\n",
      "|  GPU   GI   CI        PID   Type   Process name                  GPU Memory |\n",
      "|        ID   ID                                                   Usage      |\n",
      "|=============================================================================|\n",
      "|    0   N/A  N/A      4198      G   /usr/lib/xorg/Xorg                 35MiB |\n",
      "|    1   N/A  N/A      4198      G   /usr/lib/xorg/Xorg                 35MiB |\n",
      "|    2   N/A  N/A      4198      G   /usr/lib/xorg/Xorg                 35MiB |\n",
      "|    2   N/A  N/A   3646915      C   .../envs/spyglass/bin/python    32199MiB |\n",
      "|    3   N/A  N/A      4198      G   /usr/lib/xorg/Xorg                 35MiB |\n",
      "|    4   N/A  N/A      4198      G   /usr/lib/xorg/Xorg                 35MiB |\n",
      "|    5   N/A  N/A      4198      G   /usr/lib/xorg/Xorg                 35MiB |\n",
      "|    5   N/A  N/A   3645824      C   .../envs/spyglass/bin/python      817MiB |\n",
      "|    6   N/A  N/A      4198      G   /usr/lib/xorg/Xorg                 35MiB |\n",
      "|    7   N/A  N/A      4198      G   /usr/lib/xorg/Xorg                 35MiB |\n",
      "|    8   N/A  N/A      4198      G   /usr/lib/xorg/Xorg                 35MiB |\n",
      "|    9   N/A  N/A      4198      G   /usr/lib/xorg/Xorg                 35MiB |\n",
      "+-----------------------------------------------------------------------------+\n"
     ]
    }
   ],
   "source": [
    "!nvidia-smi"
   ]
  },
  {
   "cell_type": "markdown",
   "id": "675a940b-6d6f-4e8f-940d-f6620ce00410",
   "metadata": {},
   "source": [
    "You can also monitor their usage by using `watch -n 0.1 nvidia-smi` which will update `nvidia-smi` every 100 ms. This is best to monitor in the terminal because jupyter notebook won't display the updates.\n",
    "\n",
    "Other ways to monitor GPU usage are:\n",
    "+ https://github.com/rapidsai/jupyterlab-nvdashboard: a jupyter widget by nvidia to monitor GPU usage in the notebook\n",
    "+ https://github.com/peci1/nvidia-htop: a terminal program like nvidia-smi with more information about which users are utilizing the GPUs and which GPUs are being utilized."
   ]
  },
  {
   "cell_type": "markdown",
   "id": "befa7dae-e9e2-440a-9094-79545dbd62ac",
   "metadata": {},
   "source": [
    "\n",
    "### How do I use multiple GPUs at once?\n",
    "To use multiple GPUs, you need to install the `dask_cuda` package with conda:\n",
    "```bash\n",
    "conda install -c rapidsai -c nvidia -c conda-forge dask-cuda\n",
    "```\n",
    "\n",
    "Next you will set up a client, which controls which GPUs will be used. By default, this will use all the GPUs you have, but if you want to use specific GPUs, you accomplish this using the `CUDA_VISIBLE_DEVICES` argument like so:"
   ]
  },
  {
   "cell_type": "code",
   "execution_count": 3,
   "id": "f3a205de-5bfc-4abe-8997-e5b895f26020",
   "metadata": {},
   "outputs": [
    {
     "name": "stderr",
     "output_type": "stream",
     "text": [
      "2022-05-18 13:50:10,288 - distributed.diskutils - INFO - Found stale lock file and directory '/stelmo/edeno/nwb_datajoint/notebooks/dask-worker-space/worker-ly7bpyy1', purging\n",
      "2022-05-18 13:50:10,296 - distributed.diskutils - INFO - Found stale lock file and directory '/stelmo/edeno/nwb_datajoint/notebooks/dask-worker-space/worker-n6nteep3', purging\n",
      "2022-05-18 13:50:10,302 - distributed.diskutils - INFO - Found stale lock file and directory '/stelmo/edeno/nwb_datajoint/notebooks/dask-worker-space/worker-okcse855', purging\n",
      "2022-05-18 13:50:10,305 - distributed.preloading - INFO - Import preload module: dask_cuda.initialize\n",
      "2022-05-18 13:50:10,313 - distributed.preloading - INFO - Import preload module: dask_cuda.initialize\n",
      "2022-05-18 13:50:10,319 - distributed.preloading - INFO - Import preload module: dask_cuda.initialize\n"
     ]
    },
    {
     "data": {
      "text/html": [
       "<div>\n",
       "    <div style=\"width: 24px; height: 24px; background-color: #e1e1e1; border: 3px solid #9D9D9D; border-radius: 5px; position: absolute;\"> </div>\n",
       "    <div style=\"margin-left: 48px;\">\n",
       "        <h3 style=\"margin-bottom: 0px;\">Client</h3>\n",
       "        <p style=\"color: #9D9D9D; margin-bottom: 0px;\">Client-1c4b4a29-d6ec-11ec-9abe-3cecef615bf0</p>\n",
       "        <table style=\"width: 100%; text-align: left;\">\n",
       "\n",
       "        <tr>\n",
       "        \n",
       "            <td style=\"text-align: left;\"><strong>Connection method:</strong> Cluster object</td>\n",
       "            <td style=\"text-align: left;\"><strong>Cluster type:</strong> dask_cuda.LocalCUDACluster</td>\n",
       "        \n",
       "        </tr>\n",
       "\n",
       "        \n",
       "            <tr>\n",
       "                <td style=\"text-align: left;\">\n",
       "                    <strong>Dashboard: </strong> <a href=\"http://127.0.0.1:8787/status\" target=\"_blank\">http://127.0.0.1:8787/status</a>\n",
       "                </td>\n",
       "                <td style=\"text-align: left;\"></td>\n",
       "            </tr>\n",
       "        \n",
       "\n",
       "        </table>\n",
       "\n",
       "        \n",
       "            <details>\n",
       "            <summary style=\"margin-bottom: 20px;\"><h3 style=\"display: inline;\">Cluster Info</h3></summary>\n",
       "            <div class=\"jp-RenderedHTMLCommon jp-RenderedHTML jp-mod-trusted jp-OutputArea-output\">\n",
       "    <div style=\"width: 24px; height: 24px; background-color: #e1e1e1; border: 3px solid #9D9D9D; border-radius: 5px; position: absolute;\">\n",
       "    </div>\n",
       "    <div style=\"margin-left: 48px;\">\n",
       "        <h3 style=\"margin-bottom: 0px; margin-top: 0px;\">LocalCUDACluster</h3>\n",
       "        <p style=\"color: #9D9D9D; margin-bottom: 0px;\">096db37c</p>\n",
       "        <table style=\"width: 100%; text-align: left;\">\n",
       "            <tr>\n",
       "                <td style=\"text-align: left;\">\n",
       "                    <strong>Dashboard:</strong> <a href=\"http://127.0.0.1:8787/status\" target=\"_blank\">http://127.0.0.1:8787/status</a>\n",
       "                </td>\n",
       "                <td style=\"text-align: left;\">\n",
       "                    <strong>Workers:</strong> 3\n",
       "                </td>\n",
       "            </tr>\n",
       "            <tr>\n",
       "                <td style=\"text-align: left;\">\n",
       "                    <strong>Total threads:</strong> 3\n",
       "                </td>\n",
       "                <td style=\"text-align: left;\">\n",
       "                    <strong>Total memory:</strong> 3.94 TiB\n",
       "                </td>\n",
       "            </tr>\n",
       "            \n",
       "            <tr>\n",
       "    <td style=\"text-align: left;\"><strong>Status:</strong> running</td>\n",
       "    <td style=\"text-align: left;\"><strong>Using processes:</strong> True</td>\n",
       "</tr>\n",
       "\n",
       "            \n",
       "        </table>\n",
       "\n",
       "        <details>\n",
       "            <summary style=\"margin-bottom: 20px;\">\n",
       "                <h3 style=\"display: inline;\">Scheduler Info</h3>\n",
       "            </summary>\n",
       "\n",
       "            <div style=\"\">\n",
       "    <div>\n",
       "        <div style=\"width: 24px; height: 24px; background-color: #FFF7E5; border: 3px solid #FF6132; border-radius: 5px; position: absolute;\"> </div>\n",
       "        <div style=\"margin-left: 48px;\">\n",
       "            <h3 style=\"margin-bottom: 0px;\">Scheduler</h3>\n",
       "            <p style=\"color: #9D9D9D; margin-bottom: 0px;\">Scheduler-9287d258-c1ff-4d5a-8e3c-2a66ca163173</p>\n",
       "            <table style=\"width: 100%; text-align: left;\">\n",
       "                <tr>\n",
       "                    <td style=\"text-align: left;\">\n",
       "                        <strong>Comm:</strong> tcp://127.0.0.1:37725\n",
       "                    </td>\n",
       "                    <td style=\"text-align: left;\">\n",
       "                        <strong>Workers:</strong> 3\n",
       "                    </td>\n",
       "                </tr>\n",
       "                <tr>\n",
       "                    <td style=\"text-align: left;\">\n",
       "                        <strong>Dashboard:</strong> <a href=\"http://127.0.0.1:8787/status\" target=\"_blank\">http://127.0.0.1:8787/status</a>\n",
       "                    </td>\n",
       "                    <td style=\"text-align: left;\">\n",
       "                        <strong>Total threads:</strong> 3\n",
       "                    </td>\n",
       "                </tr>\n",
       "                <tr>\n",
       "                    <td style=\"text-align: left;\">\n",
       "                        <strong>Started:</strong> Just now\n",
       "                    </td>\n",
       "                    <td style=\"text-align: left;\">\n",
       "                        <strong>Total memory:</strong> 3.94 TiB\n",
       "                    </td>\n",
       "                </tr>\n",
       "            </table>\n",
       "        </div>\n",
       "    </div>\n",
       "\n",
       "    <details style=\"margin-left: 48px;\">\n",
       "        <summary style=\"margin-bottom: 20px;\">\n",
       "            <h3 style=\"display: inline;\">Workers</h3>\n",
       "        </summary>\n",
       "\n",
       "        \n",
       "        <div style=\"margin-bottom: 20px;\">\n",
       "            <div style=\"width: 24px; height: 24px; background-color: #DBF5FF; border: 3px solid #4CC9FF; border-radius: 5px; position: absolute;\"> </div>\n",
       "            <div style=\"margin-left: 48px;\">\n",
       "            <details>\n",
       "                <summary>\n",
       "                    <h4 style=\"margin-bottom: 0px; display: inline;\">Worker: 4</h4>\n",
       "                </summary>\n",
       "                <table style=\"width: 100%; text-align: left;\">\n",
       "                    <tr>\n",
       "                        <td style=\"text-align: left;\">\n",
       "                            <strong>Comm: </strong> tcp://127.0.0.1:35731\n",
       "                        </td>\n",
       "                        <td style=\"text-align: left;\">\n",
       "                            <strong>Total threads: </strong> 1\n",
       "                        </td>\n",
       "                    </tr>\n",
       "                    <tr>\n",
       "                        <td style=\"text-align: left;\">\n",
       "                            <strong>Dashboard: </strong> <a href=\"http://127.0.0.1:46067/status\" target=\"_blank\">http://127.0.0.1:46067/status</a>\n",
       "                        </td>\n",
       "                        <td style=\"text-align: left;\">\n",
       "                            <strong>Memory: </strong> 1.31 TiB\n",
       "                        </td>\n",
       "                    </tr>\n",
       "                    <tr>\n",
       "                        <td style=\"text-align: left;\">\n",
       "                            <strong>Nanny: </strong> tcp://127.0.0.1:34151\n",
       "                        </td>\n",
       "                        <td style=\"text-align: left;\"></td>\n",
       "                    </tr>\n",
       "                    <tr>\n",
       "                        <td colspan=\"2\" style=\"text-align: left;\">\n",
       "                            <strong>Local directory: </strong> /stelmo/edeno/nwb_datajoint/notebooks/dask-worker-space/worker-n17o941r\n",
       "                        </td>\n",
       "                    </tr>\n",
       "\n",
       "                    \n",
       "                    <tr>\n",
       "                        <td style=\"text-align: left;\">\n",
       "                            <strong>GPU: </strong>NVIDIA A100 80GB PCIe\n",
       "                        </td>\n",
       "                        <td style=\"text-align: left;\">\n",
       "                            <strong>GPU memory: </strong> 80.00 GiB\n",
       "                        </td>\n",
       "                    </tr>\n",
       "                    \n",
       "\n",
       "                    \n",
       "\n",
       "                </table>\n",
       "            </details>\n",
       "            </div>\n",
       "        </div>\n",
       "        \n",
       "        <div style=\"margin-bottom: 20px;\">\n",
       "            <div style=\"width: 24px; height: 24px; background-color: #DBF5FF; border: 3px solid #4CC9FF; border-radius: 5px; position: absolute;\"> </div>\n",
       "            <div style=\"margin-left: 48px;\">\n",
       "            <details>\n",
       "                <summary>\n",
       "                    <h4 style=\"margin-bottom: 0px; display: inline;\">Worker: 5</h4>\n",
       "                </summary>\n",
       "                <table style=\"width: 100%; text-align: left;\">\n",
       "                    <tr>\n",
       "                        <td style=\"text-align: left;\">\n",
       "                            <strong>Comm: </strong> tcp://127.0.0.1:39549\n",
       "                        </td>\n",
       "                        <td style=\"text-align: left;\">\n",
       "                            <strong>Total threads: </strong> 1\n",
       "                        </td>\n",
       "                    </tr>\n",
       "                    <tr>\n",
       "                        <td style=\"text-align: left;\">\n",
       "                            <strong>Dashboard: </strong> <a href=\"http://127.0.0.1:42725/status\" target=\"_blank\">http://127.0.0.1:42725/status</a>\n",
       "                        </td>\n",
       "                        <td style=\"text-align: left;\">\n",
       "                            <strong>Memory: </strong> 1.31 TiB\n",
       "                        </td>\n",
       "                    </tr>\n",
       "                    <tr>\n",
       "                        <td style=\"text-align: left;\">\n",
       "                            <strong>Nanny: </strong> tcp://127.0.0.1:41769\n",
       "                        </td>\n",
       "                        <td style=\"text-align: left;\"></td>\n",
       "                    </tr>\n",
       "                    <tr>\n",
       "                        <td colspan=\"2\" style=\"text-align: left;\">\n",
       "                            <strong>Local directory: </strong> /stelmo/edeno/nwb_datajoint/notebooks/dask-worker-space/worker-ppy7ls9e\n",
       "                        </td>\n",
       "                    </tr>\n",
       "\n",
       "                    \n",
       "                    <tr>\n",
       "                        <td style=\"text-align: left;\">\n",
       "                            <strong>GPU: </strong>NVIDIA A100 80GB PCIe\n",
       "                        </td>\n",
       "                        <td style=\"text-align: left;\">\n",
       "                            <strong>GPU memory: </strong> 80.00 GiB\n",
       "                        </td>\n",
       "                    </tr>\n",
       "                    \n",
       "\n",
       "                    \n",
       "\n",
       "                </table>\n",
       "            </details>\n",
       "            </div>\n",
       "        </div>\n",
       "        \n",
       "        <div style=\"margin-bottom: 20px;\">\n",
       "            <div style=\"width: 24px; height: 24px; background-color: #DBF5FF; border: 3px solid #4CC9FF; border-radius: 5px; position: absolute;\"> </div>\n",
       "            <div style=\"margin-left: 48px;\">\n",
       "            <details>\n",
       "                <summary>\n",
       "                    <h4 style=\"margin-bottom: 0px; display: inline;\">Worker: 6</h4>\n",
       "                </summary>\n",
       "                <table style=\"width: 100%; text-align: left;\">\n",
       "                    <tr>\n",
       "                        <td style=\"text-align: left;\">\n",
       "                            <strong>Comm: </strong> tcp://127.0.0.1:39335\n",
       "                        </td>\n",
       "                        <td style=\"text-align: left;\">\n",
       "                            <strong>Total threads: </strong> 1\n",
       "                        </td>\n",
       "                    </tr>\n",
       "                    <tr>\n",
       "                        <td style=\"text-align: left;\">\n",
       "                            <strong>Dashboard: </strong> <a href=\"http://127.0.0.1:34189/status\" target=\"_blank\">http://127.0.0.1:34189/status</a>\n",
       "                        </td>\n",
       "                        <td style=\"text-align: left;\">\n",
       "                            <strong>Memory: </strong> 1.31 TiB\n",
       "                        </td>\n",
       "                    </tr>\n",
       "                    <tr>\n",
       "                        <td style=\"text-align: left;\">\n",
       "                            <strong>Nanny: </strong> tcp://127.0.0.1:46373\n",
       "                        </td>\n",
       "                        <td style=\"text-align: left;\"></td>\n",
       "                    </tr>\n",
       "                    <tr>\n",
       "                        <td colspan=\"2\" style=\"text-align: left;\">\n",
       "                            <strong>Local directory: </strong> /stelmo/edeno/nwb_datajoint/notebooks/dask-worker-space/worker-m7thw3ne\n",
       "                        </td>\n",
       "                    </tr>\n",
       "\n",
       "                    \n",
       "                    <tr>\n",
       "                        <td style=\"text-align: left;\">\n",
       "                            <strong>GPU: </strong>NVIDIA A100 80GB PCIe\n",
       "                        </td>\n",
       "                        <td style=\"text-align: left;\">\n",
       "                            <strong>GPU memory: </strong> 80.00 GiB\n",
       "                        </td>\n",
       "                    </tr>\n",
       "                    \n",
       "\n",
       "                    \n",
       "\n",
       "                </table>\n",
       "            </details>\n",
       "            </div>\n",
       "        </div>\n",
       "        \n",
       "\n",
       "    </details>\n",
       "</div>\n",
       "\n",
       "        </details>\n",
       "    </div>\n",
       "</div>\n",
       "            </details>\n",
       "        \n",
       "\n",
       "    </div>\n",
       "</div>"
      ],
      "text/plain": [
       "<Client: 'tcp://127.0.0.1:37725' processes=3 threads=3, memory=3.94 TiB>"
      ]
     },
     "execution_count": 3,
     "metadata": {},
     "output_type": "execute_result"
    }
   ],
   "source": [
    "from dask_cuda import LocalCUDACluster\n",
    "from dask.distributed import Client\n",
    "\n",
    "cluster = LocalCUDACluster(CUDA_VISIBLE_DEVICES=[4, 5, 6])\n",
    "client = Client(cluster)\n",
    "\n",
    "client"
   ]
  },
  {
   "cell_type": "markdown",
   "id": "89f1e693-1f35-42c5-b23d-e4e10ec0b5cf",
   "metadata": {},
   "source": [
    "This uses three GPUs with IDS 4, 5, and 6.\n",
    "\n",
    "Finally, to run the code, you need to wrap the function that you want to run on each GPU with the `dask.delayed` decorator.\n",
    "\n",
    "\n",
    "For example, say we want to run the function `test_gpu` on each item of `data` where each item is processed on a different GPU."
   ]
  },
  {
   "cell_type": "code",
   "execution_count": 4,
   "id": "477aa0a0-5e6b-4366-bcb8-6e5923ff0cc3",
   "metadata": {},
   "outputs": [
    {
     "name": "stderr",
     "output_type": "stream",
     "text": [
      "18-May-22 13:50:12 This is a test of 4\n",
      "18-May-22 13:50:12 This should be in a unique file\n",
      "18-May-22 13:50:12 This is a test of 3\n",
      "18-May-22 13:50:12 This should be in a unique file\n",
      "18-May-22 13:50:12 This is a test of 1\n",
      "18-May-22 13:50:12 This should be in a unique file\n",
      "18-May-22 13:50:13 This is a test of 9\n",
      "18-May-22 13:50:13 This should be in a unique file\n",
      "18-May-22 13:50:13 This is a test of 6\n",
      "18-May-22 13:50:13 This should be in a unique file\n",
      "18-May-22 13:50:13 This is a test of 5\n",
      "18-May-22 13:50:13 This should be in a unique file\n",
      "18-May-22 13:50:13 This is a test of 0\n",
      "18-May-22 13:50:13 This should be in a unique file\n",
      "18-May-22 13:50:13 This is a test of 2\n",
      "18-May-22 13:50:13 This should be in a unique file\n",
      "18-May-22 13:50:13 This is a test of 7\n",
      "18-May-22 13:50:13 This should be in a unique file\n",
      "18-May-22 13:50:13 This is a test of 8\n",
      "18-May-22 13:50:13 This should be in a unique file\n"
     ]
    },
    {
     "data": {
      "text/plain": [
       "(array([ 0.00106875, -0.0032616 , -0.00759213, ..., -0.00612375,\n",
       "         0.0059738 , -0.01329288], dtype=float32),\n",
       " array([ 1.1191896 ,  0.6762629 ,  0.23331782, ...,  0.38350907,\n",
       "         1.6208985 , -0.34978032], dtype=float32),\n",
       " array([4.23731  , 3.3557875, 2.4742277, ..., 2.7731416, 5.235823 ,\n",
       "        1.3137323], dtype=float32),\n",
       " array([ 9.3554325,  8.035313 ,  6.7151375, ...,  7.1627736, 10.850748 ,\n",
       "         4.9772453], dtype=float32),\n",
       " array([16.47355 , 14.714837, 12.956048, ..., 13.552408, 18.465672,\n",
       "        10.640757], dtype=float32),\n",
       " array([25.591675, 23.39436 , 21.196953, ..., 21.942041, 28.0806  ,\n",
       "        18.304268], dtype=float32),\n",
       " array([36.7098  , 34.073883, 31.437868, ..., 32.331676, 39.695522,\n",
       "        27.967781], dtype=float32),\n",
       " array([49.827915, 46.753407, 43.67878 , ..., 44.721313, 53.31045 ,\n",
       "        39.631294], dtype=float32),\n",
       " array([64.946045, 61.432938, 57.9197  , ..., 59.11094 , 68.92538 ,\n",
       "        53.2948  ], dtype=float32),\n",
       " array([82.064156, 78.11245 , 74.16061 , ..., 75.50058 , 86.5403  ,\n",
       "        68.95831 ], dtype=float32))"
      ]
     },
     "execution_count": 4,
     "metadata": {},
     "output_type": "execute_result"
    }
   ],
   "source": [
    "import cupy as cp\n",
    "import dask\n",
    "import logging\n",
    "\n",
    "\n",
    "def setup_logger(name_logfile, path_logfile):\n",
    "    \"\"\"Sets up a logger for each function that outputs\n",
    "    to the console and to a file\"\"\"\n",
    "    logger = logging.getLogger(name_logfile)\n",
    "    formatter = logging.Formatter(\n",
    "        \"%(asctime)s %(message)s\", datefmt=\"%d-%b-%y %H:%M:%S\"\n",
    "    )\n",
    "    fileHandler = logging.FileHandler(path_logfile, mode=\"w\")\n",
    "    fileHandler.setFormatter(formatter)\n",
    "    streamHandler = logging.StreamHandler()\n",
    "    streamHandler.setFormatter(formatter)\n",
    "\n",
    "    logger.setLevel(logging.INFO)\n",
    "    logger.addHandler(fileHandler)\n",
    "    logger.addHandler(streamHandler)\n",
    "\n",
    "    return logger\n",
    "\n",
    "\n",
    "# This uses the dask.delayed decorator on the test_gpu function\n",
    "@dask.delayed\n",
    "def test_gpu(x, ind):\n",
    "    # Create a log file for this run of the function\n",
    "    logger = setup_logger(\n",
    "        name_logfile=f\"test_{ind}\", path_logfile=f\"test_{ind}.log\"\n",
    "    )\n",
    "\n",
    "    # Test to see if these go into different log files\n",
    "    logger.info(f\"This is a test of {ind}\")\n",
    "    logger.info(\"This should be in a unique file\")\n",
    "\n",
    "    # Run a GPU computation\n",
    "    return cp.asnumpy(cp.mean(x[:, None] @ x[:, None].T, axis=0))\n",
    "\n",
    "\n",
    "# Make up 10 fake datasets\n",
    "x = cp.random.normal(size=10_000, dtype=cp.float32)\n",
    "data = [x + i for i in range(10)]\n",
    "\n",
    "# Append the result of the computation into a results list\n",
    "results = [test_gpu(x, ind) for ind, x in enumerate(data)]\n",
    "\n",
    "# Run `dask.compute` on the results list for the code to run\n",
    "dask.compute(*results)"
   ]
  },
  {
   "cell_type": "markdown",
   "id": "74772904-56c4-46cb-bfcb-d6c155c0d39d",
   "metadata": {},
   "source": [
    "This example also shows how to create a log file for each item in data with the `setup_logger` function."
   ]
  },
  {
   "cell_type": "code",
   "execution_count": null,
   "id": "319fb3bb-da35-4db3-951d-e050f868cb1e",
   "metadata": {},
   "outputs": [],
   "source": []
  }
 ],
 "metadata": {
  "kernelspec": {
   "display_name": "Python 3.10.5 64-bit",
   "language": "python",
   "name": "python3"
  },
  "language_info": {
   "codemirror_mode": {
    "name": "ipython",
    "version": 3
   },
   "file_extension": ".py",
   "mimetype": "text/x-python",
   "name": "python",
   "nbconvert_exporter": "python",
   "pygments_lexer": "ipython3",
   "version": "3.10.5"
  },
  "vscode": {
   "interpreter": {
    "hash": "8a94588eda9d64d9e9a351ab8144e55b1fabf5113b54e67dd26a8c27df0381b3"
   }
  },
  "widgets": {
   "application/vnd.jupyter.widget-state+json": {
    "state": {
     "12b5d64ee6524b1eaf1ee6fd6b525c80": {
      "model_module": "@jupyter-widgets/controls",
      "model_module_version": "1.5.0",
      "model_name": "FloatProgressModel",
      "state": {
       "bar_style": "success",
       "layout": "IPY_MODEL_8bb56d17b82b4a5bb0f0c83fbadedb17",
       "max": 19,
       "style": "IPY_MODEL_454afb67ce13492883fd0d8e4d661bc3",
       "value": 19
      }
     },
     "1360f588bad24fc396747e5c50f1403d": {
      "model_module": "@jupyter-widgets/controls",
      "model_module_version": "1.5.0",
      "model_name": "FloatProgressModel",
      "state": {
       "bar_style": "success",
       "layout": "IPY_MODEL_8fe479db9bd043b88be6195f8a640168",
       "max": 19,
       "style": "IPY_MODEL_503501b2bf5f4e16a23bd6a664d44b4c",
       "value": 19
      }
     },
     "3ce2a6b24866418283821b3f5524406b": {
      "model_module": "@jupyter-widgets/controls",
      "model_module_version": "1.5.0",
      "model_name": "HTMLModel",
      "state": {
       "layout": "IPY_MODEL_885a8a2f29f044f7a8152d2c5e3708ef",
       "style": "IPY_MODEL_85281b1088aa468ea3a049fc6c94f9fa",
       "value": "100%"
      }
     },
     "42b142ef041d4de997fbf1342aeaa164": {
      "model_module": "@jupyter-widgets/controls",
      "model_module_version": "1.5.0",
      "model_name": "DescriptionStyleModel",
      "state": {
       "description_width": ""
      }
     },
     "454afb67ce13492883fd0d8e4d661bc3": {
      "model_module": "@jupyter-widgets/controls",
      "model_module_version": "1.5.0",
      "model_name": "ProgressStyleModel",
      "state": {
       "description_width": ""
      }
     },
     "46411bbd882d4eb0a09816b030c2d09c": {
      "model_module": "@jupyter-widgets/base",
      "model_module_version": "1.2.0",
      "model_name": "LayoutModel",
      "state": {}
     },
     "503501b2bf5f4e16a23bd6a664d44b4c": {
      "model_module": "@jupyter-widgets/controls",
      "model_module_version": "1.5.0",
      "model_name": "ProgressStyleModel",
      "state": {
       "description_width": ""
      }
     },
     "5284c4b79264450597b2f001829ef7ab": {
      "model_module": "@jupyter-widgets/base",
      "model_module_version": "1.2.0",
      "model_name": "LayoutModel",
      "state": {}
     },
     "64eeede3ae25465781681635ff5b6074": {
      "model_module": "@jupyter-widgets/controls",
      "model_module_version": "1.5.0",
      "model_name": "HTMLModel",
      "state": {
       "layout": "IPY_MODEL_5284c4b79264450597b2f001829ef7ab",
       "style": "IPY_MODEL_d0ec6046ce394b16b7a8627ad2d3408c",
       "value": "100%"
      }
     },
     "71854e6272d542b1ae73f223633ec884": {
      "model_module": "@jupyter-widgets/base",
      "model_module_version": "1.2.0",
      "model_name": "LayoutModel",
      "state": {}
     },
     "85281b1088aa468ea3a049fc6c94f9fa": {
      "model_module": "@jupyter-widgets/controls",
      "model_module_version": "1.5.0",
      "model_name": "DescriptionStyleModel",
      "state": {
       "description_width": ""
      }
     },
     "885a8a2f29f044f7a8152d2c5e3708ef": {
      "model_module": "@jupyter-widgets/base",
      "model_module_version": "1.2.0",
      "model_name": "LayoutModel",
      "state": {}
     },
     "8bb56d17b82b4a5bb0f0c83fbadedb17": {
      "model_module": "@jupyter-widgets/base",
      "model_module_version": "1.2.0",
      "model_name": "LayoutModel",
      "state": {}
     },
     "8e6df65ab23b4c738faf6aab3df69169": {
      "model_module": "@jupyter-widgets/base",
      "model_module_version": "1.2.0",
      "model_name": "LayoutModel",
      "state": {}
     },
     "8fe479db9bd043b88be6195f8a640168": {
      "model_module": "@jupyter-widgets/base",
      "model_module_version": "1.2.0",
      "model_name": "LayoutModel",
      "state": {}
     },
     "a1c2e41bd9164051ae0147c77e82ac32": {
      "model_module": "@jupyter-widgets/base",
      "model_module_version": "1.2.0",
      "model_name": "LayoutModel",
      "state": {}
     },
     "ad7c4c7af4ff4895af77fc272d3e1971": {
      "model_module": "@jupyter-widgets/controls",
      "model_module_version": "1.5.0",
      "model_name": "DescriptionStyleModel",
      "state": {
       "description_width": ""
      }
     },
     "c76a78d08c064bdf82373331d40610df": {
      "model_module": "@jupyter-widgets/controls",
      "model_module_version": "1.5.0",
      "model_name": "HTMLModel",
      "state": {
       "layout": "IPY_MODEL_a1c2e41bd9164051ae0147c77e82ac32",
       "style": "IPY_MODEL_ad7c4c7af4ff4895af77fc272d3e1971",
       "value": " 19/19 [00:00&lt;00:00, 297.26it/s]"
      }
     },
     "cb9def49ec5c40e0b974cd5768839057": {
      "model_module": "@jupyter-widgets/controls",
      "model_module_version": "1.5.0",
      "model_name": "HBoxModel",
      "state": {
       "children": [
        "IPY_MODEL_64eeede3ae25465781681635ff5b6074",
        "IPY_MODEL_1360f588bad24fc396747e5c50f1403d",
        "IPY_MODEL_c76a78d08c064bdf82373331d40610df"
       ],
       "layout": "IPY_MODEL_71854e6272d542b1ae73f223633ec884"
      }
     },
     "d0ec6046ce394b16b7a8627ad2d3408c": {
      "model_module": "@jupyter-widgets/controls",
      "model_module_version": "1.5.0",
      "model_name": "DescriptionStyleModel",
      "state": {
       "description_width": ""
      }
     },
     "eb83255d0b4d4fdb918991571f8e64fb": {
      "model_module": "@jupyter-widgets/controls",
      "model_module_version": "1.5.0",
      "model_name": "HBoxModel",
      "state": {
       "children": [
        "IPY_MODEL_3ce2a6b24866418283821b3f5524406b",
        "IPY_MODEL_12b5d64ee6524b1eaf1ee6fd6b525c80",
        "IPY_MODEL_fc77fac0ad3940f5a61af6f12c304f23"
       ],
       "layout": "IPY_MODEL_8e6df65ab23b4c738faf6aab3df69169"
      }
     },
     "fc77fac0ad3940f5a61af6f12c304f23": {
      "model_module": "@jupyter-widgets/controls",
      "model_module_version": "1.5.0",
      "model_name": "HTMLModel",
      "state": {
       "layout": "IPY_MODEL_46411bbd882d4eb0a09816b030c2d09c",
       "style": "IPY_MODEL_42b142ef041d4de997fbf1342aeaa164",
       "value": " 19/19 [00:00&lt;00:00,  3.51it/s]"
      }
     }
    },
    "version_major": 2,
    "version_minor": 0
   }
  }
 },
 "nbformat": 4,
 "nbformat_minor": 5
}
