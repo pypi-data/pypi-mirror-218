{
 "cells": [
  {
   "cell_type": "markdown",
   "id": "c1271f63-22c4-4151-83ae-0ea36be59c17",
   "metadata": {},
   "source": [
    "## The Magic Commands in `Chapyter`"
   ]
  },
  {
   "cell_type": "code",
   "execution_count": 1,
   "id": "305f5dfc-d2e5-44eb-b6b5-4850e86274f4",
   "metadata": {
    "editable": true,
    "slideshow": {
     "slide_type": ""
    },
    "tags": []
   },
   "outputs": [],
   "source": [
    "%load_ext chapyter\n",
    "# You might want to create an `.env` file in the current\n",
    "# directory that contains\n",
    "# OPENAI_API_KEY=sk-xxxx\n",
    "# OPENAI_ORGANIZATION=org-xxxx"
   ]
  },
  {
   "cell_type": "markdown",
   "id": "a4caec9f-71d7-4674-9e4c-29279981fed2",
   "metadata": {},
   "source": [
    "PS: You will see neat UIs if you download and execute the following cells one by one in jupyterlab. \n",
    "\n",
    "![chapyter-starter.png](chapyter-starter.png)"
   ]
  },
  {
   "cell_type": "markdown",
   "id": "bb8888ac-5bec-4c62-9de6-21d45ce89ff1",
   "metadata": {},
   "source": [
    "### `%%chat`: start coding in natural language"
   ]
  },
  {
   "cell_type": "code",
   "execution_count": 2,
   "id": "effc4a91-fc5e-42c9-b576-e0c37ecd4478",
   "metadata": {
    "ChapyterCell": {
     "cellType": "original",
     "linkedCellId": "93c33a3e-710a-4472-922c-1458d98c32d0"
    }
   },
   "outputs": [],
   "source": [
    "%%chat \n",
    "list all the files in the current directory"
   ]
  },
  {
   "cell_type": "code",
   "execution_count": 5,
   "id": "93c33a3e-710a-4472-922c-1458d98c32d0",
   "metadata": {
    "ChapyterCell": {
     "cellType": "generated",
     "linkedCellId": "effc4a91-fc5e-42c9-b576-e0c37ecd4478"
    }
   },
   "outputs": [
    {
     "name": "stdout",
     "output_type": "stream",
     "text": [
      "['test', '.env', 'starter-Copy2.ipynb', '.ipynb_checkpoints', 'starter.ipynb', 'starter-Copy1.ipynb']\n"
     ]
    }
   ],
   "source": [
    "# Assistant Code for Cell [2]:\n",
    "# Sure, here is the Python code to list all the files in the current directory:\n",
    "import os\n",
    "\n",
    "files = os.listdir('.')\n",
    "print(files)"
   ]
  },
  {
   "cell_type": "code",
   "execution_count": 3,
   "id": "29533815-5d55-4281-8446-f2e1b810b040",
   "metadata": {
    "ChapyterCell": {
     "cellType": "original",
     "linkedCellId": "84daa58f-c55d-4b75-8540-47eb6d0441df"
    }
   },
   "outputs": [],
   "source": [
    "%%chat \n",
    "\n",
    "find the files in the current directory that has the longest file name "
   ]
  },
  {
   "cell_type": "code",
   "execution_count": 6,
   "id": "84daa58f-c55d-4b75-8540-47eb6d0441df",
   "metadata": {
    "ChapyterCell": {
     "cellType": "generated",
     "linkedCellId": "29533815-5d55-4281-8446-f2e1b810b040"
    },
    "jupyter": {
     "source_hidden": true
    }
   },
   "outputs": [
    {
     "name": "stdout",
     "output_type": "stream",
     "text": [
      "starter-Copy2.ipynb\n"
     ]
    }
   ],
   "source": [
    "# Assistant Code for Cell [3]:\n",
    "# Sure, here is the Python code to find the file with the longest name in the current directory.\n",
    "import os\n",
    "\n",
    "# Get all files in current directory\n",
    "files = os.listdir('.')\n",
    "\n",
    "# Find the file with the longest name\n",
    "longest_file = max(files, key=len)\n",
    "\n",
    "print(longest_file)\n",
    "# This code will print the name of the file with the longest name in the current directory."
   ]
  },
  {
   "cell_type": "code",
   "execution_count": 4,
   "id": "7f055c4f-f714-4620-9e1e-d629ab8a4d87",
   "metadata": {
    "ChapyterCell": {
     "cellType": "original",
     "linkedCellId": "c2927cf9-766e-4c03-b039-5d6ece37d958"
    }
   },
   "outputs": [],
   "source": [
    "%%chat \n",
    "\n",
    "Generate a dictionary that groups the files in the current folder based on their types"
   ]
  },
  {
   "cell_type": "code",
   "execution_count": 7,
   "id": "c2927cf9-766e-4c03-b039-5d6ece37d958",
   "metadata": {
    "ChapyterCell": {
     "cellType": "generated",
     "linkedCellId": "7f055c4f-f714-4620-9e1e-d629ab8a4d87"
    },
    "jupyter": {
     "source_hidden": true
    }
   },
   "outputs": [
    {
     "name": "stdout",
     "output_type": "stream",
     "text": [
      "{'': ['test', '.env', '.ipynb_checkpoints'], '.ipynb': ['starter-Copy2.ipynb', 'starter.ipynb', 'starter-Copy1.ipynb']}\n"
     ]
    }
   ],
   "source": [
    "# Assistant Code for Cell [4]:\n",
    "# Sure, here is a Python script that does that:\n",
    "import os\n",
    "\n",
    "# Get all files in current directory\n",
    "files = os.listdir('.')\n",
    "\n",
    "# Initialize an empty dictionary to store the file types and names\n",
    "file_dict = {}\n",
    "\n",
    "# Loop through each file\n",
    "for file in files:\n",
    "    # Get the file extension\n",
    "    file_type = os.path.splitext(file)[1]\n",
    "    \n",
    "    # If the file type is not in the dictionary, add it\n",
    "    if file_type not in file_dict:\n",
    "        file_dict[file_type] = []\n",
    "    \n",
    "    # Add the file name to the list of files for this type\n",
    "    file_dict[file_type].append(file)\n",
    "\n",
    "print(file_dict)\n",
    "# This script will print a dictionary where the keys are file extensions (like '.txt', '.py', etc.) and the values are lists of file names with that extension."
   ]
  },
  {
   "cell_type": "markdown",
   "id": "8a696eca-5a97-4138-9acc-518db632b5c5",
   "metadata": {},
   "source": [
    "### `%%chat -h` will add execution history into the prompt "
   ]
  },
  {
   "cell_type": "code",
   "execution_count": 8,
   "id": "57e0a283-95d9-410a-bcdb-9efde7d252b2",
   "metadata": {
    "ChapyterCell": {
     "cellType": "original",
     "linkedCellId": "2285fa4c-14ed-4d7f-861f-aba5c89d1daa"
    }
   },
   "outputs": [],
   "source": [
    "%%chat -h \n",
    "\n",
    "Define functions for the code above:"
   ]
  },
  {
   "cell_type": "code",
   "execution_count": 9,
   "id": "2285fa4c-14ed-4d7f-861f-aba5c89d1daa",
   "metadata": {
    "ChapyterCell": {
     "cellType": "generated",
     "linkedCellId": "57e0a283-95d9-410a-bcdb-9efde7d252b2"
    },
    "jupyter": {
     "source_hidden": true
    }
   },
   "outputs": [
    {
     "name": "stdout",
     "output_type": "stream",
     "text": [
      "['test', '.env', 'starter-Copy2.ipynb', '.ipynb_checkpoints', 'starter.ipynb', 'starter-Copy1.ipynb']\n",
      "starter-Copy2.ipynb\n",
      "{'': ['test', '.env', '.ipynb_checkpoints'], '.ipynb': ['starter-Copy2.ipynb', 'starter.ipynb', 'starter-Copy1.ipynb']}\n"
     ]
    }
   ],
   "source": [
    "# Assistant Code for Cell [8]:\n",
    "# Sure, here is how you can define functions for the code above:\n",
    "import os\n",
    "\n",
    "def list_files():\n",
    "    files = os.listdir('.')\n",
    "    return files\n",
    "\n",
    "def find_longest_file():\n",
    "    files = list_files()\n",
    "    longest_file = max(files, key=len)\n",
    "    return longest_file\n",
    "\n",
    "def group_files_by_type():\n",
    "    files = list_files()\n",
    "    file_dict = {}\n",
    "    for file in files:\n",
    "        file_type = os.path.splitext(file)[1]\n",
    "        if file_type not in file_dict:\n",
    "            file_dict[file_type] = []\n",
    "        file_dict[file_type].append(file)\n",
    "    return file_dict\n",
    "\n",
    "# To use these functions, you can call them like this:\n",
    "print(list_files())\n",
    "print(find_longest_file())\n",
    "print(group_files_by_type())\n",
    "# In this code, `list_files` function lists all the files in the current directory, `find_longest_file` function finds the file with the longest name in the current directory, and `group_files_by_type` function generates a dictionary that groups the files in the current folder based on their types."
   ]
  },
  {
   "cell_type": "markdown",
   "id": "689298e8-7070-43c1-927a-a5521b2ee08d",
   "metadata": {},
   "source": [
    "### `%%chat -s` or `%%chat --safe` will invoke safe mode that won't execute the cells "
   ]
  },
  {
   "cell_type": "code",
   "execution_count": 6,
   "id": "f353789b-c8e7-467c-bce6-1ed02eb33fe9",
   "metadata": {
    "ChapyterCell": {
     "cellType": "original",
     "linkedCellId": "54c09d95-8df0-41b5-89a2-28475f7d0c47"
    }
   },
   "outputs": [],
   "source": [
    "%%chat -s \n",
    "\n",
    "Generate a dictionary that groups the files in the current folder based on their types"
   ]
  },
  {
   "cell_type": "code",
   "execution_count": null,
   "id": "54c09d95-8df0-41b5-89a2-28475f7d0c47",
   "metadata": {
    "ChapyterCell": {
     "cellType": "generated",
     "linkedCellId": "f353789b-c8e7-467c-bce6-1ed02eb33fe9"
    }
   },
   "outputs": [],
   "source": [
    "# Assistant Code for Cell [6]:\n",
    "# Sure, here is a Python script that does that:\n",
    "import os\n",
    "\n",
    "# Get all files in current directory\n",
    "files = os.listdir('.')\n",
    "\n",
    "# Initialize an empty dictionary to store the file types and names\n",
    "file_dict = {}\n",
    "\n",
    "# Loop through each file\n",
    "for file in files:\n",
    "    # Get the file extension\n",
    "    file_type = os.path.splitext(file)[1]\n",
    "    \n",
    "    # If the file type is not in the dictionary, add it\n",
    "    if file_type not in file_dict:\n",
    "        file_dict[file_type] = []\n",
    "    \n",
    "    # Add the file name to the list of files for this type\n",
    "    file_dict[file_type].append(file)\n",
    "\n",
    "print(file_dict)\n",
    "# This script will print a dictionary where the keys are file extensions (like '.txt', '.py', etc.) and the values are lists of file names with that extension."
   ]
  },
  {
   "cell_type": "markdown",
   "id": "0e89ac15-bf8f-4763-bab0-2dcb089e96c3",
   "metadata": {},
   "source": [
    "### `%%chatonly` allows you to talk to an agent in regular ways "
   ]
  },
  {
   "cell_type": "code",
   "execution_count": 2,
   "id": "fdebb778-26a4-4db4-9a74-9191d54516c3",
   "metadata": {},
   "outputs": [
    {
     "data": {
      "text/html": [
       "<div id=\"guidance-stop-button-69ca07e7-ae3d-4c40-97d8-d028a1df2577\" style=\"cursor: pointer; margin: 0px; display: none; float: right; padding: 3px; border-radius: 4px 4px 4px 4px; border: 0px solid rgba(127, 127, 127, 1); padding-left: 10px; padding-right: 10px; font-size: 13px; background-color: rgba(127, 127, 127, 0.25);\">Stop program</div><div id=\"guidance-content-69ca07e7-ae3d-4c40-97d8-d028a1df2577\"><pre style='margin: 0px; padding: 0px; padding-left: 8px; margin-left: -8px; border-radius: 0px; border-left: 1px solid rgba(127, 127, 127, 0.2); white-space: pre-wrap; font-family: ColfaxAI, Arial; font-size: 15px; line-height: 23px;'><div style='display: flex; border-bottom: 1px solid rgba(127, 127, 127, 0.2); align-items: center;'><div style='flex: 0 0 80px; opacity: 0.5;'>system</div><div style='flex-grow: 1; padding: 5px; padding-top: 10px; padding-bottom: 10px; margin-top: 0px; white-space: pre-wrap; margin-bottom: 0px;'>You are a helpful assistant that helps people find information.</div></div><div style='display: flex; border-bottom: 1px solid rgba(127, 127, 127, 0.2); align-items: center;'><div style='flex: 0 0 80px; opacity: 0.5;'>user</div><div style='flex-grow: 1; padding: 5px; padding-top: 10px; padding-bottom: 10px; margin-top: 0px; white-space: pre-wrap; margin-bottom: 0px;'><span style='background-color: rgba(0, 138.56128016, 250.76166089, 0.25); display: inline;' title='{{current_message}}'>Can you write a poem for the python programming language? \n",
       "</span></div></div><div style='display: flex; border-bottom: 1px solid rgba(127, 127, 127, 0.2); align-items: center;'><div style='flex: 0 0 80px; opacity: 0.5;'>assistant</div><div style='flex-grow: 1; padding: 5px; padding-top: 10px; padding-bottom: 10px; margin-top: 0px; white-space: pre-wrap; margin-bottom: 0px;'><span style='background-color: rgba(0, 165, 0, 0.25); opacity: 1.0; display: inline;' title='{{gen &quot;response&quot; max_tokens=1024}}'>In the realm of code, where logic is the language,\n",
       "There exists a serpent, not of danger, but of change.\n",
       "Python, they call it, a creature of grace,\n",
       "In the world of programming, it&#x27;s found its place.\n",
       "\n",
       "Lines of elegance, simplicity its charm,\n",
       "For beginners and experts, it causes no harm.\n",
       "From data science to web design,\n",
       "Its versatility is truly divine.\n",
       "\n",
       "Indentation matters, in its syntax so neat,\n",
       "Making code readable, a feat so sweet.\n",
       "With libraries abundant, like stars in the sky,\n",
       "The solutions it offers, they never run dry.\n",
       "\n",
       "In the heart of a coder, Python ignites a flame,\n",
       "Turning problems to solutions, that&#x27;s the aim.\n",
       "From machine learning to artificial intelligence,\n",
       "It breaks all barriers, knows no resistance.\n",
       "\n",
       "Python, oh Python, in bytes we converse,\n",
       "Your presence in coding universe is diverse.\n",
       "In the dance of algorithms, you&#x27;re a trusted partner,\n",
       "For many a programmer, you&#x27;re the lantern.\n",
       "\n",
       "So here&#x27;s to Python, a toast, a cheer,\n",
       "To a language we coders, hold so dear.\n",
       "In the world of technology, constantly in motion,\n",
       "Python flows like a smooth, steady ocean.</span></div></div></pre></div>\n",
       "<script type=\"text/javascript\">(()=>{var t={296:(t,e,n)=>{var i=NaN,o=\"[object Symbol]\",r=/^\\s+|\\s+$/g,a=/^[-+]0x[0-9a-f]+$/i,s=/^0b[01]+$/i,c=/^0o[0-7]+$/i,d=parseInt,u=\"object\"==typeof n.g&&n.g&&n.g.Object===Object&&n.g,l=\"object\"==typeof self&&self&&self.Object===Object&&self,f=u||l||Function(\"return this\")(),h=Object.prototype.toString,p=Math.max,m=Math.min,g=function(){return f.Date.now()};function b(t){var e=typeof t;return!!t&&(\"object\"==e||\"function\"==e)}function y(t){if(\"number\"==typeof t)return t;if(function(t){return\"symbol\"==typeof t||function(t){return!!t&&\"object\"==typeof t}(t)&&h.call(t)==o}(t))return i;if(b(t)){var e=\"function\"==typeof t.valueOf?t.valueOf():t;t=b(e)?e+\"\":e}if(\"string\"!=typeof t)return 0===t?t:+t;t=t.replace(r,\"\");var n=s.test(t);return n||c.test(t)?d(t.slice(2),n?2:8):a.test(t)?i:+t}t.exports=function(t,e,n){var i,o,r,a,s,c,d=0,u=!1,l=!1,f=!0;if(\"function\"!=typeof t)throw new TypeError(\"Expected a function\");function h(e){var n=i,r=o;return i=o=void 0,d=e,a=t.apply(r,n)}function v(t){var n=t-c;return void 0===c||n>=e||n<0||l&&t-d>=r}function _(){var t=g();if(v(t))return w(t);s=setTimeout(_,function(t){var n=e-(t-c);return l?m(n,r-(t-d)):n}(t))}function w(t){return s=void 0,f&&i?h(t):(i=o=void 0,a)}function j(){var t=g(),n=v(t);if(i=arguments,o=this,c=t,n){if(void 0===s)return function(t){return d=t,s=setTimeout(_,e),u?h(t):a}(c);if(l)return s=setTimeout(_,e),h(c)}return void 0===s&&(s=setTimeout(_,e)),a}return e=y(e)||0,b(n)&&(u=!!n.leading,r=(l=\"maxWait\"in n)?p(y(n.maxWait)||0,e):r,f=\"trailing\"in n?!!n.trailing:f),j.cancel=function(){void 0!==s&&clearTimeout(s),d=0,i=c=o=s=void 0},j.flush=function(){return void 0===s?a:w(g())},j}},777:t=>{var e,n,i=Math.max,o=(e=function(t,e){return function(t,e,n){if(\"function\"!=typeof t)throw new TypeError(\"Expected a function\");return setTimeout((function(){t.apply(void 0,n)}),1)}(t,0,e)},n=i(void 0===n?e.length-1:n,0),function(){for(var t=arguments,o=-1,r=i(t.length-n,0),a=Array(r);++o<r;)a[o]=t[n+o];o=-1;for(var s=Array(n+1);++o<n;)s[o]=t[o];return s[n]=a,function(t,e,n){switch(n.length){case 0:return t.call(e);case 1:return t.call(e,n[0]);case 2:return t.call(e,n[0],n[1]);case 3:return t.call(e,n[0],n[1],n[2])}return t.apply(e,n)}(e,this,s)});t.exports=o}},e={};function n(i){var o=e[i];if(void 0!==o)return o.exports;var r=e[i]={exports:{}};return t[i](r,r.exports,n),r.exports}n.n=t=>{var e=t&&t.__esModule?()=>t.default:()=>t;return n.d(e,{a:e}),e},n.d=(t,e)=>{for(var i in e)n.o(e,i)&&!n.o(t,i)&&Object.defineProperty(t,i,{enumerable:!0,get:e[i]})},n.g=function(){if(\"object\"==typeof globalThis)return globalThis;try{return this||new Function(\"return this\")()}catch(t){if(\"object\"==typeof window)return window}}(),n.o=(t,e)=>Object.prototype.hasOwnProperty.call(t,e),(()=>{\"use strict\";const t=t=>{const e=new Set;do{for(const n of Reflect.ownKeys(t))e.add([t,n])}while((t=Reflect.getPrototypeOf(t))&&t!==Object.prototype);return e};function e(e,{include:n,exclude:i}={}){const o=t=>{const e=e=>\"string\"==typeof e?t===e:e.test(t);return n?n.some(e):!i||!i.some(e)};for(const[n,i]of t(e.constructor.prototype)){if(\"constructor\"===i||!o(i))continue;const t=Reflect.getOwnPropertyDescriptor(n,i);t&&\"function\"==typeof t.value&&(e[i]=e[i].bind(e))}return e}var i=n(777),o=n.n(i),r=n(296),a=n.n(r);class s{constructor(t,n){e(this),this.interfaceId=t,this.callbackMap={},this.data={},this.pendingData={},this.jcomm=new c(\"guidance_interface_target_\"+this.interfaceId,this.updateData,\"open\"),this.debouncedSendPendingData500=a()(this.sendPendingData,500),this.debouncedSendPendingData1000=a()(this.sendPendingData,1e3),n&&o()(n)}send(t,e){this.addPendingData(t,e),this.sendPendingData()}sendEvent(t){for(const e of Object.keys(t))this.addPendingData(e,t[e]);this.sendPendingData()}debouncedSendEvent500(t){for(const e of Object.keys(t))this.addPendingData(e,t[e]);this.debouncedSendPendingData500()}debouncedSend500(t,e){this.addPendingData(t,e),this.debouncedSendPendingData500()}debouncedSend1000(t,e){this.addPendingData(t,e),this.debouncedSendPendingData1000()}addPendingData(t,e){Array.isArray(t)||(t=[t]);for(const n in t)this.pendingData[t[n]]=e}updateData(t){t=JSON.parse(t.data);for(const e in t)this.data[e]=t[e];for(const e in t)e in this.callbackMap&&this.callbackMap[e](this.data[e])}subscribe(t,e){this.callbackMap[t]=e,o()((e=>this.callbackMap[t](this.data[t])))}sendPendingData(){this.jcomm.send_data(this.pendingData),this.pendingData={}}}class c{constructor(t,e,n=\"open\"){this._fire_callback=this._fire_callback.bind(this),this._register=this._register.bind(this),this.jcomm=void 0,this.callback=e,void 0!==window.Jupyter?\"register\"===n?Jupyter.notebook.kernel.comm_manager.register_target(t,this._register):(this.jcomm=Jupyter.notebook.kernel.comm_manager.new_comm(t),this.jcomm.on_msg(this._fire_callback)):void 0!==window._mgr&&(\"register\"===n?window._mgr.widgetManager.proxyKernel.registerCommTarget(t,this._register):(this.jcomm=window._mgr.widgetManager.proxyKernel.createComm(t),this.jcomm.open({},\"\"),this.jcomm.onMsg=this._fire_callback))}send_data(t){void 0!==this.jcomm?this.jcomm.send(t):console.error(\"Jupyter comm module not yet loaded! So we can't send the message.\")}_register(t,e){this.jcomm=t,this.jcomm.on_msg(this._fire_callback)}_fire_callback(t){this.callback(t.content.data)}}class d{constructor(t,n){e(this),this.id=t,this.comm=new s(t),this.comm.subscribe(\"append\",this.appendData),this.comm.subscribe(\"replace\",this.replaceData),this.comm.subscribe(\"event\",this.eventOccurred),this.element=document.getElementById(\"guidance-content-\"+t),this.stop_button=document.getElementById(\"guidance-stop-button-\"+t),this.stop_button.onclick=()=>this.comm.send(\"event\",\"stop\")}appendData(t){t&&(this.stop_button.style.display=\"inline-block\",this.element.innerHTML+=t)}replaceData(t){t&&(this.stop_button.style.display=\"inline-block\",this.element.innerHTML=t)}eventOccurred(t){\"complete\"===t&&(this.stop_button.style.display=\"none\")}}window._guidanceDisplay=function(t,e){return new d(t,e)}})()})();; window._guidanceDisplay(\"69ca07e7-ae3d-4c40-97d8-d028a1df2577\");</script>"
      ]
     },
     "metadata": {},
     "output_type": "display_data"
    },
    {
     "name": "stdout",
     "output_type": "stream",
     "text": [
      "In the realm of code, where logic is the language,\n",
      "There exists a serpent, not of danger, but of change.\n",
      "Python, they call it, a creature of grace,\n",
      "In the world of programming, it's found its place.\n",
      "\n",
      "Lines of elegance, simplicity its charm,\n",
      "For beginners and experts, it causes no harm.\n",
      "From data science to web design,\n",
      "Its versatility is truly divine.\n",
      "\n",
      "Indentation matters, in its syntax so neat,\n",
      "Making code readable, a feat so sweet.\n",
      "With libraries abundant, like stars in the sky,\n",
      "The solutions it offers, they never run dry.\n",
      "\n",
      "In the heart of a coder, Python ignites a flame,\n",
      "Turning problems to solutions, that's the aim.\n",
      "From machine learning to artificial intelligence,\n",
      "It breaks all barriers, knows no resistance.\n",
      "\n",
      "Python, oh Python, in bytes we converse,\n",
      "Your presence in coding universe is diverse.\n",
      "In the dance of algorithms, you're a trusted partner,\n",
      "For many a programmer, you're the lantern.\n",
      "\n",
      "So here's to Python, a toast, a cheer,\n",
      "To a language we coders, hold so dear.\n",
      "In the world of technology, constantly in motion,\n",
      "Python flows like a smooth, steady ocean.\n"
     ]
    }
   ],
   "source": [
    "%%chatonly -v\n",
    "Can you write a poem for the python programming language? "
   ]
  },
  {
   "cell_type": "code",
   "execution_count": null,
   "id": "27b01b12-d2af-4365-a691-653e0fc037ff",
   "metadata": {},
   "outputs": [],
   "source": []
  }
 ],
 "metadata": {
  "kernelspec": {
   "display_name": "extension",
   "language": "python",
   "name": "extension"
  },
  "language_info": {
   "codemirror_mode": {
    "name": "ipython",
    "version": 3
   },
   "file_extension": ".py",
   "mimetype": "text/x-python",
   "name": "python",
   "nbconvert_exporter": "python",
   "pygments_lexer": "ipython3",
   "version": "3.11.4"
  }
 },
 "nbformat": 4,
 "nbformat_minor": 5
}
