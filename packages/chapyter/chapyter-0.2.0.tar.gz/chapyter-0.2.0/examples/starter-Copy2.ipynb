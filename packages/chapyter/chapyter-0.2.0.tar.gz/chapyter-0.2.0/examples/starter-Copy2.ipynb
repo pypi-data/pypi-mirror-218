{
 "cells": [
  {
   "cell_type": "code",
   "execution_count": 1,
   "id": "b34ae35c-c3cb-4b98-8484-e242554dd49d",
   "metadata": {
    "editable": true,
    "slideshow": {
     "slide_type": ""
    },
    "tags": []
   },
   "outputs": [],
   "source": [
    "%load_ext dotenv\n",
    "%dotenv\n",
    "\n",
    "# We have an `.env` file that specifies the OPENAI_API_KEY and OPENAI_ORGANIZATION\n",
    "# You might need to run \"pip install python-dotenv\"."
   ]
  },
  {
   "cell_type": "markdown",
   "id": "c1271f63-22c4-4151-83ae-0ea36be59c17",
   "metadata": {},
   "source": [
    "### The Magic Command "
   ]
  },
  {
   "cell_type": "code",
   "execution_count": 3,
   "id": "305f5dfc-d2e5-44eb-b6b5-4850e86274f4",
   "metadata": {
    "editable": true,
    "slideshow": {
     "slide_type": ""
    },
    "tags": []
   },
   "outputs": [
    {
     "name": "stdout",
     "output_type": "stream",
     "text": [
      "/Users/shannon/projects/2307_ChatGPT_Kernel/chapyter-latest/examples\n"
     ]
    }
   ],
   "source": [
    "%load_ext chapyter"
   ]
  },
  {
   "cell_type": "markdown",
   "id": "bb8888ac-5bec-4c62-9de6-21d45ce89ff1",
   "metadata": {},
   "source": [
    "### `%%chat`: start coding in natural language"
   ]
  },
  {
   "cell_type": "code",
   "execution_count": 3,
   "id": "effc4a91-fc5e-42c9-b576-e0c37ecd4478",
   "metadata": {
    "ChapyterCell": {
     "cellType": "original",
     "linkedCellId": "784dfe7a-e6f5-4ba0-b9af-d55cc35fb7af"
    }
   },
   "outputs": [],
   "source": [
    "%%chat -s\n",
    "list all the files in the current directory"
   ]
  },
  {
   "cell_type": "code",
   "execution_count": null,
   "id": "784dfe7a-e6f5-4ba0-b9af-d55cc35fb7af",
   "metadata": {
    "ChapyterCell": {
     "cellType": "generated",
     "linkedCellId": "effc4a91-fc5e-42c9-b576-e0c37ecd4478"
    }
   },
   "outputs": [],
   "source": [
    "# Assistant Code for Cell [3]:\n",
    "# Sure, here is the Python code to list all the files in the current directory:\n",
    "import os\n",
    "\n",
    "files = os.listdir('.')\n",
    "print(files)"
   ]
  },
  {
   "cell_type": "code",
   "execution_count": 4,
   "id": "29533815-5d55-4281-8446-f2e1b810b040",
   "metadata": {
    "ChapyterCell": {
     "cellType": "original",
     "linkedCellId": "64531dfa-b467-4b10-90b6-d5769b71cd3c"
    }
   },
   "outputs": [],
   "source": [
    "%%chat -s\n",
    "\n",
    "find the files in the current directory that has the longest file name "
   ]
  },
  {
   "cell_type": "code",
   "execution_count": null,
   "id": "64531dfa-b467-4b10-90b6-d5769b71cd3c",
   "metadata": {
    "ChapyterCell": {
     "cellType": "generated",
     "linkedCellId": "29533815-5d55-4281-8446-f2e1b810b040"
    }
   },
   "outputs": [],
   "source": [
    "# Assistant Code for Cell [4]:\n",
    "# Sure, here is the Python code to find the file with the longest name in the current directory.\n",
    "import os\n",
    "\n",
    "# Get all files in current directory\n",
    "files = os.listdir('.')\n",
    "\n",
    "# Find the file with the longest name\n",
    "longest_file = max(files, key=len)\n",
    "\n",
    "print(longest_file)\n",
    "# This code will print the name of the file with the longest name in the current directory."
   ]
  },
  {
   "cell_type": "code",
   "execution_count": 5,
   "id": "7f055c4f-f714-4620-9e1e-d629ab8a4d87",
   "metadata": {
    "ChapyterCell": {
     "cellType": "original",
     "linkedCellId": "3e373672-9853-4e53-9e18-e9f80a425be5"
    }
   },
   "outputs": [],
   "source": [
    "%%chat -s\n",
    "\n",
    "Generate a dictionary that groups the files in the current folder based on their types"
   ]
  },
  {
   "cell_type": "code",
   "execution_count": null,
   "id": "3e373672-9853-4e53-9e18-e9f80a425be5",
   "metadata": {
    "ChapyterCell": {
     "cellType": "generated",
     "linkedCellId": "7f055c4f-f714-4620-9e1e-d629ab8a4d87"
    }
   },
   "outputs": [],
   "source": [
    "# Assistant Code for Cell [5]:\n",
    "# Sure, here is a Python script that does that:\n",
    "import os\n",
    "\n",
    "# Get all files in current directory\n",
    "files = os.listdir('.')\n",
    "\n",
    "# Initialize an empty dictionary to store the file types and names\n",
    "file_dict = {}\n",
    "\n",
    "# Loop through each file\n",
    "for file in files:\n",
    "    # Get the file extension\n",
    "    file_type = os.path.splitext(file)[1]\n",
    "    \n",
    "    # If the file type is not in the dictionary, add it\n",
    "    if file_type not in file_dict:\n",
    "        file_dict[file_type] = []\n",
    "    \n",
    "    # Add the file name to the list of files for this type\n",
    "    file_dict[file_type].append(file)\n",
    "\n",
    "print(file_dict)\n",
    "# This script will print a dictionary where the keys are file extensions (like '.txt', '.py', etc.) and the values are lists of file names with that extension."
   ]
  },
  {
   "cell_type": "markdown",
   "id": "8a696eca-5a97-4138-9acc-518db632b5c5",
   "metadata": {},
   "source": [
    "### `%%chat -h` will add execution history into the prompt "
   ]
  },
  {
   "cell_type": "code",
   "execution_count": 9,
   "id": "57e0a283-95d9-410a-bcdb-9efde7d252b2",
   "metadata": {
    "ChapyterCell": {
     "cellType": "original",
     "linkedCellId": "480e4951-851f-44db-8ed0-e115472a8b0f"
    }
   },
   "outputs": [],
   "source": [
    "%%chat -h \n",
    "Define functions for the code above:"
   ]
  },
  {
   "cell_type": "code",
   "execution_count": 10,
   "id": "480e4951-851f-44db-8ed0-e115472a8b0f",
   "metadata": {
    "ChapyterCell": {
     "cellType": "generated",
     "linkedCellId": "57e0a283-95d9-410a-bcdb-9efde7d252b2"
    },
    "jupyter": {
     "source_hidden": true
    }
   },
   "outputs": [
    {
     "name": "stdout",
     "output_type": "stream",
     "text": [
      "['test', '.env', '.ipynb_checkpoints', 'starter.ipynb', 'starter-Copy1.ipynb']\n",
      "starter-Copy1.ipynb\n",
      "{'': ['test', '.env', '.ipynb_checkpoints'], '.ipynb': ['starter.ipynb', 'starter-Copy1.ipynb']}\n"
     ]
    }
   ],
   "source": [
    "# Assistant Code for Cell [9]:\n",
    "# Sure, here is how you can define functions for the code above:\n",
    "import os\n",
    "\n",
    "def list_files():\n",
    "    files = os.listdir('.')\n",
    "    return files\n",
    "\n",
    "def find_longest_file():\n",
    "    files = list_files()\n",
    "    longest_file = max(files, key=len)\n",
    "    return longest_file\n",
    "\n",
    "def group_files_by_type():\n",
    "    files = list_files()\n",
    "    file_dict = {}\n",
    "    for file in files:\n",
    "        file_type = os.path.splitext(file)[1]\n",
    "        if file_type not in file_dict:\n",
    "            file_dict[file_type] = []\n",
    "        file_dict[file_type].append(file)\n",
    "    return file_dict\n",
    "\n",
    "# To use these functions, you can call them like this:\n",
    "print(list_files())\n",
    "print(find_longest_file())\n",
    "print(group_files_by_type())\n",
    "# In this code, `list_files` function lists all the files in the current directory, `find_longest_file` function finds the file with the longest name in the current directory, and `group_files_by_type` function generates a dictionary that groups the files in the current folder based on their types."
   ]
  },
  {
   "cell_type": "markdown",
   "id": "689298e8-7070-43c1-927a-a5521b2ee08d",
   "metadata": {},
   "source": [
    "### `%%chat -s` or `%%chat --safe` will invoke safe mode that won't execute the cells "
   ]
  },
  {
   "cell_type": "code",
   "execution_count": 15,
   "id": "f353789b-c8e7-467c-bce6-1ed02eb33fe9",
   "metadata": {
    "ChapyterCell": {
     "cellType": "original",
     "linkedCellId": "3cdad85a-64eb-466b-9ac4-4935f1548d1c"
    }
   },
   "outputs": [],
   "source": [
    "%%chat -s \n",
    "\n",
    "Generate a dictionary that groups the files in the current folder based on their types"
   ]
  },
  {
   "cell_type": "code",
   "execution_count": 16,
   "id": "3cdad85a-64eb-466b-9ac4-4935f1548d1c",
   "metadata": {
    "ChapyterCell": {
     "cellType": "generated",
     "linkedCellId": "f353789b-c8e7-467c-bce6-1ed02eb33fe9"
    },
    "jupyter": {
     "source_hidden": true
    }
   },
   "outputs": [
    {
     "name": "stdout",
     "output_type": "stream",
     "text": [
      "{'': ['test', '.env', '.ipynb_checkpoints'], '.ipynb': ['starter.ipynb', 'starter-Copy1.ipynb']}\n"
     ]
    }
   ],
   "source": [
    "# Assistant Code for Cell [15]:\n",
    "# Sure, here is a Python script that does that:\n",
    "import os\n",
    "\n",
    "# Get all files in current directory\n",
    "files = os.listdir('.')\n",
    "\n",
    "# Initialize an empty dictionary to store the file types and names\n",
    "file_dict = {}\n",
    "\n",
    "# Loop through each file\n",
    "for file in files:\n",
    "    # Get the file extension\n",
    "    file_type = os.path.splitext(file)[1]\n",
    "    \n",
    "    # If the file type is not in the dictionary, add it\n",
    "    if file_type not in file_dict:\n",
    "        file_dict[file_type] = []\n",
    "    \n",
    "    # Add the file name to the list of files for this type\n",
    "    file_dict[file_type].append(file)\n",
    "\n",
    "print(file_dict)\n",
    "# This script will print a dictionary where the keys are file extensions (like '.txt', '.py', etc.) and the values are lists of file names with that extension."
   ]
  },
  {
   "cell_type": "code",
   "execution_count": 1,
   "id": "27f56967-2127-4029-95a4-902ace0d1ae8",
   "metadata": {},
   "outputs": [],
   "source": [
    "ipython = get_ipython()"
   ]
  },
  {
   "cell_type": "code",
   "execution_count": 2,
   "id": "20cbea8e-d62d-495a-9fac-167414774626",
   "metadata": {},
   "outputs": [
    {
     "data": {
      "text/plain": [
       "{'__name__': '__main__',\n",
       " '__doc__': 'Automatically created module for IPython interactive environment',\n",
       " '__package__': None,\n",
       " '__loader__': None,\n",
       " '__spec__': None,\n",
       " '__builtin__': <module 'builtins' (built-in)>,\n",
       " '__builtins__': <module 'builtins' (built-in)>,\n",
       " '_ih': ['', 'ipython = get_ipython()', 'ipython.user_ns'],\n",
       " '_oh': {},\n",
       " '_dh': [PosixPath('/Users/shannon/projects/2307_ChatGPT_Kernel/chapyter-latest/examples')],\n",
       " 'In': ['', 'ipython = get_ipython()', 'ipython.user_ns'],\n",
       " 'Out': {},\n",
       " 'get_ipython': <function IPython.core.getipython.get_ipython()>,\n",
       " 'exit': <IPython.core.autocall.ZMQExitAutocall at 0x10385b150>,\n",
       " 'quit': <IPython.core.autocall.ZMQExitAutocall at 0x10385b150>,\n",
       " 'open': <function io.open(file, mode='r', buffering=-1, encoding=None, errors=None, newline=None, closefd=True, opener=None)>,\n",
       " '_': '',\n",
       " '__': '',\n",
       " '___': '',\n",
       " '__session__': '/Users/shannon/projects/2307_ChatGPT_Kernel/chapyter-latest/examples/starter-Copy2.ipynb',\n",
       " 'collections': <module 'collections' from '/Users/shannon/miniconda3/envs/jupyterlab-extension-examples/lib/python3.11/collections/__init__.py'>,\n",
       " 'functools': <module 'functools' from '/Users/shannon/miniconda3/envs/jupyterlab-extension-examples/lib/python3.11/functools.py'>,\n",
       " 'itertools': <module 'itertools' (built-in)>,\n",
       " 'json': <module 'json' from '/Users/shannon/miniconda3/envs/jupyterlab-extension-examples/lib/python3.11/json/__init__.py'>,\n",
       " 'os': <module 'os' (frozen)>,\n",
       " 'Path': pathlib.Path,\n",
       " 'plt': <module 'matplotlib.pyplot' from '/Users/shannon/miniconda3/envs/jupyterlab-extension-examples/lib/python3.11/site-packages/matplotlib/pyplot.py'>,\n",
       " 'np': <module 'numpy' from '/Users/shannon/miniconda3/envs/jupyterlab-extension-examples/lib/python3.11/site-packages/numpy/__init__.py'>,\n",
       " 'pd': <module 'pandas' from '/Users/shannon/miniconda3/envs/jupyterlab-extension-examples/lib/python3.11/site-packages/pandas/__init__.py'>,\n",
       " 'requests': <module 'requests' from '/Users/shannon/miniconda3/envs/jupyterlab-extension-examples/lib/python3.11/site-packages/requests/__init__.py'>,\n",
       " 'sns': <module 'seaborn' from '/Users/shannon/miniconda3/envs/jupyterlab-extension-examples/lib/python3.11/site-packages/seaborn/__init__.py'>,\n",
       " 'pprint': <function rich.pretty.pprint(_object: Any, *, console: Optional[ForwardRef('Console')] = None, indent_guides: bool = True, max_length: Optional[int] = None, max_string: Optional[int] = None, max_depth: Optional[int] = None, expand_all: bool = False) -> None>,\n",
       " 'tqdm': tqdm.std.tqdm,\n",
       " 'ipython': <ipykernel.zmqshell.ZMQInteractiveShell at 0x103852950>,\n",
       " '_i': 'ipython = get_ipython()',\n",
       " '_ii': '',\n",
       " '_iii': '',\n",
       " '_i1': 'ipython = get_ipython()',\n",
       " '_i2': '\\nipython.user_ns'}"
      ]
     },
     "execution_count": 2,
     "metadata": {},
     "output_type": "execute_result"
    }
   ],
   "source": [
    "ipython.user_ns"
   ]
  },
  {
   "cell_type": "code",
   "execution_count": null,
   "id": "a228a51f-3291-4112-9570-a9e268b2f17b",
   "metadata": {},
   "outputs": [],
   "source": []
  }
 ],
 "metadata": {
  "kernelspec": {
   "display_name": "extension",
   "language": "python",
   "name": "extension"
  },
  "language_info": {
   "codemirror_mode": {
    "name": "ipython",
    "version": 3
   },
   "file_extension": ".py",
   "mimetype": "text/x-python",
   "name": "python",
   "nbconvert_exporter": "python",
   "pygments_lexer": "ipython3",
   "version": "3.11.4"
  }
 },
 "nbformat": 4,
 "nbformat_minor": 5
}
