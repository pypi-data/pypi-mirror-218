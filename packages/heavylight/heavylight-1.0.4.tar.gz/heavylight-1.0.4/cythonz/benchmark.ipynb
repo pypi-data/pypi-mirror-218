{
 "cells": [
  {
   "cell_type": "code",
   "execution_count": 1,
   "id": "28a1f400-6f3a-4313-8faf-5f951def9bfc",
   "metadata": {
    "tags": []
   },
   "outputs": [],
   "source": [
    "import memo_hl\n",
    "import memo_np\n",
    "import cvect_memo\n",
    "import memo_dict\n",
    "import memo_try"
   ]
  },
  {
   "cell_type": "code",
   "execution_count": 2,
   "id": "229352de-53f3-4628-8983-ffcc1585c9f8",
   "metadata": {
    "tags": []
   },
   "outputs": [
    {
     "data": {
      "text/plain": [
       "0.018131871994995136"
      ]
     },
     "execution_count": 2,
     "metadata": {},
     "output_type": "execute_result"
    }
   ],
   "source": [
    "memo_hl.run_pol()"
   ]
  },
  {
   "cell_type": "code",
   "execution_count": 3,
   "id": "b1347e29-428d-4313-b762-b6dfc512a50b",
   "metadata": {
    "tags": []
   },
   "outputs": [
    {
     "data": {
      "text/plain": [
       "0.018131871994995136"
      ]
     },
     "execution_count": 3,
     "metadata": {},
     "output_type": "execute_result"
    }
   ],
   "source": [
    "memo_np.run_pol()"
   ]
  },
  {
   "cell_type": "code",
   "execution_count": 4,
   "id": "660b8046-69d7-48dc-bd45-499624e8bc34",
   "metadata": {
    "tags": []
   },
   "outputs": [
    {
     "data": {
      "text/plain": [
       "0.018131871994995136"
      ]
     },
     "execution_count": 4,
     "metadata": {},
     "output_type": "execute_result"
    }
   ],
   "source": [
    "cvect_memo.run_pol()"
   ]
  },
  {
   "cell_type": "code",
   "execution_count": 5,
   "id": "46ac1fc7-0f30-4478-9d49-c80280b52d62",
   "metadata": {
    "tags": []
   },
   "outputs": [
    {
     "data": {
      "text/plain": [
       "0.018131871994995136"
      ]
     },
     "execution_count": 5,
     "metadata": {},
     "output_type": "execute_result"
    }
   ],
   "source": [
    "memo_dict.run_pol()"
   ]
  },
  {
   "cell_type": "code",
   "execution_count": 6,
   "id": "3f96a2cb-391c-4866-ad98-8a77975a18b2",
   "metadata": {
    "tags": []
   },
   "outputs": [
    {
     "data": {
      "text/plain": [
       "0.018131871994995136"
      ]
     },
     "execution_count": 6,
     "metadata": {},
     "output_type": "execute_result"
    }
   ],
   "source": [
    "memo_try.run_pol()"
   ]
  },
  {
   "cell_type": "code",
   "execution_count": 7,
   "id": "c958aa24-707b-417a-834d-8c24b4218619",
   "metadata": {
    "tags": []
   },
   "outputs": [
    {
     "name": "stdout",
     "output_type": "stream",
     "text": [
      "744 µs ± 5.51 µs per loop (mean ± std. dev. of 7 runs, 1,000 loops each)\n"
     ]
    }
   ],
   "source": [
    "%timeit memo_hl.run_pol()"
   ]
  },
  {
   "cell_type": "code",
   "execution_count": 8,
   "id": "5200be05-e411-4a70-9ba1-04f2cbd127d9",
   "metadata": {
    "tags": []
   },
   "outputs": [
    {
     "name": "stdout",
     "output_type": "stream",
     "text": [
      "392 µs ± 3.06 µs per loop (mean ± std. dev. of 7 runs, 1,000 loops each)\n"
     ]
    }
   ],
   "source": [
    "%timeit memo_np.run_pol()"
   ]
  },
  {
   "cell_type": "code",
   "execution_count": 9,
   "id": "7fb0e760-dd9c-4c01-88fd-b6289b7535b9",
   "metadata": {
    "tags": []
   },
   "outputs": [
    {
     "name": "stdout",
     "output_type": "stream",
     "text": [
      "39.9 µs ± 209 ns per loop (mean ± std. dev. of 7 runs, 10,000 loops each)\n"
     ]
    }
   ],
   "source": [
    "%timeit cvect_memo.run_pol()"
   ]
  },
  {
   "cell_type": "code",
   "execution_count": 10,
   "id": "85d3ab23-b828-4669-b262-5f365aa496e3",
   "metadata": {
    "tags": []
   },
   "outputs": [
    {
     "name": "stdout",
     "output_type": "stream",
     "text": [
      "222 µs ± 3.43 µs per loop (mean ± std. dev. of 7 runs, 1,000 loops each)\n"
     ]
    }
   ],
   "source": [
    "%timeit memo_dict.run_pol()"
   ]
  },
  {
   "cell_type": "markdown",
   "id": "e4087489-74fe-4e41-8b8b-6c2aee1d9cf2",
   "metadata": {},
   "source": [
    "I think there is a lot of spin-up time?  This is likely to be a smaller issue if doing a more complicated model"
   ]
  },
  {
   "cell_type": "code",
   "execution_count": 11,
   "id": "383c94b4-674c-4208-95ec-33ea23115758",
   "metadata": {},
   "outputs": [
    {
     "name": "stdout",
     "output_type": "stream",
     "text": [
      "816 µs ± 3.52 µs per loop (mean ± std. dev. of 7 runs, 1,000 loops each)\n"
     ]
    }
   ],
   "source": [
    "%timeit memo_try.run_pol()   # Exceptions are slow compared to dictionary lookup!"
   ]
  },
  {
   "cell_type": "code",
   "execution_count": null,
   "id": "0c225c0b-cf1d-45e4-b39b-3d4e26eba787",
   "metadata": {},
   "outputs": [],
   "source": []
  }
 ],
 "metadata": {
  "kernelspec": {
   "display_name": "Python 3 (ipykernel)",
   "language": "python",
   "name": "python3"
  },
  "language_info": {
   "codemirror_mode": {
    "name": "ipython",
    "version": 3
   },
   "file_extension": ".py",
   "mimetype": "text/x-python",
   "name": "python",
   "nbconvert_exporter": "python",
   "pygments_lexer": "ipython3",
   "version": "3.11.0"
  }
 },
 "nbformat": 4,
 "nbformat_minor": 5
}
