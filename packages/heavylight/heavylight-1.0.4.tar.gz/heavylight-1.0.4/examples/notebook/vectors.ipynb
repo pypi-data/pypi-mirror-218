{
 "cells": [
  {
   "cell_type": "code",
   "execution_count": 2,
   "metadata": {},
   "outputs": [],
   "source": [
    "import heavylight\n",
    "import pandas as pd\n",
    "import numpy as np"
   ]
  },
  {
   "cell_type": "markdown",
   "metadata": {},
   "source": [
    "# A Vectorised Actuarial Contingency Model"
   ]
  },
  {
   "cell_type": "code",
   "execution_count": 3,
   "metadata": {},
   "outputs": [],
   "source": [
    "class Life(heavylight.Model):\n",
    "    time_step = 1/12\n",
    "    def num_pols_if(self, t):\n",
    "        if t == 0:\n",
    "            return self.data[\"initial_policies\"]\n",
    "        else:\n",
    "            return self.num_pols_if(t-1) - self.num_deaths(t)\n",
    "    \n",
    "    def num_deaths(self, t):\n",
    "        if t == 0:\n",
    "            return 0\n",
    "        else:\n",
    "            return self.num_pols_if(t) * self.q_x_m(t)\n",
    "    \n",
    "    def age(self, t):\n",
    "        \"\"\"age at time t\"\"\"\n",
    "        if t == 0:\n",
    "            return self.data[\"initial_age\"] # floating point\n",
    "        else:\n",
    "            return self.age(t-1) + Life.time_step\n",
    "    \n",
    "    def age_rounded(self, t):\n",
    "        return np.round(self.age(t))\n",
    "    \n",
    "    def q_x_m(self, t):\n",
    "        \"\"\"monthly mortality rate\"\"\"\n",
    "        return self.q_x(t) ** (Life.time_step)\n",
    "    \n",
    "    def q_x(self, t):\n",
    "        \"\"\"annual mortality rate\"\"\"\n",
    "        return self.basis[\"mortality\"].series.loc[self.age_rounded(t)]"
   ]
  },
  {
   "cell_type": "code",
   "execution_count": 4,
   "metadata": {},
   "outputs": [
    {
     "data": {
      "text/plain": [
       "array([32.08333333, 42.        , 25.58333333])"
      ]
     },
     "execution_count": 4,
     "metadata": {},
     "output_type": "execute_result"
    }
   ],
   "source": [
    "ages = np.array([32+1/12, 42, 25+7/12])\n",
    "ages"
   ]
  },
  {
   "cell_type": "code",
   "execution_count": 5,
   "metadata": {},
   "outputs": [
    {
     "data": {
      "text/plain": [
       "array([2.67361111, 3.5       , 2.13194444])"
      ]
     },
     "execution_count": 5,
     "metadata": {},
     "output_type": "execute_result"
    }
   ],
   "source": [
    "ages ** 1/12"
   ]
  },
  {
   "cell_type": "code",
   "execution_count": 6,
   "metadata": {},
   "outputs": [],
   "source": [
    "mortality = heavylight.Table.from_csv(\"sample_q_x_table.csv\")"
   ]
  },
  {
   "cell_type": "code",
   "execution_count": 7,
   "metadata": {},
   "outputs": [
    {
     "data": {
      "text/plain": [
       "x\n",
       "20    0.141392\n",
       "21    0.146911\n",
       "Name: value, dtype: float64"
      ]
     },
     "execution_count": 7,
     "metadata": {},
     "output_type": "execute_result"
    }
   ],
   "source": [
    "mortality.series.loc[np.array([20, 21])]"
   ]
  },
  {
   "cell_type": "code",
   "execution_count": 8,
   "metadata": {},
   "outputs": [],
   "source": [
    "basis = {\"mortality\": mortality}"
   ]
  },
  {
   "cell_type": "code",
   "execution_count": 9,
   "metadata": {},
   "outputs": [],
   "source": [
    "num_model_points = 3\n",
    "data = {\n",
    "    \"initial_policies\": np.ones(num_model_points),\n",
    "    \"initial_age\" : np.array([32+1/12, 42, 25+7/12]),\n",
    "    }"
   ]
  },
  {
   "cell_type": "code",
   "execution_count": 10,
   "metadata": {},
   "outputs": [],
   "source": [
    "model = Life(data=data, basis=basis)"
   ]
  },
  {
   "cell_type": "code",
   "execution_count": 11,
   "metadata": {},
   "outputs": [
    {
     "ename": "",
     "evalue": "",
     "output_type": "error",
     "traceback": [
      "\u001b[1;31mCanceled future for execute_request message before replies were done"
     ]
    },
    {
     "ename": "",
     "evalue": "",
     "output_type": "error",
     "traceback": [
      "\u001b[1;31mThe Kernel crashed while executing code in the the current cell or a previous cell. Please review the code in the cell(s) to identify a possible cause of the failure. Click <a href='https://aka.ms/vscodeJupyterKernelCrash'>here</a> for more info. View Jupyter <a href='command:jupyter.viewOutput'>log</a> for further details."
     ]
    }
   ],
   "source": [
    "model.num_pols_if(2)"
   ]
  },
  {
   "cell_type": "code",
   "execution_count": null,
   "metadata": {},
   "outputs": [],
   "source": []
  }
 ],
 "metadata": {
  "kernelspec": {
   "display_name": "Python 3 (ipykernel)",
   "language": "python",
   "name": "python3"
  },
  "language_info": {
   "codemirror_mode": {
    "name": "ipython",
    "version": 3
   },
   "file_extension": ".py",
   "mimetype": "text/x-python",
   "name": "python",
   "nbconvert_exporter": "python",
   "pygments_lexer": "ipython3",
   "version": "3.11.0"
  }
 },
 "nbformat": 4,
 "nbformat_minor": 4
}
