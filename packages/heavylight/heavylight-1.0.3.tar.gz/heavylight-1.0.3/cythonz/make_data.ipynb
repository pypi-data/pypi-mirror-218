{
 "cells": [
  {
   "cell_type": "markdown",
   "id": "b891ac97-4e6c-4ff1-bb74-9aed97478278",
   "metadata": {},
   "source": [
    "# Make data for benchmarking"
   ]
  },
  {
   "cell_type": "code",
   "execution_count": null,
   "id": "822d660c-ab04-4395-a338-2ebf456cf00a",
   "metadata": {},
   "outputs": [],
   "source": []
  }
 ],
 "metadata": {
  "kernelspec": {
   "display_name": "Python 3 (ipykernel)",
   "language": "python",
   "name": "python3"
  },
  "language_info": {
   "codemirror_mode": {
    "name": "ipython",
    "version": 3
   },
   "file_extension": ".py",
   "mimetype": "text/x-python",
   "name": "python",
   "nbconvert_exporter": "python",
   "pygments_lexer": "ipython3",
   "version": "3.11.0"
  }
 },
 "nbformat": 4,
 "nbformat_minor": 5
}
