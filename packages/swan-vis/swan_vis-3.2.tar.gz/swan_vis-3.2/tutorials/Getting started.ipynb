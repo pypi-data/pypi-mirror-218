{
 "cells": [
  {
   "cell_type": "markdown",
   "metadata": {},
   "source": [
    "#  Getting started: initializing, adding data, and saving your SwanGraph "
   ]
  },
  {
   "cell_type": "markdown",
   "metadata": {},
   "source": [
    "First, if you haven't already, make sure to [install Swan](https://github.com/fairliereese/swan_vis/wiki#installation).\n",
    "After installing, you'll be able to run Swan from Python.\n",
    "\n",
    "Then, download the data and the reference transcriptome annotation from [here](http://crick.bio.uci.edu/freese/swan_files_example/). The bash commands to do so are given below.\n",
    "\n",
    "The main workflow to get started with Swan consists of:\n",
    "1. [Adding a reference transcriptome (optional)](#add_trans)\n",
    "2. Adding a transcriptome for your samples\n",
    "    * [From a GTF](#add_gtf)\n",
    "    * [From a TALON db](#add_db)\n",
    "3. [Adding abundance information](#add_ab)\n",
    "    * [From a TSV](#add_ab_tsv)\n",
    "    * [From an AnnData](#add_ab_ad)\n",
    "    * [On the gene level](#add_ab_gene)\n",
    "4. [Adding metadata to your datasets](#add_meta)\n",
    " \n",
    "Other sections: \n",
    "* [Example data download](#data_download)\n",
    "* [Starting and initializing your SwanGraph](#init)\n",
    "* [Saving and loading your SwanGraph](#save_load)\n",
    "* [Behavior with Cerberus](#cerberus)\n",
    "\n",
    "This page can also be read from top to bottom, just know that you may be running things more than once!\n",
    "\n",
    "For information on the file formats needed to use Swan, please read the [file format specifications FAQ](https://freese.gitbook.io/swan/faqs/file_formats).\n",
    "\n",
    "<!-- Running this tutorial (with only one of the dataset addition options) on my laptop took around 7 minutes and 5 GB of RAM.  -->"
   ]
  },
  {
   "cell_type": "markdown",
   "metadata": {},
   "source": [
    "## <a name=\"data_download\"></a> Download example data"
   ]
  },
  {
   "cell_type": "markdown",
   "metadata": {},
   "source": [
    "This data is the data used in the [Swan publication](https://academic.oup.com/bioinformatics/article/37/9/1322/5912931)\n",
    "\n",
    "Run this block in your bash terminal\n",
    "```bash\n",
    "mkdir figures\n",
    "\n",
    "# download files\n",
    "wget https://zenodo.org/record/8118614/files/data.tgz\n",
    "\n",
    "# expand files \n",
    "tar -xzf data.tgz\n",
    "```"
   ]
  },
  {
   "cell_type": "markdown",
   "metadata": {},
   "source": [
    "<!-- Alternatively, just run on a smaller example, chr20.\n",
    "\n",
    "Run this block in your bash terminal\n",
    "\n",
    "```bash\n",
    "mkdir data\n",
    "mkdir figures\n",
    "cd data/\n",
    "\n",
    "# download files\n",
    "wget http://crick.bio.uci.edu/freese/swan_files_example.tgz\n",
    "    \n",
    "# expand files \n",
    "tar -xzf swan_files_example.tar.gz\n",
    "mv swan_files_example/* .\n",
    "rm -r swan_files_example/\n",
    "\n",
    "cd ../\n",
    "``` -->"
   ]
  },
  {
   "cell_type": "markdown",
   "metadata": {},
   "source": [
    "## <a name=\"init\"></a>Starting up Swan and initializing your SwanGraph"
   ]
  },
  {
   "cell_type": "markdown",
   "metadata": {},
   "source": [
    "The rest of the code in this tutorial should be run in using Python"
   ]
  },
  {
   "cell_type": "markdown",
   "metadata": {},
   "source": [
    "Initialize an empty SwanGraph and add the transcriptome annotation to the SwanGraph."
   ]
  },
  {
   "cell_type": "code",
   "execution_count": 1,
   "metadata": {},
   "outputs": [],
   "source": [
    "import swan_vis as swan\n",
    "\n",
    "# initialize a new SwanGraph\n",
    "sg = swan.SwanGraph() "
   ]
  },
  {
   "cell_type": "markdown",
   "metadata": {},
   "source": [
    "**Note:** to initialize a SwanGraph in single-cell mode (which will avoid calculating percent isoform use \\[pi\\] numbers for each cell), use the following code:\n",
    "\n",
    "```python\n",
    "sg = swan.SwanGraph(sc=True)\n",
    "```"
   ]
  },
  {
   "cell_type": "code",
   "execution_count": 2,
   "metadata": {},
   "outputs": [],
   "source": [
    "annot_gtf = 'data/gencode.v29.annotation.gtf'\n",
    "data_gtf = 'data/all_talon_observedOnly.gtf'\n",
    "ab_file = 'data/all_talon_abundance_filtered.tsv'\n",
    "talon_db = 'data/talon.db'\n",
    "adata_file = 'data/swan_anndata.h5ad'\n",
    "pass_list = 'data/all_pass_list.csv'\n",
    "meta = 'data/metadata.tsv'"
   ]
  },
  {
   "cell_type": "markdown",
   "metadata": {},
   "source": [
    "## <a name=\"add_trans\"></a>Adding a reference transcriptome"
   ]
  },
  {
   "cell_type": "code",
   "execution_count": 3,
   "metadata": {},
   "outputs": [
    {
     "name": "stdout",
     "output_type": "stream",
     "text": [
      "\n",
      "Adding annotation to the SwanGraph\n"
     ]
    }
   ],
   "source": [
    "# add an annotation transcriptome \n",
    "sg.add_annotation(annot_gtf)"
   ]
  },
  {
   "cell_type": "markdown",
   "metadata": {},
   "source": [
    "## <a name=\"add_gtf\"></a>Adding transcript models from a GTF"
   ]
  },
  {
   "cell_type": "markdown",
   "metadata": {},
   "source": [
    "Add all filtered transcript models to the SwanGraph."
   ]
  },
  {
   "cell_type": "code",
   "execution_count": 4,
   "metadata": {},
   "outputs": [
    {
     "name": "stdout",
     "output_type": "stream",
     "text": [
      "\n",
      "Adding transcriptome to the SwanGraph\n"
     ]
    }
   ],
   "source": [
    "# add a dataset's transcriptome to the SwanGraph\n",
    "sg.add_transcriptome(data_gtf)"
   ]
  },
  {
   "cell_type": "markdown",
   "metadata": {},
   "source": [
    "## <a name=\"add_ab\"></a>Adding abundance information"
   ]
  },
  {
   "cell_type": "markdown",
   "metadata": {},
   "source": [
    "### <a name=\"add_ab_tsv\"></a>Adding abundance from a TSV"
   ]
  },
  {
   "cell_type": "markdown",
   "metadata": {},
   "source": [
    "You can use an abundance matrix with columns for each desired dataset to add datasets to the SwanGraph. The file format is specified [here](https://freese.gitbook.io/swan/faqs/file_formats#abundance-matrix)."
   ]
  },
  {
   "cell_type": "code",
   "execution_count": 78,
   "metadata": {},
   "outputs": [
    {
     "name": "stdout",
     "output_type": "stream",
     "text": [
      "\n",
      "Adding abundance for datasets hepg2_1, hepg2_2, hffc6_1, hffc6_2, hffc6_3 to SwanGraph.\n"
     ]
    },
    {
     "name": "stderr",
     "output_type": "stream",
     "text": [
      "/Users/fairliereese/miniconda3/lib/python3.7/site-packages/anndata/_core/anndata.py:120: ImplicitModificationWarning: Transforming to str index.\n",
      "  warnings.warn(\"Transforming to str index.\", ImplicitModificationWarning)\n"
     ]
    }
   ],
   "source": [
    "# add each dataset's abundance information to the SwanGraph\n",
    "sg.add_abundance(ab_file)"
   ]
  },
  {
   "cell_type": "markdown",
   "metadata": {},
   "source": [
    "### <a name=\"add_ab_ad\"></a>Adding abundance from an AnnData"
   ]
  },
  {
   "cell_type": "markdown",
   "metadata": {},
   "source": [
    "If you have abundance information and metadata information in AnnData format, you can use this as direct input into Swan. This will help circumvent the dense matrix representation of the TSV in the case of very large datasets or single-cell data."
   ]
  },
  {
   "cell_type": "code",
   "execution_count": 3,
   "metadata": {},
   "outputs": [
    {
     "name": "stdout",
     "output_type": "stream",
     "text": [
      "\n",
      "Adding annotation to the SwanGraph\n",
      "\n",
      "Adding transcriptome to the SwanGraph\n",
      "\n",
      "Adding abundance for datasets hepg2_1, hepg2_2, hffc6_1, hffc6_2, hffc6_3 to SwanGraph.\n",
      "Calculating TPM...\n",
      "Calculating PI...\n",
      "Calculating edge usage...\n"
     ]
    },
    {
     "name": "stderr",
     "output_type": "stream",
     "text": [
      "/Users/fairliereese/Documents/programming/mortazavi_lab/bin/swan_vis/swan_vis/swangraph.py:828: FutureWarning: X.dtype being converted to np.float32 from float64. In the next version of anndata (0.9) conversion will not be automatic. Pass dtype explicitly to avoid this warning. Pass `AnnData(X, dtype=X.dtype, ...)` to get the future behavour.\n",
      "  adata = anndata.AnnData(var=var, obs=obs, X=X)\n",
      "/Users/fairliereese/miniconda3/envs/scanpy_2/lib/python3.7/site-packages/anndata/_core/anndata.py:121: ImplicitModificationWarning: Transforming to str index.\n",
      "  warnings.warn(\"Transforming to str index.\", ImplicitModificationWarning)\n"
     ]
    },
    {
     "name": "stdout",
     "output_type": "stream",
     "text": [
      "Calculating TSS usage...\n"
     ]
    },
    {
     "name": "stderr",
     "output_type": "stream",
     "text": [
      "/Users/fairliereese/Documents/programming/mortazavi_lab/bin/swan_vis/swan_vis/swangraph.py:759: FutureWarning: X.dtype being converted to np.float32 from float64. In the next version of anndata (0.9) conversion will not be automatic. Pass dtype explicitly to avoid this warning. Pass `AnnData(X, dtype=X.dtype, ...)` to get the future behavour.\n",
      "  adata = anndata.AnnData(var=var, obs=obs, X=X)\n"
     ]
    },
    {
     "name": "stdout",
     "output_type": "stream",
     "text": [
      "Calculating TES usage...\n"
     ]
    }
   ],
   "source": [
    "# add abundance for each dataset from the AnnData into the SwanGraph\n",
    "sg = swan.SwanGraph()\n",
    "sg.add_annotation(annot_gtf)\n",
    "sg.add_transcriptome(data_gtf)\n",
    "sg.add_adata(adata_file)"
   ]
  },
  {
   "cell_type": "markdown",
   "metadata": {},
   "source": [
    "By adding abundance information from either an AnnData or TSV file, Swan will also automatically calculate the counts and TPM for each TSS, TES, and intron or exon. If you had previously used `add_transcriptome()` to add a GTF that was generated by [Cerberus](https://github.com/mortazavilab/cerberus/tree/master) or uses Cerberus-style transcript IDs (ie. \\<gene_id\\>\\[1,1,1\\]), Swan will also calculate intron chain counts and TPM automatically. "
   ]
  },
  {
   "cell_type": "markdown",
   "metadata": {},
   "source": [
    "### <a name=\"add_ab_gene\"></a>Adding gene-level abundance"
   ]
  },
  {
   "cell_type": "markdown",
   "metadata": {},
   "source": [
    "You can also store gene expression in the SwanGraph. This can either be done from a TALON abundance TSV that contains transcript-level counts where the counts for each transcript will be summed up across the gene. Alternatively, supply this function a gene-level counts matrix where the first column is the gene ID rather than the transcript ID, but otherwise follows the [input abundance TSV format](https://freese.gitbook.io/swan/faqs/file_formats#abundance-matrix)."
   ]
  },
  {
   "cell_type": "code",
   "execution_count": 4,
   "metadata": {},
   "outputs": [
    {
     "name": "stderr",
     "output_type": "stream",
     "text": [
      "/Users/fairliereese/Documents/programming/mortazavi_lab/bin/swan_vis/swan_vis/swangraph.py:363: FutureWarning: X.dtype being converted to np.float32 from int64. In the next version of anndata (0.9) conversion will not be automatic. Pass dtype explicitly to avoid this warning. Pass `AnnData(X, dtype=X.dtype, ...)` to get the future behavour.\n",
      "  adata = anndata.AnnData(var=var, obs=obs, X=X)\n"
     ]
    },
    {
     "name": "stdout",
     "output_type": "stream",
     "text": [
      "\n",
      "Adding abundance for datasets hepg2_1, hepg2_2, hffc6_1, hffc6_2, hffc6_3 to SwanGraph.\n",
      "Calculating TPM...\n"
     ]
    }
   ],
   "source": [
    "# add gene-level abundance to the SwanGraph\n",
    "sg.add_abundance(ab_file, how='gene')"
   ]
  },
  {
   "cell_type": "markdown",
   "metadata": {},
   "source": [
    "##  <a name=\"save_load\"></a>Saving and loading your SwanGraph"
   ]
  },
  {
   "cell_type": "markdown",
   "metadata": {},
   "source": [
    "Following this, you can save your SwanGraph so you can easily work with it again without re-adding all the data."
   ]
  },
  {
   "cell_type": "code",
   "execution_count": 6,
   "metadata": {},
   "outputs": [
    {
     "name": "stdout",
     "output_type": "stream",
     "text": [
      "Saving graph as data/swan.p\n"
     ]
    }
   ],
   "source": [
    "# save the SwanGraph as a Python pickle file\n",
    "sg.save_graph('data/swan')"
   ]
  },
  {
   "cell_type": "markdown",
   "metadata": {},
   "source": [
    "And you can reload the graph again."
   ]
  },
  {
   "cell_type": "code",
   "execution_count": 6,
   "metadata": {},
   "outputs": [
    {
     "name": "stdout",
     "output_type": "stream",
     "text": [
      "Read in graph from data/swan.p\n"
     ]
    }
   ],
   "source": [
    "# load up a saved SwanGraph from a pickle file\n",
    "sg = swan.read('data/swan.p')"
   ]
  },
  {
   "cell_type": "markdown",
   "metadata": {},
   "source": [
    "##  <a name=\"add_db\"></a>Adding transcript models from a TALON DB"
   ]
  },
  {
   "cell_type": "markdown",
   "metadata": {},
   "source": [
    "Swan is also directly compatible with TALON databases and can pull transcript models directly from them. You can also optionally pass in a list of isoforms from [`talon_filter_transcripts`](https://github.com/mortazavilab/TALON#talon_filter) to filter your input transcript models."
   ]
  },
  {
   "cell_type": "code",
   "execution_count": 4,
   "metadata": {},
   "outputs": [
    {
     "name": "stdout",
     "output_type": "stream",
     "text": [
      "\n",
      "Adding annotation to the SwanGraph\n",
      "\n",
      "Adding transcriptome to the SwanGraph\n"
     ]
    },
    {
     "name": "stderr",
     "output_type": "stream",
     "text": [
      "/Users/fairliereese/Documents/programming/mortazavi_lab/bin/swan_vis/swan_vis/swangraph.py:346: FutureWarning: X.dtype being converted to np.float32 from int64. In the next version of anndata (0.9) conversion will not be automatic. Pass dtype explicitly to avoid this warning. Pass `AnnData(X, dtype=X.dtype, ...)` to get the future behavour.\n",
      "  adata = anndata.AnnData(var=var, obs=obs, X=X)\n"
     ]
    },
    {
     "name": "stdout",
     "output_type": "stream",
     "text": [
      "\n",
      "Adding abundance for datasets hepg2_1, hepg2_2, hffc6_1, hffc6_2, hffc6_3 to SwanGraph.\n",
      "Calculating TPM...\n",
      "Calculating PI...\n",
      "Calculating edge usage...\n"
     ]
    },
    {
     "name": "stderr",
     "output_type": "stream",
     "text": [
      "/Users/fairliereese/Documents/programming/mortazavi_lab/bin/swan_vis/swan_vis/swangraph.py:810: FutureWarning: X.dtype being converted to np.float32 from float64. In the next version of anndata (0.9) conversion will not be automatic. Pass dtype explicitly to avoid this warning. Pass `AnnData(X, dtype=X.dtype, ...)` to get the future behavour.\n",
      "  \n",
      "/Users/fairliereese/miniconda3/envs/scanpy_2/lib/python3.7/site-packages/anndata/_core/anndata.py:121: ImplicitModificationWarning: Transforming to str index.\n",
      "  warnings.warn(\"Transforming to str index.\", ImplicitModificationWarning)\n"
     ]
    },
    {
     "name": "stdout",
     "output_type": "stream",
     "text": [
      "Calculating TSS usage...\n"
     ]
    },
    {
     "name": "stderr",
     "output_type": "stream",
     "text": [
      "/Users/fairliereese/Documents/programming/mortazavi_lab/bin/swan_vis/swan_vis/swangraph.py:741: FutureWarning: X.dtype being converted to np.float32 from float64. In the next version of anndata (0.9) conversion will not be automatic. Pass dtype explicitly to avoid this warning. Pass `AnnData(X, dtype=X.dtype, ...)` to get the future behavour.\n",
      "  \n"
     ]
    },
    {
     "name": "stdout",
     "output_type": "stream",
     "text": [
      "Calculating TES usage...\n"
     ]
    }
   ],
   "source": [
    "# for this new example, create a new empty SwanGraph\n",
    "sg = swan.SwanGraph()\n",
    "\n",
    "# and add the annotation transcriptome to it\n",
    "sg.add_annotation(annot_gtf)\n",
    "\n",
    "# add transcriptome from TALON db\n",
    "sg.add_transcriptome(talon_db, pass_list=pass_list)\n",
    "\n",
    "# add each dataset's abundance information to the SwanGraph\n",
    "sg.add_abundance(ab_file)"
   ]
  },
  {
   "cell_type": "markdown",
   "metadata": {},
   "source": [
    "##  <a name=\"add_meta\"></a>Adding metadata"
   ]
  },
  {
   "cell_type": "markdown",
   "metadata": {},
   "source": [
    "Swan provides functionality to perform tests and plotting on the basis of metadata categories. Add metadata by calling the `SwanGraph.add_metadata()` function, or use the `SwanGraph.add_adata()` function to add both expression information and metadata at the same time."
   ]
  },
  {
   "cell_type": "code",
   "execution_count": 2,
   "metadata": {},
   "outputs": [
    {
     "name": "stdout",
     "output_type": "stream",
     "text": [
      "Read in graph from data/swan.p\n"
     ]
    },
    {
     "name": "stderr",
     "output_type": "stream",
     "text": [
      "/Users/fairliereese/miniconda3/envs/scanpy_2/lib/python3.7/site-packages/anndata/_core/anndata.py:798: UserWarning: \n",
      "AnnData expects .obs.index to contain strings, but got values like:\n",
      "    [0, 1, 2, 3, 4]\n",
      "\n",
      "    Inferred to be: integer\n",
      "\n",
      "  value_idx = self._prep_dim_index(value.index, attr)\n"
     ]
    }
   ],
   "source": [
    "sg = swan.read('data/swan.p')\n",
    "sg.add_metadata(meta)"
   ]
  },
  {
   "cell_type": "code",
   "execution_count": 3,
   "metadata": {},
   "outputs": [
    {
     "data": {
      "text/html": [
       "<div>\n",
       "<style scoped>\n",
       "    .dataframe tbody tr th:only-of-type {\n",
       "        vertical-align: middle;\n",
       "    }\n",
       "\n",
       "    .dataframe tbody tr th {\n",
       "        vertical-align: top;\n",
       "    }\n",
       "\n",
       "    .dataframe thead th {\n",
       "        text-align: right;\n",
       "    }\n",
       "</style>\n",
       "<table border=\"1\" class=\"dataframe\">\n",
       "  <thead>\n",
       "    <tr style=\"text-align: right;\">\n",
       "      <th></th>\n",
       "      <th>cell_line</th>\n",
       "      <th>replicate</th>\n",
       "      <th>dataset</th>\n",
       "      <th>total_counts</th>\n",
       "      <th>description</th>\n",
       "    </tr>\n",
       "    <tr>\n",
       "      <th>index</th>\n",
       "      <th></th>\n",
       "      <th></th>\n",
       "      <th></th>\n",
       "      <th></th>\n",
       "      <th></th>\n",
       "    </tr>\n",
       "  </thead>\n",
       "  <tbody>\n",
       "    <tr>\n",
       "      <th>hepg2_1</th>\n",
       "      <td>hepg2</td>\n",
       "      <td>1</td>\n",
       "      <td>hepg2_1</td>\n",
       "      <td>499647.0</td>\n",
       "      <td>liver</td>\n",
       "    </tr>\n",
       "    <tr>\n",
       "      <th>hepg2_2</th>\n",
       "      <td>hepg2</td>\n",
       "      <td>2</td>\n",
       "      <td>hepg2_2</td>\n",
       "      <td>848447.0</td>\n",
       "      <td>liver</td>\n",
       "    </tr>\n",
       "    <tr>\n",
       "      <th>hffc6_1</th>\n",
       "      <td>hffc6</td>\n",
       "      <td>1</td>\n",
       "      <td>hffc6_1</td>\n",
       "      <td>761493.0</td>\n",
       "      <td>fibroblast</td>\n",
       "    </tr>\n",
       "    <tr>\n",
       "      <th>hffc6_2</th>\n",
       "      <td>hffc6</td>\n",
       "      <td>2</td>\n",
       "      <td>hffc6_2</td>\n",
       "      <td>787967.0</td>\n",
       "      <td>fibroblast</td>\n",
       "    </tr>\n",
       "    <tr>\n",
       "      <th>hffc6_3</th>\n",
       "      <td>hffc6</td>\n",
       "      <td>3</td>\n",
       "      <td>hffc6_3</td>\n",
       "      <td>614921.0</td>\n",
       "      <td>fibroblast</td>\n",
       "    </tr>\n",
       "  </tbody>\n",
       "</table>\n",
       "</div>"
      ],
      "text/plain": [
       "        cell_line replicate  dataset  total_counts description\n",
       "index                                                         \n",
       "hepg2_1     hepg2         1  hepg2_1      499647.0       liver\n",
       "hepg2_2     hepg2         2  hepg2_2      848447.0       liver\n",
       "hffc6_1     hffc6         1  hffc6_1      761493.0  fibroblast\n",
       "hffc6_2     hffc6         2  hffc6_2      787967.0  fibroblast\n",
       "hffc6_3     hffc6         3  hffc6_3      614921.0  fibroblast"
      ]
     },
     "execution_count": 3,
     "metadata": {},
     "output_type": "execute_result"
    }
   ],
   "source": [
    "sg.adata.obs"
   ]
  },
  {
   "cell_type": "markdown",
   "metadata": {},
   "source": [
    "## <a name=\"cerberus\"></a> Behavior with Cerberus"
   ]
  },
  {
   "cell_type": "markdown",
   "metadata": {},
   "source": [
    "When you use a [Cerberus](https://github.com/mortazavilab/cerberus/tree/master) GTF in `SwanGraph.add_annotation()` or `SwanGraph.add_transcriptome()`, keep in mind the following:\n",
    "\n",
    "* Swan will use the TSS / TES assignments as dictated by Cerberus to define unique entries in `SwanGraph.tss_adata` and `SwanGraph.tes_adata`. For instance, if the same vertex is used in more than one gene, they will still be treated as separate vertices in the TSS / TES AnnDatas.\n",
    "* Swan will automatically pull intron chain information from the transcript triplet in Cerberus and use it to generate an AnnData tracking the expression of intron chains separately from the transcripts they come from in `SwanGraph.ic_adata`. This can also be used to perform isoform switching tests.\n",
    "* Currently, Swan does not parse Cerberus novelty categories. We are hoping to support this in a future release."
   ]
  },
  {
   "cell_type": "code",
   "execution_count": 8,
   "metadata": {
    "tags": []
   },
   "outputs": [
    {
     "name": "stdout",
     "output_type": "stream",
     "text": [
      "Read in graph from data/swan_modelad.p\n"
     ]
    },
    {
     "data": {
      "text/html": [
       "<div>\n",
       "<style scoped>\n",
       "    .dataframe tbody tr th:only-of-type {\n",
       "        vertical-align: middle;\n",
       "    }\n",
       "\n",
       "    .dataframe tbody tr th {\n",
       "        vertical-align: top;\n",
       "    }\n",
       "\n",
       "    .dataframe thead th {\n",
       "        text-align: right;\n",
       "    }\n",
       "</style>\n",
       "<table border=\"1\" class=\"dataframe\">\n",
       "  <thead>\n",
       "    <tr style=\"text-align: right;\">\n",
       "      <th></th>\n",
       "      <th>gid</th>\n",
       "      <th>gname</th>\n",
       "      <th>ic_name</th>\n",
       "      <th>n_cells</th>\n",
       "    </tr>\n",
       "    <tr>\n",
       "      <th>ic_id</th>\n",
       "      <th></th>\n",
       "      <th></th>\n",
       "      <th></th>\n",
       "      <th></th>\n",
       "    </tr>\n",
       "  </thead>\n",
       "  <tbody>\n",
       "    <tr>\n",
       "      <th>ENSMUSG00000118369_2</th>\n",
       "      <td>ENSMUSG00000118369</td>\n",
       "      <td>Gm30541</td>\n",
       "      <td>Gm30541_2</td>\n",
       "      <td>14</td>\n",
       "    </tr>\n",
       "    <tr>\n",
       "      <th>ENSMUSG00000118380_3</th>\n",
       "      <td>ENSMUSG00000118380</td>\n",
       "      <td>Gm36037</td>\n",
       "      <td>Gm36037_3</td>\n",
       "      <td>1</td>\n",
       "    </tr>\n",
       "    <tr>\n",
       "      <th>ENSMUSG00000118382_1</th>\n",
       "      <td>ENSMUSG00000118382</td>\n",
       "      <td>Gm8373</td>\n",
       "      <td>Gm8373_1</td>\n",
       "      <td>2</td>\n",
       "    </tr>\n",
       "    <tr>\n",
       "      <th>ENSMUSG00000118383_1</th>\n",
       "      <td>ENSMUSG00000118383</td>\n",
       "      <td>Gm50321</td>\n",
       "      <td>Gm50321_1</td>\n",
       "      <td>14</td>\n",
       "    </tr>\n",
       "    <tr>\n",
       "      <th>ENSMUSG00000118390_1</th>\n",
       "      <td>ENSMUSG00000118390</td>\n",
       "      <td>Gm50102</td>\n",
       "      <td>Gm50102_1</td>\n",
       "      <td>1</td>\n",
       "    </tr>\n",
       "  </tbody>\n",
       "</table>\n",
       "</div>"
      ],
      "text/plain": [
       "                                     gid    gname    ic_name  n_cells\n",
       "ic_id                                                                \n",
       "ENSMUSG00000118369_2  ENSMUSG00000118369  Gm30541  Gm30541_2       14\n",
       "ENSMUSG00000118380_3  ENSMUSG00000118380  Gm36037  Gm36037_3        1\n",
       "ENSMUSG00000118382_1  ENSMUSG00000118382   Gm8373   Gm8373_1        2\n",
       "ENSMUSG00000118383_1  ENSMUSG00000118383  Gm50321  Gm50321_1       14\n",
       "ENSMUSG00000118390_1  ENSMUSG00000118390  Gm50102  Gm50102_1        1"
      ]
     },
     "execution_count": 8,
     "metadata": {},
     "output_type": "execute_result"
    }
   ],
   "source": [
    "sg = swan.read('data/swan_modelad.p')\n",
    "sg.ic_adata.var.tail()"
   ]
  },
  {
   "cell_type": "code",
   "execution_count": 4,
   "metadata": {},
   "outputs": [
    {
     "name": "stdout",
     "output_type": "stream",
     "text": [
      "Saving graph as data/swan.p\n"
     ]
    }
   ],
   "source": [
    "# save the SwanGraph as a Python pickle file\n",
    "sg.save_graph('data/swan')"
   ]
  },
  {
   "cell_type": "code",
   "execution_count": 6,
   "metadata": {},
   "outputs": [
    {
     "name": "stdout",
     "output_type": "stream",
     "text": [
      "[[ 59.   0.   0.   0.   0.]\n",
      " [108.   0.   1.   2.   0.]\n",
      " [ 64.   0.   0.   0.   0.]\n",
      " [ 65.   1.   0.   3.   1.]\n",
      " [ 44.   0.   0.   5.   0.]]\n",
      "[[118.083374    0.          0.          0.          0.       ]\n",
      " [127.29138     0.          1.1786239   2.3572478   0.       ]\n",
      " [ 84.04542     0.          0.          0.          0.       ]\n",
      " [ 82.49076     1.2690886   0.          3.8072658   1.2690886]\n",
      " [ 71.55391     0.          0.          8.131126    0.       ]]\n",
      "[[ 79.72973    0.         0.         0.              nan]\n",
      " [ 90.         0.        11.111112 100.              nan]\n",
      " [ 88.88889    0.         0.              nan   0.      ]\n",
      " [ 87.83784    8.333334   0.        75.        50.      ]\n",
      " [ 89.79591    0.         0.        83.33333         nan]]\n"
     ]
    }
   ],
   "source": [
    "print(sg.adata.layers['counts'].todense()[:5, :5])\n",
    "print(sg.adata.layers['tpm'].todense()[:5, :5])\n",
    "print(sg.adata.layers['pi'].todense()[:5, :5])"
   ]
  },
  {
   "cell_type": "code",
   "execution_count": 18,
   "metadata": {},
   "outputs": [],
   "source": [
    "df = swan.calc_pi(sg.adata, sg.t_df, obs_col='dataset')"
   ]
  },
  {
   "cell_type": "code",
   "execution_count": 19,
   "metadata": {},
   "outputs": [
    {
     "name": "stdout",
     "output_type": "stream",
     "text": [
      "[[ 98.  43.   4.  23.   0.]\n",
      " [207.  66.   6.  52.   0.]\n",
      " [100. 148.   0.  82.   0.]\n",
      " [108. 191.   0.  98.   0.]\n",
      " [ 91. 168.   2. 106.   0.]]\n",
      "[[196.13847    86.06076     8.005652   46.032497    0.       ]\n",
      " [243.97517    77.789185    7.071744   61.28845     0.       ]\n",
      " [131.32097   194.35504     0.        107.6832      0.       ]\n",
      " [137.06158   242.39594     0.        124.37069     0.       ]\n",
      " [147.9865    273.20584     3.2524502 172.37987     0.       ]]\n",
      "[[100.       100.       100.       100.         0.      ]\n",
      " [ 99.519226 100.        60.000004 100.         0.      ]\n",
      " [ 98.039215 100.         0.       100.         0.      ]\n",
      " [ 99.08257  100.         0.       100.         0.      ]\n",
      " [100.       100.       100.       100.         0.      ]]\n"
     ]
    }
   ],
   "source": [
    "print(sg.adata.layers['counts'][:5, :5])\n",
    "print(sg.adata.layers['tpm'][:5, :5])\n",
    "print(sg.adata.layers['pi'][:5, :5])"
   ]
  }
 ],
 "metadata": {
  "kernelspec": {
   "display_name": "Python 3 (ipykernel)",
   "language": "python",
   "name": "python3"
  },
  "language_info": {
   "codemirror_mode": {
    "name": "ipython",
    "version": 3
   },
   "file_extension": ".py",
   "mimetype": "text/x-python",
   "name": "python",
   "nbconvert_exporter": "python",
   "pygments_lexer": "ipython3",
   "version": "3.7.12"
  }
 },
 "nbformat": 4,
 "nbformat_minor": 4
}
