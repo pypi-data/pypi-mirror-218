{
 "cells": [
  {
   "cell_type": "markdown",
   "id": "verified-migration",
   "metadata": {},
   "source": [
    "# Swan data structure\n",
    "\n",
    "A SwanGraph consists of several different parts that can be used individually. This page serves as an overview of several of the important features of a SwanGraph.\n",
    "\n"
   ]
  },
  {
   "cell_type": "markdown",
   "id": "organic-rouge",
   "metadata": {},
   "source": [
    "## Table of contents\n",
    "\n",
    "* [Genomic location information](data_structure.md#loc_df)\n",
    "* [Intron / exon information](data_structure#edge_df)\n",
    "* [Transcript information](data_structure#t_df)\n",
    "* [AnnData](data_structure#anndata)\n",
    "* [Current plotted graph information](data_structure#pg)\n"
   ]
  },
  {
   "cell_type": "markdown",
   "id": "lyric-berry",
   "metadata": {},
   "source": [
    "We'll be using the same SwanGraph from the rest of the tutorial to examine how data is stored in the SwanGraph. Load it using the following code:"
   ]
  },
  {
   "cell_type": "code",
   "execution_count": 1,
   "id": "processed-syndication",
   "metadata": {
    "tags": []
   },
   "outputs": [
    {
     "name": "stdout",
     "output_type": "stream",
     "text": [
      "Read in graph from ../tutorials/data/swan.p\n"
     ]
    }
   ],
   "source": [
    "import swan_vis as swan\n",
    "\n",
    "# code to download this data is in the Getting started tutorial\n",
    "sg = swan.read('../tutorials/data/swan.p')"
   ]
  },
  {
   "cell_type": "markdown",
   "id": "elect-enough",
   "metadata": {},
   "source": [
    "##  <a name=\"loc_df\"></a>Genomic location information"
   ]
  },
  {
   "cell_type": "markdown",
   "id": "controlled-burns",
   "metadata": {},
   "source": [
    "Swan stores information on individual genomic locations that eventually are plotted as nodes in the SwanGraph in the `SwanGraph.loc_df` pandas DataFrame. The information in the DataFrame and the column names are described below:\n",
    "* chromosomal coordinates (chrom, coord)\n",
    "* whether or not the genomic location is present in the provided reference annotation (annotation)\n",
    "* what role the location plays in the transcript(s) that it is part of (internal, TSS, TES)\n",
    "* internal identifier in the SwanGraph (vertex_id)"
   ]
  },
  {
   "cell_type": "code",
   "execution_count": 2,
   "id": "verbal-characterization",
   "metadata": {
    "tags": []
   },
   "outputs": [
    {
     "data": {
      "text/html": [
       "<div>\n",
       "<style scoped>\n",
       "    .dataframe tbody tr th:only-of-type {\n",
       "        vertical-align: middle;\n",
       "    }\n",
       "\n",
       "    .dataframe tbody tr th {\n",
       "        vertical-align: top;\n",
       "    }\n",
       "\n",
       "    .dataframe thead th {\n",
       "        text-align: right;\n",
       "    }\n",
       "</style>\n",
       "<table border=\"1\" class=\"dataframe\">\n",
       "  <thead>\n",
       "    <tr style=\"text-align: right;\">\n",
       "      <th></th>\n",
       "      <th>chrom</th>\n",
       "      <th>coord</th>\n",
       "      <th>vertex_id</th>\n",
       "      <th>annotation</th>\n",
       "      <th>internal</th>\n",
       "      <th>TSS</th>\n",
       "      <th>TES</th>\n",
       "    </tr>\n",
       "    <tr>\n",
       "      <th>vertex_id</th>\n",
       "      <th></th>\n",
       "      <th></th>\n",
       "      <th></th>\n",
       "      <th></th>\n",
       "      <th></th>\n",
       "      <th></th>\n",
       "      <th></th>\n",
       "    </tr>\n",
       "  </thead>\n",
       "  <tbody>\n",
       "    <tr>\n",
       "      <th>0</th>\n",
       "      <td>chr1</td>\n",
       "      <td>11869</td>\n",
       "      <td>0</td>\n",
       "      <td>True</td>\n",
       "      <td>False</td>\n",
       "      <td>True</td>\n",
       "      <td>False</td>\n",
       "    </tr>\n",
       "    <tr>\n",
       "      <th>1</th>\n",
       "      <td>chr1</td>\n",
       "      <td>12010</td>\n",
       "      <td>1</td>\n",
       "      <td>True</td>\n",
       "      <td>False</td>\n",
       "      <td>True</td>\n",
       "      <td>False</td>\n",
       "    </tr>\n",
       "    <tr>\n",
       "      <th>2</th>\n",
       "      <td>chr1</td>\n",
       "      <td>12057</td>\n",
       "      <td>2</td>\n",
       "      <td>True</td>\n",
       "      <td>True</td>\n",
       "      <td>False</td>\n",
       "      <td>False</td>\n",
       "    </tr>\n",
       "    <tr>\n",
       "      <th>3</th>\n",
       "      <td>chr1</td>\n",
       "      <td>12179</td>\n",
       "      <td>3</td>\n",
       "      <td>True</td>\n",
       "      <td>True</td>\n",
       "      <td>False</td>\n",
       "      <td>False</td>\n",
       "    </tr>\n",
       "    <tr>\n",
       "      <th>4</th>\n",
       "      <td>chr1</td>\n",
       "      <td>12227</td>\n",
       "      <td>4</td>\n",
       "      <td>True</td>\n",
       "      <td>True</td>\n",
       "      <td>False</td>\n",
       "      <td>False</td>\n",
       "    </tr>\n",
       "  </tbody>\n",
       "</table>\n",
       "</div>"
      ],
      "text/plain": [
       "          chrom  coord  vertex_id  annotation  internal    TSS    TES\n",
       "vertex_id                                                            \n",
       "0          chr1  11869          0        True     False   True  False\n",
       "1          chr1  12010          1        True     False   True  False\n",
       "2          chr1  12057          2        True      True  False  False\n",
       "3          chr1  12179          3        True      True  False  False\n",
       "4          chr1  12227          4        True      True  False  False"
      ]
     },
     "execution_count": 2,
     "metadata": {},
     "output_type": "execute_result"
    }
   ],
   "source": [
    "sg.loc_df.head()"
   ]
  },
  {
   "cell_type": "markdown",
   "id": "analyzed-petroleum",
   "metadata": {},
   "source": [
    "##  <a name=\"edge_df\"></a>Intron / exon location information"
   ]
  },
  {
   "cell_type": "markdown",
   "id": "typical-saturn",
   "metadata": {},
   "source": [
    "Swan stores information about the exons and introns that are eventually plotted as edges in the SwanGraph in the `SwanGraph.edge_df` pandas DataFrame. The information in the DataFrame and the column names are described below:\n",
    "* internal vertex ids from `SwanGraph.loc_df` that bound each edge (v1, v2)\n",
    "* strand that this edge is from (strand)\n",
    "* whether this edge is an intron or an exon (edge_type)\n",
    "* whether or not the edge is present in the provided reference annotation (annotation)\n",
    "* internal identifier in the SwanGraph (edge_id)"
   ]
  },
  {
   "cell_type": "code",
   "execution_count": 3,
   "id": "visible-series",
   "metadata": {
    "tags": []
   },
   "outputs": [
    {
     "data": {
      "text/html": [
       "<div>\n",
       "<style scoped>\n",
       "    .dataframe tbody tr th:only-of-type {\n",
       "        vertical-align: middle;\n",
       "    }\n",
       "\n",
       "    .dataframe tbody tr th {\n",
       "        vertical-align: top;\n",
       "    }\n",
       "\n",
       "    .dataframe thead th {\n",
       "        text-align: right;\n",
       "    }\n",
       "</style>\n",
       "<table border=\"1\" class=\"dataframe\">\n",
       "  <thead>\n",
       "    <tr style=\"text-align: right;\">\n",
       "      <th></th>\n",
       "      <th>v1</th>\n",
       "      <th>v2</th>\n",
       "      <th>strand</th>\n",
       "      <th>edge_type</th>\n",
       "      <th>edge_id</th>\n",
       "      <th>annotation</th>\n",
       "    </tr>\n",
       "    <tr>\n",
       "      <th>edge_id</th>\n",
       "      <th></th>\n",
       "      <th></th>\n",
       "      <th></th>\n",
       "      <th></th>\n",
       "      <th></th>\n",
       "      <th></th>\n",
       "    </tr>\n",
       "  </thead>\n",
       "  <tbody>\n",
       "    <tr>\n",
       "      <th>0</th>\n",
       "      <td>0</td>\n",
       "      <td>4</td>\n",
       "      <td>+</td>\n",
       "      <td>exon</td>\n",
       "      <td>0</td>\n",
       "      <td>True</td>\n",
       "    </tr>\n",
       "    <tr>\n",
       "      <th>5</th>\n",
       "      <td>1</td>\n",
       "      <td>2</td>\n",
       "      <td>+</td>\n",
       "      <td>exon</td>\n",
       "      <td>5</td>\n",
       "      <td>True</td>\n",
       "    </tr>\n",
       "    <tr>\n",
       "      <th>6</th>\n",
       "      <td>2</td>\n",
       "      <td>3</td>\n",
       "      <td>+</td>\n",
       "      <td>intron</td>\n",
       "      <td>6</td>\n",
       "      <td>True</td>\n",
       "    </tr>\n",
       "    <tr>\n",
       "      <th>7</th>\n",
       "      <td>3</td>\n",
       "      <td>4</td>\n",
       "      <td>+</td>\n",
       "      <td>exon</td>\n",
       "      <td>7</td>\n",
       "      <td>True</td>\n",
       "    </tr>\n",
       "    <tr>\n",
       "      <th>1</th>\n",
       "      <td>4</td>\n",
       "      <td>5</td>\n",
       "      <td>+</td>\n",
       "      <td>intron</td>\n",
       "      <td>1</td>\n",
       "      <td>True</td>\n",
       "    </tr>\n",
       "  </tbody>\n",
       "</table>\n",
       "</div>"
      ],
      "text/plain": [
       "         v1  v2 strand edge_type  edge_id  annotation\n",
       "edge_id                                              \n",
       "0         0   4      +      exon        0        True\n",
       "5         1   2      +      exon        5        True\n",
       "6         2   3      +    intron        6        True\n",
       "7         3   4      +      exon        7        True\n",
       "1         4   5      +    intron        1        True"
      ]
     },
     "execution_count": 3,
     "metadata": {},
     "output_type": "execute_result"
    }
   ],
   "source": [
    "sg.edge_df.head()"
   ]
  },
  {
   "cell_type": "markdown",
   "id": "affecting-greece",
   "metadata": {},
   "source": [
    "##  <a name=\"t_df\"></a>Transcript information"
   ]
  },
  {
   "cell_type": "markdown",
   "id": "hollow-associate",
   "metadata": {},
   "source": [
    "Swan stores information about the transcripts from the annotation and added transcriptome in the `SwanGraph.t_df` pandas DataFrame. The information in the DataFrame and the column names are described below:\n",
    "* transcript ID from the GTF (tid)\n",
    "* transcript name from the GTF, if provided (tname)\n",
    "* gene ID from the GTF (gid)\n",
    "* gene name from the GTF, if provided (gname)\n",
    "* path of edges (edge_ids from `SwanGraph.edge_df`) that make up the transcript (path)\n",
    "* path of genomic locations (vertex_ids from `SwanGraph.loc_df`) that make up the transcript (loc_path)\n",
    "* whether or not the transcript is present in the provided reference annotation (annotation)\n",
    "* novelty category of the transcript, if provided (novelty)"
   ]
  },
  {
   "cell_type": "code",
   "execution_count": 4,
   "id": "hollow-amount",
   "metadata": {
    "tags": []
   },
   "outputs": [
    {
     "data": {
      "text/html": [
       "<div>\n",
       "<style scoped>\n",
       "    .dataframe tbody tr th:only-of-type {\n",
       "        vertical-align: middle;\n",
       "    }\n",
       "\n",
       "    .dataframe tbody tr th {\n",
       "        vertical-align: top;\n",
       "    }\n",
       "\n",
       "    .dataframe thead th {\n",
       "        text-align: right;\n",
       "    }\n",
       "</style>\n",
       "<table border=\"1\" class=\"dataframe\">\n",
       "  <thead>\n",
       "    <tr style=\"text-align: right;\">\n",
       "      <th></th>\n",
       "      <th>tname</th>\n",
       "      <th>gid</th>\n",
       "      <th>gname</th>\n",
       "      <th>path</th>\n",
       "      <th>tid</th>\n",
       "      <th>loc_path</th>\n",
       "      <th>annotation</th>\n",
       "      <th>novelty</th>\n",
       "    </tr>\n",
       "    <tr>\n",
       "      <th>tid</th>\n",
       "      <th></th>\n",
       "      <th></th>\n",
       "      <th></th>\n",
       "      <th></th>\n",
       "      <th></th>\n",
       "      <th></th>\n",
       "      <th></th>\n",
       "      <th></th>\n",
       "    </tr>\n",
       "  </thead>\n",
       "  <tbody>\n",
       "    <tr>\n",
       "      <th>ENST00000000233.9</th>\n",
       "      <td>ARF5-201</td>\n",
       "      <td>ENSG00000004059</td>\n",
       "      <td>ARF5</td>\n",
       "      <td>[377467, 377468, 377469, 377470, 377471, 37747...</td>\n",
       "      <td>ENST00000000233.9</td>\n",
       "      <td>[827256, 827261, 827264, 827265, 827266, 82726...</td>\n",
       "      <td>True</td>\n",
       "      <td>Known</td>\n",
       "    </tr>\n",
       "    <tr>\n",
       "      <th>ENST00000000412.7</th>\n",
       "      <td>M6PR-201</td>\n",
       "      <td>ENSG00000003056</td>\n",
       "      <td>M6PR</td>\n",
       "      <td>[555507, 555495, 555496, 555497, 555498, 55550...</td>\n",
       "      <td>ENST00000000412.7</td>\n",
       "      <td>[184557, 184551, 184547, 184542, 184541, 18453...</td>\n",
       "      <td>True</td>\n",
       "      <td>Known</td>\n",
       "    </tr>\n",
       "    <tr>\n",
       "      <th>ENST00000000442.10</th>\n",
       "      <td>ESRRA-201</td>\n",
       "      <td>ENSG00000173153</td>\n",
       "      <td>ESRRA</td>\n",
       "      <td>[520219, 520207, 520208, 520209, 520210, 52021...</td>\n",
       "      <td>ENST00000000442.10</td>\n",
       "      <td>[149944, 149946, 149951, 149952, 149955, 14995...</td>\n",
       "      <td>True</td>\n",
       "      <td>Known</td>\n",
       "    </tr>\n",
       "    <tr>\n",
       "      <th>ENST00000001008.5</th>\n",
       "      <td>FKBP4-201</td>\n",
       "      <td>ENSG00000004478</td>\n",
       "      <td>FKBP4</td>\n",
       "      <td>[550369, 550370, 550371, 550372, 550373, 55037...</td>\n",
       "      <td>ENST00000001008.5</td>\n",
       "      <td>[179573, 179578, 179588, 179591, 179592, 17959...</td>\n",
       "      <td>True</td>\n",
       "      <td>Known</td>\n",
       "    </tr>\n",
       "    <tr>\n",
       "      <th>ENST00000001146.6</th>\n",
       "      <td>CYP26B1-201</td>\n",
       "      <td>ENSG00000003137</td>\n",
       "      <td>CYP26B1</td>\n",
       "      <td>[111085, 111086, 111087, 111088, 111078, 11107...</td>\n",
       "      <td>ENST00000001146.6</td>\n",
       "      <td>[510480, 510478, 510476, 510475, 510472, 51047...</td>\n",
       "      <td>True</td>\n",
       "      <td>Known</td>\n",
       "    </tr>\n",
       "  </tbody>\n",
       "</table>\n",
       "</div>"
      ],
      "text/plain": [
       "                          tname              gid    gname  \\\n",
       "tid                                                         \n",
       "ENST00000000233.9      ARF5-201  ENSG00000004059     ARF5   \n",
       "ENST00000000412.7      M6PR-201  ENSG00000003056     M6PR   \n",
       "ENST00000000442.10    ESRRA-201  ENSG00000173153    ESRRA   \n",
       "ENST00000001008.5     FKBP4-201  ENSG00000004478    FKBP4   \n",
       "ENST00000001146.6   CYP26B1-201  ENSG00000003137  CYP26B1   \n",
       "\n",
       "                                                                 path  \\\n",
       "tid                                                                     \n",
       "ENST00000000233.9   [377467, 377468, 377469, 377470, 377471, 37747...   \n",
       "ENST00000000412.7   [555507, 555495, 555496, 555497, 555498, 55550...   \n",
       "ENST00000000442.10  [520219, 520207, 520208, 520209, 520210, 52021...   \n",
       "ENST00000001008.5   [550369, 550370, 550371, 550372, 550373, 55037...   \n",
       "ENST00000001146.6   [111085, 111086, 111087, 111088, 111078, 11107...   \n",
       "\n",
       "                                   tid  \\\n",
       "tid                                      \n",
       "ENST00000000233.9    ENST00000000233.9   \n",
       "ENST00000000412.7    ENST00000000412.7   \n",
       "ENST00000000442.10  ENST00000000442.10   \n",
       "ENST00000001008.5    ENST00000001008.5   \n",
       "ENST00000001146.6    ENST00000001146.6   \n",
       "\n",
       "                                                             loc_path  \\\n",
       "tid                                                                     \n",
       "ENST00000000233.9   [827256, 827261, 827264, 827265, 827266, 82726...   \n",
       "ENST00000000412.7   [184557, 184551, 184547, 184542, 184541, 18453...   \n",
       "ENST00000000442.10  [149944, 149946, 149951, 149952, 149955, 14995...   \n",
       "ENST00000001008.5   [179573, 179578, 179588, 179591, 179592, 17959...   \n",
       "ENST00000001146.6   [510480, 510478, 510476, 510475, 510472, 51047...   \n",
       "\n",
       "                    annotation novelty  \n",
       "tid                                     \n",
       "ENST00000000233.9         True   Known  \n",
       "ENST00000000412.7         True   Known  \n",
       "ENST00000000442.10        True   Known  \n",
       "ENST00000001008.5         True   Known  \n",
       "ENST00000001146.6         True   Known  "
      ]
     },
     "execution_count": 4,
     "metadata": {},
     "output_type": "execute_result"
    }
   ],
   "source": [
    "sg.t_df.head()"
   ]
  },
  {
   "cell_type": "markdown",
   "id": "separated-overhead",
   "metadata": {},
   "source": [
    "##  <a name=\"anndata\"></a>AnnData"
   ]
  },
  {
   "cell_type": "markdown",
   "id": "institutional-asbestos",
   "metadata": {},
   "source": [
    "Swan stores abundance information for transcripts, TSSs, TESs, and edges using the [AnnData](https://anndata.readthedocs.io/en/latest/) data format. This allows for tracking of abundance information using multiple metrics, storage of complex metadata, and direct compatibility with plotting and analysis using [Scanpy](https://scanpy.readthedocs.io/en/stable/index.html). Since there's a lot of information online about these data formats, I'll just go over the specifics that Swan uses."
   ]
  },
  {
   "cell_type": "markdown",
   "id": "exposed-clone",
   "metadata": {},
   "source": [
    "### General AnnData format"
   ]
  },
  {
   "cell_type": "markdown",
   "id": "incorporated-vision",
   "metadata": {},
   "source": [
    "The basic AnnData format is comprised of:\n",
    "* `AnnData.obs` - pandas DataFrame - information and metadata about the samples / cells / datasets\n",
    "* `AnnData.var` - pandas DataFrame - information about the variables being measured (ie genes, transcripts etc.)\n",
    "* `AnnData.X` - numpy array - information about expression of each variable in each sample\n",
    "\n",
    "In Swan, the expression data is stored in three different formats that can be accessed through different layers:\n",
    "* `AnnData.layers['counts']` - raw counts of each variable in each sample\n",
    "* `AnnData.layers['tpm']` - transcripts per million calculated per sample\n",
    "* `AnnData.layers['pi']` - percent isoform use per gene (only calculated for transcripts, TSS, TES)"
   ]
  },
  {
   "cell_type": "markdown",
   "id": "coated-particular",
   "metadata": {},
   "source": [
    "### Transcript AnnData"
   ]
  },
  {
   "cell_type": "markdown",
   "id": "ultimate-husband",
   "metadata": {},
   "source": [
    "You can access transcript expression information using `SwanGraph.adata`.\n",
    "\n",
    "The variable information stored is just the transcript ID but can be merged with `SwanGraph.t_df` for more information."
   ]
  },
  {
   "cell_type": "code",
   "execution_count": 15,
   "id": "continuing-pennsylvania",
   "metadata": {},
   "outputs": [
    {
     "data": {
      "text/html": [
       "<div>\n",
       "<style scoped>\n",
       "    .dataframe tbody tr th:only-of-type {\n",
       "        vertical-align: middle;\n",
       "    }\n",
       "\n",
       "    .dataframe tbody tr th {\n",
       "        vertical-align: top;\n",
       "    }\n",
       "\n",
       "    .dataframe thead th {\n",
       "        text-align: right;\n",
       "    }\n",
       "</style>\n",
       "<table border=\"1\" class=\"dataframe\">\n",
       "  <thead>\n",
       "    <tr style=\"text-align: right;\">\n",
       "      <th></th>\n",
       "      <th>tid</th>\n",
       "    </tr>\n",
       "    <tr>\n",
       "      <th>tid</th>\n",
       "      <th></th>\n",
       "    </tr>\n",
       "  </thead>\n",
       "  <tbody>\n",
       "    <tr>\n",
       "      <th>ENST00000000233.9</th>\n",
       "      <td>ENST00000000233.9</td>\n",
       "    </tr>\n",
       "    <tr>\n",
       "      <th>ENST00000000412.7</th>\n",
       "      <td>ENST00000000412.7</td>\n",
       "    </tr>\n",
       "    <tr>\n",
       "      <th>ENST00000000442.10</th>\n",
       "      <td>ENST00000000442.10</td>\n",
       "    </tr>\n",
       "    <tr>\n",
       "      <th>ENST00000001008.5</th>\n",
       "      <td>ENST00000001008.5</td>\n",
       "    </tr>\n",
       "    <tr>\n",
       "      <th>ENST00000001146.6</th>\n",
       "      <td>ENST00000001146.6</td>\n",
       "    </tr>\n",
       "  </tbody>\n",
       "</table>\n",
       "</div>"
      ],
      "text/plain": [
       "                                   tid\n",
       "tid                                   \n",
       "ENST00000000233.9    ENST00000000233.9\n",
       "ENST00000000412.7    ENST00000000412.7\n",
       "ENST00000000442.10  ENST00000000442.10\n",
       "ENST00000001008.5    ENST00000001008.5\n",
       "ENST00000001146.6    ENST00000001146.6"
      ]
     },
     "execution_count": 15,
     "metadata": {},
     "output_type": "execute_result"
    }
   ],
   "source": [
    "sg.adata.var.head()"
   ]
  },
  {
   "cell_type": "markdown",
   "id": "coordinate-patrol",
   "metadata": {},
   "source": [
    "The metadata information that has been added to the SwanGraph along with the initial dataset name from the column names of the added abundance table."
   ]
  },
  {
   "cell_type": "code",
   "execution_count": 16,
   "id": "sublime-findings",
   "metadata": {},
   "outputs": [
    {
     "data": {
      "text/html": [
       "<div>\n",
       "<style scoped>\n",
       "    .dataframe tbody tr th:only-of-type {\n",
       "        vertical-align: middle;\n",
       "    }\n",
       "\n",
       "    .dataframe tbody tr th {\n",
       "        vertical-align: top;\n",
       "    }\n",
       "\n",
       "    .dataframe thead th {\n",
       "        text-align: right;\n",
       "    }\n",
       "</style>\n",
       "<table border=\"1\" class=\"dataframe\">\n",
       "  <thead>\n",
       "    <tr style=\"text-align: right;\">\n",
       "      <th></th>\n",
       "      <th>dataset</th>\n",
       "      <th>cell_line</th>\n",
       "      <th>replicate</th>\n",
       "      <th>cell_line_replicate</th>\n",
       "    </tr>\n",
       "    <tr>\n",
       "      <th>index</th>\n",
       "      <th></th>\n",
       "      <th></th>\n",
       "      <th></th>\n",
       "      <th></th>\n",
       "    </tr>\n",
       "  </thead>\n",
       "  <tbody>\n",
       "    <tr>\n",
       "      <th>hepg2_1</th>\n",
       "      <td>hepg2_1</td>\n",
       "      <td>hepg2</td>\n",
       "      <td>1</td>\n",
       "      <td>hepg2_1</td>\n",
       "    </tr>\n",
       "    <tr>\n",
       "      <th>hepg2_2</th>\n",
       "      <td>hepg2_2</td>\n",
       "      <td>hepg2</td>\n",
       "      <td>2</td>\n",
       "      <td>hepg2_2</td>\n",
       "    </tr>\n",
       "    <tr>\n",
       "      <th>hffc6_1</th>\n",
       "      <td>hffc6_1</td>\n",
       "      <td>hffc6</td>\n",
       "      <td>1</td>\n",
       "      <td>hffc6_1</td>\n",
       "    </tr>\n",
       "    <tr>\n",
       "      <th>hffc6_2</th>\n",
       "      <td>hffc6_2</td>\n",
       "      <td>hffc6</td>\n",
       "      <td>2</td>\n",
       "      <td>hffc6_2</td>\n",
       "    </tr>\n",
       "    <tr>\n",
       "      <th>hffc6_3</th>\n",
       "      <td>hffc6_3</td>\n",
       "      <td>hffc6</td>\n",
       "      <td>3</td>\n",
       "      <td>hffc6_3</td>\n",
       "    </tr>\n",
       "  </tbody>\n",
       "</table>\n",
       "</div>"
      ],
      "text/plain": [
       "         dataset cell_line replicate cell_line_replicate\n",
       "index                                                   \n",
       "hepg2_1  hepg2_1     hepg2         1             hepg2_1\n",
       "hepg2_2  hepg2_2     hepg2         2             hepg2_2\n",
       "hffc6_1  hffc6_1     hffc6         1             hffc6_1\n",
       "hffc6_2  hffc6_2     hffc6         2             hffc6_2\n",
       "hffc6_3  hffc6_3     hffc6         3             hffc6_3"
      ]
     },
     "execution_count": 16,
     "metadata": {},
     "output_type": "execute_result"
    }
   ],
   "source": [
    "sg.adata.obs.head()"
   ]
  },
  {
   "cell_type": "markdown",
   "id": "ahead-population",
   "metadata": {},
   "source": [
    "The expression information are stored in `SwanGraph.adata.layers['counts']`, `SwanGraph.adata.layers['tpm']`, and `SwanGraph.adata.layers['pi']` for raw counts, TPM, and percent isoform (pi) respectively. "
   ]
  },
  {
   "cell_type": "code",
   "execution_count": 48,
   "id": "unable-humidity",
   "metadata": {},
   "outputs": [
    {
     "name": "stdout",
     "output_type": "stream",
     "text": [
      "[[ 98.  43.   4.  23.   0.]\n",
      " [207.  66.   6.  52.   0.]\n",
      " [100. 148.   0.  82.   0.]\n",
      " [108. 191.   0.  98.   0.]\n",
      " [ 91. 168.   2. 106.   0.]]\n",
      "[[196.13847    86.06076     8.005652   46.032497    0.       ]\n",
      " [243.97517    77.789185    7.071744   61.28845     0.       ]\n",
      " [131.32097   194.35504     0.        107.6832      0.       ]\n",
      " [137.06158   242.39594     0.        124.37069     0.       ]\n",
      " [147.9865    273.20584     3.2524502 172.37987     0.       ]]\n",
      "[[100.       100.       100.       100.         0.      ]\n",
      " [ 99.519226 100.        60.000004 100.         0.      ]\n",
      " [ 98.039215 100.         0.       100.         0.      ]\n",
      " [ 99.08257  100.         0.       100.         0.      ]\n",
      " [100.       100.       100.       100.         0.      ]]\n"
     ]
    }
   ],
   "source": [
    "print(sg.adata.layers['counts'][:5, :5])\n",
    "print(sg.adata.layers['tpm'][:5, :5])\n",
    "print(sg.adata.layers['pi'][:5, :5])"
   ]
  },
  {
   "cell_type": "markdown",
   "id": "aquatic-eating",
   "metadata": {},
   "source": [
    "### Edge AnnData"
   ]
  },
  {
   "cell_type": "markdown",
   "id": "royal-camcorder",
   "metadata": {},
   "source": [
    "You can access edge expression information using `SwanGraph.edge_adata`.\n",
    "\n",
    "The variable information stored is just the edge ID but can be merged with `SwanGraph.edge_df` for more information."
   ]
  },
  {
   "cell_type": "code",
   "execution_count": 49,
   "id": "marine-courtesy",
   "metadata": {},
   "outputs": [
    {
     "data": {
      "text/html": [
       "<div>\n",
       "<style scoped>\n",
       "    .dataframe tbody tr th:only-of-type {\n",
       "        vertical-align: middle;\n",
       "    }\n",
       "\n",
       "    .dataframe tbody tr th {\n",
       "        vertical-align: top;\n",
       "    }\n",
       "\n",
       "    .dataframe thead th {\n",
       "        text-align: right;\n",
       "    }\n",
       "</style>\n",
       "<table border=\"1\" class=\"dataframe\">\n",
       "  <thead>\n",
       "    <tr style=\"text-align: right;\">\n",
       "      <th></th>\n",
       "      <th>edge_id</th>\n",
       "    </tr>\n",
       "    <tr>\n",
       "      <th>edge_id</th>\n",
       "      <th></th>\n",
       "    </tr>\n",
       "  </thead>\n",
       "  <tbody>\n",
       "    <tr>\n",
       "      <th>0</th>\n",
       "      <td>0</td>\n",
       "    </tr>\n",
       "    <tr>\n",
       "      <th>5</th>\n",
       "      <td>5</td>\n",
       "    </tr>\n",
       "    <tr>\n",
       "      <th>6</th>\n",
       "      <td>6</td>\n",
       "    </tr>\n",
       "    <tr>\n",
       "      <th>7</th>\n",
       "      <td>7</td>\n",
       "    </tr>\n",
       "    <tr>\n",
       "      <th>1</th>\n",
       "      <td>1</td>\n",
       "    </tr>\n",
       "  </tbody>\n",
       "</table>\n",
       "</div>"
      ],
      "text/plain": [
       "         edge_id\n",
       "edge_id         \n",
       "0              0\n",
       "5              5\n",
       "6              6\n",
       "7              7\n",
       "1              1"
      ]
     },
     "execution_count": 49,
     "metadata": {},
     "output_type": "execute_result"
    }
   ],
   "source": [
    "sg.edge_adata.var.head()"
   ]
  },
  {
   "cell_type": "markdown",
   "id": "celtic-orbit",
   "metadata": {},
   "source": [
    "The metadata information that has been added to the SwanGraph along with the initial dataset name from the column names of the added abundance table. It should be identical to `SwanGraph.adata.obs`."
   ]
  },
  {
   "cell_type": "code",
   "execution_count": 50,
   "id": "extra-struggle",
   "metadata": {},
   "outputs": [
    {
     "data": {
      "text/html": [
       "<div>\n",
       "<style scoped>\n",
       "    .dataframe tbody tr th:only-of-type {\n",
       "        vertical-align: middle;\n",
       "    }\n",
       "\n",
       "    .dataframe tbody tr th {\n",
       "        vertical-align: top;\n",
       "    }\n",
       "\n",
       "    .dataframe thead th {\n",
       "        text-align: right;\n",
       "    }\n",
       "</style>\n",
       "<table border=\"1\" class=\"dataframe\">\n",
       "  <thead>\n",
       "    <tr style=\"text-align: right;\">\n",
       "      <th></th>\n",
       "      <th>dataset</th>\n",
       "      <th>cell_line</th>\n",
       "      <th>replicate</th>\n",
       "    </tr>\n",
       "    <tr>\n",
       "      <th>index</th>\n",
       "      <th></th>\n",
       "      <th></th>\n",
       "      <th></th>\n",
       "    </tr>\n",
       "  </thead>\n",
       "  <tbody>\n",
       "    <tr>\n",
       "      <th>hepg2_1</th>\n",
       "      <td>hepg2_1</td>\n",
       "      <td>hepg2</td>\n",
       "      <td>1</td>\n",
       "    </tr>\n",
       "    <tr>\n",
       "      <th>hepg2_2</th>\n",
       "      <td>hepg2_2</td>\n",
       "      <td>hepg2</td>\n",
       "      <td>2</td>\n",
       "    </tr>\n",
       "    <tr>\n",
       "      <th>hffc6_1</th>\n",
       "      <td>hffc6_1</td>\n",
       "      <td>hffc6</td>\n",
       "      <td>1</td>\n",
       "    </tr>\n",
       "    <tr>\n",
       "      <th>hffc6_2</th>\n",
       "      <td>hffc6_2</td>\n",
       "      <td>hffc6</td>\n",
       "      <td>2</td>\n",
       "    </tr>\n",
       "    <tr>\n",
       "      <th>hffc6_3</th>\n",
       "      <td>hffc6_3</td>\n",
       "      <td>hffc6</td>\n",
       "      <td>3</td>\n",
       "    </tr>\n",
       "  </tbody>\n",
       "</table>\n",
       "</div>"
      ],
      "text/plain": [
       "         dataset cell_line replicate\n",
       "index                               \n",
       "hepg2_1  hepg2_1     hepg2         1\n",
       "hepg2_2  hepg2_2     hepg2         2\n",
       "hffc6_1  hffc6_1     hffc6         1\n",
       "hffc6_2  hffc6_2     hffc6         2\n",
       "hffc6_3  hffc6_3     hffc6         3"
      ]
     },
     "execution_count": 50,
     "metadata": {},
     "output_type": "execute_result"
    }
   ],
   "source": [
    "sg.edge_adata.obs.head()"
   ]
  },
  {
   "cell_type": "markdown",
   "id": "homeless-catholic",
   "metadata": {},
   "source": [
    "And similarly, counts and TPM of each edge are stored in `SwanGraph.edge_adata.layers['counts']` and `SwanGraph.edge_adata.layers['tpm']`. This data is very sparse though so it shows up as all zeroes here!"
   ]
  },
  {
   "cell_type": "code",
   "execution_count": 51,
   "id": "particular-connecticut",
   "metadata": {},
   "outputs": [
    {
     "name": "stdout",
     "output_type": "stream",
     "text": [
      "[[0. 0. 0. 0. 0.]\n",
      " [0. 0. 0. 0. 0.]\n",
      " [0. 0. 0. 0. 0.]\n",
      " [0. 0. 0. 0. 0.]\n",
      " [0. 0. 0. 0. 0.]]\n",
      "[[0. 0. 0. 0. 0.]\n",
      " [0. 0. 0. 0. 0.]\n",
      " [0. 0. 0. 0. 0.]\n",
      " [0. 0. 0. 0. 0.]\n",
      " [0. 0. 0. 0. 0.]]\n"
     ]
    }
   ],
   "source": [
    "print(sg.edge_adata.layers['counts'][:5, :5])\n",
    "print(sg.edge_adata.layers['tpm'][:5, :5])"
   ]
  },
  {
   "cell_type": "markdown",
   "id": "given-isolation",
   "metadata": {},
   "source": [
    "### TSS / TES AnnData"
   ]
  },
  {
   "cell_type": "markdown",
   "id": "destroyed-spirit",
   "metadata": {},
   "source": [
    "You can access TSS and TES expression information using `SwanGraph.tss_adata` and `SwanGraph.tes_adata` respectively.\n",
    "\n",
    "Unlike the other AnnDatas for edge and transcript expression, the `AnnData.var` table hold more information:\n",
    "* automatically-generated TSS or TES id, which is made up of the gene ID the TSS or TES belongs to and its number (tss_id or tes_id)\n",
    "* gene ID that the TSS / TES belongs to (gid)\n",
    "* gene name that the TSS / TES belongs to, if provided (gname)\n",
    "* vertex ID from `SwanGraph.loc_df` that the TSS / TES came from (vertex_id)\n",
    "* automatically-generated TSS or TES id, which is made up of the gene name (if provided) that the TSS or TES belongs to and its number (tss_name or tes_name)"
   ]
  },
  {
   "cell_type": "code",
   "execution_count": 52,
   "id": "paperback-cartoon",
   "metadata": {},
   "outputs": [
    {
     "name": "stdout",
     "output_type": "stream",
     "text": [
      "                                     gid   gname  vertex_id  tss_name\n",
      "tss_id                                                               \n",
      "ENSG00000000003.14_1  ENSG00000000003.14  TSPAN6     926111  TSPAN6_1\n",
      "ENSG00000000003.14_2  ENSG00000000003.14  TSPAN6     926112  TSPAN6_2\n",
      "ENSG00000000003.14_3  ENSG00000000003.14  TSPAN6     926114  TSPAN6_3\n",
      "ENSG00000000003.14_4  ENSG00000000003.14  TSPAN6     926117  TSPAN6_4\n",
      "ENSG00000000005.5_1    ENSG00000000005.5    TNMD     926077    TNMD_1\n",
      "                                     gid   gname  vertex_id  tes_name\n",
      "tes_id                                                               \n",
      "ENSG00000000003.14_1  ENSG00000000003.14  TSPAN6     926092  TSPAN6_1\n",
      "ENSG00000000003.14_2  ENSG00000000003.14  TSPAN6     926093  TSPAN6_2\n",
      "ENSG00000000003.14_3  ENSG00000000003.14  TSPAN6     926097  TSPAN6_3\n",
      "ENSG00000000003.14_4  ENSG00000000003.14  TSPAN6     926100  TSPAN6_4\n",
      "ENSG00000000003.14_5  ENSG00000000003.14  TSPAN6     926103  TSPAN6_5\n"
     ]
    }
   ],
   "source": [
    "print(sg.tss_adata.var.head())\n",
    "print(sg.tes_adata.var.head())"
   ]
  },
  {
   "cell_type": "markdown",
   "id": "binding-aruba",
   "metadata": {},
   "source": [
    "Again the metadata in `SwanGraph.tss_adata` and `SwanGraph.tes_adata` should be identical to the metadata in the other AnnDatas."
   ]
  },
  {
   "cell_type": "code",
   "execution_count": 53,
   "id": "juvenile-combat",
   "metadata": {},
   "outputs": [
    {
     "name": "stdout",
     "output_type": "stream",
     "text": [
      "         dataset cell_line replicate\n",
      "index                               \n",
      "hepg2_1  hepg2_1     hepg2         1\n",
      "hepg2_2  hepg2_2     hepg2         2\n",
      "hffc6_1  hffc6_1     hffc6         1\n",
      "hffc6_2  hffc6_2     hffc6         2\n",
      "hffc6_3  hffc6_3     hffc6         3\n",
      "         dataset cell_line replicate\n",
      "index                               \n",
      "hepg2_1  hepg2_1     hepg2         1\n",
      "hepg2_2  hepg2_2     hepg2         2\n",
      "hffc6_1  hffc6_1     hffc6         1\n",
      "hffc6_2  hffc6_2     hffc6         2\n",
      "hffc6_3  hffc6_3     hffc6         3\n"
     ]
    }
   ],
   "source": [
    "print(sg.tss_adata.obs.head())\n",
    "print(sg.tes_adata.obs.head())"
   ]
  },
  {
   "cell_type": "markdown",
   "id": "alike-teens",
   "metadata": {},
   "source": [
    "And finally, expression data for each TSS / TES are stored in the following layers: \n",
    "`SwanGraph.tss_adata.layers['counts']`, `SwanGraph.tss_adata.layers['tpm']`, `SwanGraph.tss_adata.layers['pi']`, `SwanGraph.tes_adata.layers['counts']`, `SwanGraph.tes_adata.layers['tpm']`, `SwanGraph.tes_adata.layers['pi']`"
   ]
  },
  {
   "cell_type": "code",
   "execution_count": 58,
   "id": "strategic-northeast",
   "metadata": {},
   "outputs": [
    {
     "name": "stdout",
     "output_type": "stream",
     "text": [
      "[[  0.   0.   0.   0. 129.]\n",
      " [  0.   0.   0.   0. 323.]\n",
      " [  9.   0.   0.   0. 212.]\n",
      " [ 16.   0.   0.   0. 173.]\n",
      " [  7.   0.   0.   0. 123.]]\n",
      "[[  0.         0.         0.         0.       258.18228 ]\n",
      " [  0.         0.         0.         0.       380.69556 ]\n",
      " [ 11.818888   0.         0.         0.       278.40045 ]\n",
      " [ 20.305418   0.         0.         0.       219.55234 ]\n",
      " [ 11.383576   0.         0.         0.       200.0257  ]]\n",
      "[[  0.   0.   0.   0. 100.]\n",
      " [  0.   0.   0.   0. 100.]\n",
      " [100.   0.   0.   0. 100.]\n",
      " [100.   0.   0.   0. 100.]\n",
      " [100.   0.   0.   0. 100.]]\n",
      "\n",
      "[[0. 0. 0. 0. 0.]\n",
      " [0. 0. 0. 0. 0.]\n",
      " [0. 0. 0. 0. 0.]\n",
      " [0. 0. 0. 0. 0.]\n",
      " [0. 1. 0. 0. 0.]]\n",
      "[[0.        0.        0.        0.        0.       ]\n",
      " [0.        0.        0.        0.        0.       ]\n",
      " [0.        0.        0.        0.        0.       ]\n",
      " [0.        0.        0.        0.        0.       ]\n",
      " [0.        1.6262251 0.        0.        0.       ]]\n",
      "[[  0.   0.   0.   0.   0.]\n",
      " [  0.   0.   0.   0.   0.]\n",
      " [  0.   0.   0.   0.   0.]\n",
      " [  0.   0.   0.   0.   0.]\n",
      " [  0. 100.   0.   0.   0.]]\n"
     ]
    }
   ],
   "source": [
    "r = 5\n",
    "start_c = 20\n",
    "end_c = 25\n",
    "print(sg.tss_adata.layers['counts'][:r, start_c:end_c])\n",
    "print(sg.tss_adata.layers['tpm'][:r, start_c:end_c])\n",
    "print(sg.tss_adata.layers['pi'][:r, start_c:end_c])\n",
    "print()\n",
    "print(sg.tes_adata.layers['counts'][:r, start_c:end_c])\n",
    "print(sg.tes_adata.layers['tpm'][:r, start_c:end_c])\n",
    "print(sg.tes_adata.layers['pi'][:r, start_c:end_c])"
   ]
  },
  {
   "cell_type": "markdown",
   "id": "76d38a73-a487-41c2-81a3-11779bfd7764",
   "metadata": {},
   "source": [
    "### Intron chain AnnData"
   ]
  },
  {
   "cell_type": "markdown",
   "id": "9647a210-95ec-4a46-89d1-ca12efa183a7",
   "metadata": {},
   "source": [
    "In the case that the transcriptome you added is from [Cerberus](https://github.com/mortazavilab/cerberus/tree/master) or uses Cerberus-style transcript IDs (ie. \\<gene_id\\>\\[1,1,1\\]), Swan will also calculate intron chain counts and TPM automatically. These are stored in `SwanGraph.ic_adata`."
   ]
  },
  {
   "cell_type": "code",
   "execution_count": 6,
   "id": "445097d4-f377-42ef-ab5c-b1cda35734b0",
   "metadata": {
    "tags": []
   },
   "outputs": [
    {
     "name": "stdout",
     "output_type": "stream",
     "text": [
      "Read in graph from ../tutorials/data/swan_modelad.p\n"
     ]
    },
    {
     "data": {
      "text/html": [
       "<div>\n",
       "<style scoped>\n",
       "    .dataframe tbody tr th:only-of-type {\n",
       "        vertical-align: middle;\n",
       "    }\n",
       "\n",
       "    .dataframe tbody tr th {\n",
       "        vertical-align: top;\n",
       "    }\n",
       "\n",
       "    .dataframe thead th {\n",
       "        text-align: right;\n",
       "    }\n",
       "</style>\n",
       "<table border=\"1\" class=\"dataframe\">\n",
       "  <thead>\n",
       "    <tr style=\"text-align: right;\">\n",
       "      <th></th>\n",
       "      <th>gid</th>\n",
       "      <th>gname</th>\n",
       "      <th>ic_name</th>\n",
       "      <th>n_cells</th>\n",
       "    </tr>\n",
       "    <tr>\n",
       "      <th>ic_id</th>\n",
       "      <th></th>\n",
       "      <th></th>\n",
       "      <th></th>\n",
       "      <th></th>\n",
       "    </tr>\n",
       "  </thead>\n",
       "  <tbody>\n",
       "    <tr>\n",
       "      <th>ENSMUSG00000118369_2</th>\n",
       "      <td>ENSMUSG00000118369</td>\n",
       "      <td>Gm30541</td>\n",
       "      <td>Gm30541_2</td>\n",
       "      <td>14</td>\n",
       "    </tr>\n",
       "    <tr>\n",
       "      <th>ENSMUSG00000118380_3</th>\n",
       "      <td>ENSMUSG00000118380</td>\n",
       "      <td>Gm36037</td>\n",
       "      <td>Gm36037_3</td>\n",
       "      <td>1</td>\n",
       "    </tr>\n",
       "    <tr>\n",
       "      <th>ENSMUSG00000118382_1</th>\n",
       "      <td>ENSMUSG00000118382</td>\n",
       "      <td>Gm8373</td>\n",
       "      <td>Gm8373_1</td>\n",
       "      <td>2</td>\n",
       "    </tr>\n",
       "    <tr>\n",
       "      <th>ENSMUSG00000118383_1</th>\n",
       "      <td>ENSMUSG00000118383</td>\n",
       "      <td>Gm50321</td>\n",
       "      <td>Gm50321_1</td>\n",
       "      <td>14</td>\n",
       "    </tr>\n",
       "    <tr>\n",
       "      <th>ENSMUSG00000118390_1</th>\n",
       "      <td>ENSMUSG00000118390</td>\n",
       "      <td>Gm50102</td>\n",
       "      <td>Gm50102_1</td>\n",
       "      <td>1</td>\n",
       "    </tr>\n",
       "  </tbody>\n",
       "</table>\n",
       "</div>"
      ],
      "text/plain": [
       "                                     gid    gname    ic_name  n_cells\n",
       "ic_id                                                                \n",
       "ENSMUSG00000118369_2  ENSMUSG00000118369  Gm30541  Gm30541_2       14\n",
       "ENSMUSG00000118380_3  ENSMUSG00000118380  Gm36037  Gm36037_3        1\n",
       "ENSMUSG00000118382_1  ENSMUSG00000118382   Gm8373   Gm8373_1        2\n",
       "ENSMUSG00000118383_1  ENSMUSG00000118383  Gm50321  Gm50321_1       14\n",
       "ENSMUSG00000118390_1  ENSMUSG00000118390  Gm50102  Gm50102_1        1"
      ]
     },
     "execution_count": 6,
     "metadata": {},
     "output_type": "execute_result"
    }
   ],
   "source": [
    "sg = swan.read('../tutorials/data/swan_modelad.p')\n",
    "sg.ic_adata.var.tail()"
   ]
  },
  {
   "cell_type": "markdown",
   "id": "opposed-lesson",
   "metadata": {},
   "source": [
    "##  <a name=\"pg\"></a>Current plotted graph information"
   ]
  },
  {
   "cell_type": "markdown",
   "id": "persistent-nelson",
   "metadata": {},
   "source": [
    "To reduce run time for generating gene reports, Swan stores the subgraph that is used to generate plots for any specific gene in `SwanGraph.pg`. This object is very similar to the parent `SwanGraph` object. It has a `loc_df`, `edge_df`, and `t_df` that just consist of the nodes, edges, and transcripts that make up a specific gene. This data structure can be helpful for understanding what is going on in generated plots as the node labels are not consistent with the display labels in Swan plots."
   ]
  },
  {
   "cell_type": "markdown",
   "id": "supreme-princeton",
   "metadata": {},
   "source": [
    "For instance, let's again plot ADRM1."
   ]
  },
  {
   "cell_type": "code",
   "execution_count": 59,
   "id": "enormous-miller",
   "metadata": {},
   "outputs": [
    {
     "data": {
      "image/png": "[encoded data removed]",
      "text/plain": [
       "<Figure size 1008x201.6 with 1 Axes>"
      ]
     },
     "metadata": {},
     "output_type": "display_data"
    }
   ],
   "source": [
    "sg.plot_graph('ADRM1')"
   ]
  },
  {
   "cell_type": "markdown",
   "id": "confirmed-voice",
   "metadata": {},
   "source": [
    "In `SwanGraph.pg.loc_df`, you can see what genomic location each node plotted in the gene's graph corresponds to:"
   ]
  },
  {
   "cell_type": "code",
   "execution_count": 61,
   "id": "otherwise-intensity",
   "metadata": {},
   "outputs": [
    {
     "data": {
      "text/html": [
       "<div>\n",
       "<style scoped>\n",
       "    .dataframe tbody tr th:only-of-type {\n",
       "        vertical-align: middle;\n",
       "    }\n",
       "\n",
       "    .dataframe tbody tr th {\n",
       "        vertical-align: top;\n",
       "    }\n",
       "\n",
       "    .dataframe thead th {\n",
       "        text-align: right;\n",
       "    }\n",
       "</style>\n",
       "<table border=\"1\" class=\"dataframe\">\n",
       "  <thead>\n",
       "    <tr style=\"text-align: right;\">\n",
       "      <th></th>\n",
       "      <th>chrom</th>\n",
       "      <th>coord</th>\n",
       "      <th>vertex_id</th>\n",
       "      <th>annotation</th>\n",
       "      <th>internal</th>\n",
       "      <th>TSS</th>\n",
       "      <th>TES</th>\n",
       "      <th>color</th>\n",
       "      <th>edgecolor</th>\n",
       "      <th>linewidth</th>\n",
       "    </tr>\n",
       "    <tr>\n",
       "      <th>vertex_id</th>\n",
       "      <th></th>\n",
       "      <th></th>\n",
       "      <th></th>\n",
       "      <th></th>\n",
       "      <th></th>\n",
       "      <th></th>\n",
       "      <th></th>\n",
       "      <th></th>\n",
       "      <th></th>\n",
       "      <th></th>\n",
       "    </tr>\n",
       "  </thead>\n",
       "  <tbody>\n",
       "    <tr>\n",
       "      <th>0</th>\n",
       "      <td>chr20</td>\n",
       "      <td>62302093</td>\n",
       "      <td>0</td>\n",
       "      <td>True</td>\n",
       "      <td>False</td>\n",
       "      <td>True</td>\n",
       "      <td>False</td>\n",
       "      <td>tss</td>\n",
       "      <td>None</td>\n",
       "      <td>None</td>\n",
       "    </tr>\n",
       "    <tr>\n",
       "      <th>1</th>\n",
       "      <td>chr20</td>\n",
       "      <td>62302142</td>\n",
       "      <td>1</td>\n",
       "      <td>True</td>\n",
       "      <td>True</td>\n",
       "      <td>False</td>\n",
       "      <td>False</td>\n",
       "      <td>internal</td>\n",
       "      <td>None</td>\n",
       "      <td>None</td>\n",
       "    </tr>\n",
       "    <tr>\n",
       "      <th>2</th>\n",
       "      <td>chr20</td>\n",
       "      <td>62302896</td>\n",
       "      <td>2</td>\n",
       "      <td>True</td>\n",
       "      <td>True</td>\n",
       "      <td>True</td>\n",
       "      <td>False</td>\n",
       "      <td>tss</td>\n",
       "      <td>None</td>\n",
       "      <td>None</td>\n",
       "    </tr>\n",
       "    <tr>\n",
       "      <th>3</th>\n",
       "      <td>chr20</td>\n",
       "      <td>62303045</td>\n",
       "      <td>3</td>\n",
       "      <td>False</td>\n",
       "      <td>True</td>\n",
       "      <td>False</td>\n",
       "      <td>False</td>\n",
       "      <td>internal</td>\n",
       "      <td>None</td>\n",
       "      <td>None</td>\n",
       "    </tr>\n",
       "    <tr>\n",
       "      <th>4</th>\n",
       "      <td>chr20</td>\n",
       "      <td>62303049</td>\n",
       "      <td>4</td>\n",
       "      <td>True</td>\n",
       "      <td>True</td>\n",
       "      <td>False</td>\n",
       "      <td>False</td>\n",
       "      <td>internal</td>\n",
       "      <td>None</td>\n",
       "      <td>None</td>\n",
       "    </tr>\n",
       "  </tbody>\n",
       "</table>\n",
       "</div>"
      ],
      "text/plain": [
       "           chrom     coord  vertex_id  annotation  internal    TSS    TES  \\\n",
       "vertex_id                                                                   \n",
       "0          chr20  62302093          0        True     False   True  False   \n",
       "1          chr20  62302142          1        True      True  False  False   \n",
       "2          chr20  62302896          2        True      True   True  False   \n",
       "3          chr20  62303045          3       False      True  False  False   \n",
       "4          chr20  62303049          4        True      True  False  False   \n",
       "\n",
       "              color edgecolor linewidth  \n",
       "vertex_id                                \n",
       "0               tss      None      None  \n",
       "1          internal      None      None  \n",
       "2               tss      None      None  \n",
       "3          internal      None      None  \n",
       "4          internal      None      None  "
      ]
     },
     "execution_count": 61,
     "metadata": {},
     "output_type": "execute_result"
    }
   ],
   "source": [
    "sg.pg.loc_df.head()"
   ]
  },
  {
   "cell_type": "markdown",
   "id": "simple-sharing",
   "metadata": {},
   "source": [
    "In `SwanGraph.pg.edge_df`, you can see information about each edge, indexed by the subgraph vertex IDs from `SwanGraph.pg.loc_df`:"
   ]
  },
  {
   "cell_type": "code",
   "execution_count": 63,
   "id": "derived-saskatchewan",
   "metadata": {},
   "outputs": [
    {
     "data": {
      "text/html": [
       "<div>\n",
       "<style scoped>\n",
       "    .dataframe tbody tr th:only-of-type {\n",
       "        vertical-align: middle;\n",
       "    }\n",
       "\n",
       "    .dataframe tbody tr th {\n",
       "        vertical-align: top;\n",
       "    }\n",
       "\n",
       "    .dataframe thead th {\n",
       "        text-align: right;\n",
       "    }\n",
       "</style>\n",
       "<table border=\"1\" class=\"dataframe\">\n",
       "  <thead>\n",
       "    <tr style=\"text-align: right;\">\n",
       "      <th></th>\n",
       "      <th>v1</th>\n",
       "      <th>v2</th>\n",
       "      <th>strand</th>\n",
       "      <th>edge_type</th>\n",
       "      <th>edge_id</th>\n",
       "      <th>annotation</th>\n",
       "      <th>curve</th>\n",
       "      <th>color</th>\n",
       "      <th>line</th>\n",
       "    </tr>\n",
       "    <tr>\n",
       "      <th>edge_id</th>\n",
       "      <th></th>\n",
       "      <th></th>\n",
       "      <th></th>\n",
       "      <th></th>\n",
       "      <th></th>\n",
       "      <th></th>\n",
       "      <th></th>\n",
       "      <th></th>\n",
       "      <th></th>\n",
       "    </tr>\n",
       "  </thead>\n",
       "  <tbody>\n",
       "    <tr>\n",
       "      <th>884037</th>\n",
       "      <td>0</td>\n",
       "      <td>1</td>\n",
       "      <td>+</td>\n",
       "      <td>exon</td>\n",
       "      <td>884037</td>\n",
       "      <td>True</td>\n",
       "      <td>arc3,rad=4.000000000000002</td>\n",
       "      <td>exon</td>\n",
       "      <td>None</td>\n",
       "    </tr>\n",
       "    <tr>\n",
       "      <th>884038</th>\n",
       "      <td>1</td>\n",
       "      <td>2</td>\n",
       "      <td>+</td>\n",
       "      <td>intron</td>\n",
       "      <td>884038</td>\n",
       "      <td>True</td>\n",
       "      <td>arc3,rad=-3.9999999999999964</td>\n",
       "      <td>intron</td>\n",
       "      <td>None</td>\n",
       "    </tr>\n",
       "    <tr>\n",
       "      <th>884039</th>\n",
       "      <td>2</td>\n",
       "      <td>4</td>\n",
       "      <td>+</td>\n",
       "      <td>exon</td>\n",
       "      <td>884039</td>\n",
       "      <td>True</td>\n",
       "      <td>arc3,rad=1.9999999999999996</td>\n",
       "      <td>exon</td>\n",
       "      <td>None</td>\n",
       "    </tr>\n",
       "    <tr>\n",
       "      <th>884040</th>\n",
       "      <td>4</td>\n",
       "      <td>6</td>\n",
       "      <td>+</td>\n",
       "      <td>intron</td>\n",
       "      <td>884040</td>\n",
       "      <td>True</td>\n",
       "      <td>arc3,rad=-2.000000000000001</td>\n",
       "      <td>intron</td>\n",
       "      <td>None</td>\n",
       "    </tr>\n",
       "    <tr>\n",
       "      <th>884041</th>\n",
       "      <td>6</td>\n",
       "      <td>7</td>\n",
       "      <td>+</td>\n",
       "      <td>exon</td>\n",
       "      <td>884041</td>\n",
       "      <td>True</td>\n",
       "      <td>arc3,rad=3.9999999999999964</td>\n",
       "      <td>exon</td>\n",
       "      <td>None</td>\n",
       "    </tr>\n",
       "  </tbody>\n",
       "</table>\n",
       "</div>"
      ],
      "text/plain": [
       "         v1  v2 strand edge_type  edge_id  annotation  \\\n",
       "edge_id                                                 \n",
       "884037    0   1      +      exon   884037        True   \n",
       "884038    1   2      +    intron   884038        True   \n",
       "884039    2   4      +      exon   884039        True   \n",
       "884040    4   6      +    intron   884040        True   \n",
       "884041    6   7      +      exon   884041        True   \n",
       "\n",
       "                                curve   color  line  \n",
       "edge_id                                              \n",
       "884037     arc3,rad=4.000000000000002    exon  None  \n",
       "884038   arc3,rad=-3.9999999999999964  intron  None  \n",
       "884039    arc3,rad=1.9999999999999996    exon  None  \n",
       "884040    arc3,rad=-2.000000000000001  intron  None  \n",
       "884041    arc3,rad=3.9999999999999964    exon  None  "
      ]
     },
     "execution_count": 63,
     "metadata": {},
     "output_type": "execute_result"
    }
   ],
   "source": [
    "sg.pg.edge_df.head()"
   ]
  },
  {
   "cell_type": "markdown",
   "id": "floral-creativity",
   "metadata": {},
   "source": [
    "And finally, `SwanGraph.pg.t_df` holds the information about each transcript in the gene:"
   ]
  },
  {
   "cell_type": "code",
   "execution_count": 65,
   "id": "brilliant-providence",
   "metadata": {},
   "outputs": [
    {
     "data": {
      "text/html": [
       "<div>\n",
       "<style scoped>\n",
       "    .dataframe tbody tr th:only-of-type {\n",
       "        vertical-align: middle;\n",
       "    }\n",
       "\n",
       "    .dataframe tbody tr th {\n",
       "        vertical-align: top;\n",
       "    }\n",
       "\n",
       "    .dataframe thead th {\n",
       "        text-align: right;\n",
       "    }\n",
       "</style>\n",
       "<table border=\"1\" class=\"dataframe\">\n",
       "  <thead>\n",
       "    <tr style=\"text-align: right;\">\n",
       "      <th></th>\n",
       "      <th>tname</th>\n",
       "      <th>gid</th>\n",
       "      <th>gname</th>\n",
       "      <th>path</th>\n",
       "      <th>tid</th>\n",
       "      <th>loc_path</th>\n",
       "      <th>annotation</th>\n",
       "      <th>novelty</th>\n",
       "    </tr>\n",
       "    <tr>\n",
       "      <th>tid</th>\n",
       "      <th></th>\n",
       "      <th></th>\n",
       "      <th></th>\n",
       "      <th></th>\n",
       "      <th></th>\n",
       "      <th></th>\n",
       "      <th></th>\n",
       "      <th></th>\n",
       "    </tr>\n",
       "  </thead>\n",
       "  <tbody>\n",
       "    <tr>\n",
       "      <th>ENST00000253003.6</th>\n",
       "      <td>ADRM1-201</td>\n",
       "      <td>ENSG00000130706.12</td>\n",
       "      <td>ADRM1</td>\n",
       "      <td>[884039, 884040, 884041, 884042, 884043, 88404...</td>\n",
       "      <td>ENST00000253003.6</td>\n",
       "      <td>[2, 4, 6, 7, 9, 10, 11, 12, 13, 14, 15, 16, 17...</td>\n",
       "      <td>True</td>\n",
       "      <td>Known</td>\n",
       "    </tr>\n",
       "    <tr>\n",
       "      <th>ENST00000462554.2</th>\n",
       "      <td>ADRM1-202</td>\n",
       "      <td>ENSG00000130706.12</td>\n",
       "      <td>ADRM1</td>\n",
       "      <td>[884060, 884058, 884045, 884046, 884047]</td>\n",
       "      <td>ENST00000462554.2</td>\n",
       "      <td>[5, 7, 11, 12, 13, 14]</td>\n",
       "      <td>True</td>\n",
       "      <td>Known</td>\n",
       "    </tr>\n",
       "    <tr>\n",
       "      <th>ENST00000465805.2</th>\n",
       "      <td>ADRM1-203</td>\n",
       "      <td>ENSG00000130706.12</td>\n",
       "      <td>ADRM1</td>\n",
       "      <td>[884061, 884044, 884045, 884046, 884047]</td>\n",
       "      <td>ENST00000465805.2</td>\n",
       "      <td>[8, 10, 11, 12, 13, 14]</td>\n",
       "      <td>True</td>\n",
       "      <td>Known</td>\n",
       "    </tr>\n",
       "    <tr>\n",
       "      <th>ENST00000491935.5</th>\n",
       "      <td>ADRM1-204</td>\n",
       "      <td>ENSG00000130706.12</td>\n",
       "      <td>ADRM1</td>\n",
       "      <td>[884037, 884038, 884039, 884040, 884041, 88404...</td>\n",
       "      <td>ENST00000491935.5</td>\n",
       "      <td>[0, 1, 2, 4, 6, 7, 9, 10, 11, 12, 13, 14, 15, ...</td>\n",
       "      <td>True</td>\n",
       "      <td>Known</td>\n",
       "    </tr>\n",
       "    <tr>\n",
       "      <th>ENST00000620230.4</th>\n",
       "      <td>ADRM1-205</td>\n",
       "      <td>ENSG00000130706.12</td>\n",
       "      <td>ADRM1</td>\n",
       "      <td>[884039, 884040, 884041, 884058, 884045, 88404...</td>\n",
       "      <td>ENST00000620230.4</td>\n",
       "      <td>[2, 4, 6, 7, 11, 12, 13, 14, 15, 16, 17, 18, 1...</td>\n",
       "      <td>True</td>\n",
       "      <td>Known</td>\n",
       "    </tr>\n",
       "  </tbody>\n",
       "</table>\n",
       "</div>"
      ],
      "text/plain": [
       "                       tname                 gid  gname  \\\n",
       "tid                                                       \n",
       "ENST00000253003.6  ADRM1-201  ENSG00000130706.12  ADRM1   \n",
       "ENST00000462554.2  ADRM1-202  ENSG00000130706.12  ADRM1   \n",
       "ENST00000465805.2  ADRM1-203  ENSG00000130706.12  ADRM1   \n",
       "ENST00000491935.5  ADRM1-204  ENSG00000130706.12  ADRM1   \n",
       "ENST00000620230.4  ADRM1-205  ENSG00000130706.12  ADRM1   \n",
       "\n",
       "                                                                path  \\\n",
       "tid                                                                    \n",
       "ENST00000253003.6  [884039, 884040, 884041, 884042, 884043, 88404...   \n",
       "ENST00000462554.2           [884060, 884058, 884045, 884046, 884047]   \n",
       "ENST00000465805.2           [884061, 884044, 884045, 884046, 884047]   \n",
       "ENST00000491935.5  [884037, 884038, 884039, 884040, 884041, 88404...   \n",
       "ENST00000620230.4  [884039, 884040, 884041, 884058, 884045, 88404...   \n",
       "\n",
       "                                 tid  \\\n",
       "tid                                    \n",
       "ENST00000253003.6  ENST00000253003.6   \n",
       "ENST00000462554.2  ENST00000462554.2   \n",
       "ENST00000465805.2  ENST00000465805.2   \n",
       "ENST00000491935.5  ENST00000491935.5   \n",
       "ENST00000620230.4  ENST00000620230.4   \n",
       "\n",
       "                                                            loc_path  \\\n",
       "tid                                                                    \n",
       "ENST00000253003.6  [2, 4, 6, 7, 9, 10, 11, 12, 13, 14, 15, 16, 17...   \n",
       "ENST00000462554.2                             [5, 7, 11, 12, 13, 14]   \n",
       "ENST00000465805.2                            [8, 10, 11, 12, 13, 14]   \n",
       "ENST00000491935.5  [0, 1, 2, 4, 6, 7, 9, 10, 11, 12, 13, 14, 15, ...   \n",
       "ENST00000620230.4  [2, 4, 6, 7, 11, 12, 13, 14, 15, 16, 17, 18, 1...   \n",
       "\n",
       "                   annotation novelty  \n",
       "tid                                    \n",
       "ENST00000253003.6        True   Known  \n",
       "ENST00000462554.2        True   Known  \n",
       "ENST00000465805.2        True   Known  \n",
       "ENST00000491935.5        True   Known  \n",
       "ENST00000620230.4        True   Known  "
      ]
     },
     "execution_count": 65,
     "metadata": {},
     "output_type": "execute_result"
    }
   ],
   "source": [
    "sg.pg.t_df.head()"
   ]
  }
 ],
 "metadata": {
  "kernelspec": {
   "display_name": "Python 3 (ipykernel)",
   "language": "python",
   "name": "python3"
  },
  "language_info": {
   "codemirror_mode": {
    "name": "ipython",
    "version": 3
   },
   "file_extension": ".py",
   "mimetype": "text/x-python",
   "name": "python",
   "nbconvert_exporter": "python",
   "pygments_lexer": "ipython3",
   "version": "3.7.12"
  }
 },
 "nbformat": 4,
 "nbformat_minor": 5
}
